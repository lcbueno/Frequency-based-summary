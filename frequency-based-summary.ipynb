{
 "cells": [
  {
   "cell_type": "markdown",
   "id": "156f9fd7",
   "metadata": {
    "papermill": {
     "duration": 0.01941,
     "end_time": "2021-12-09T20:15:07.002821",
     "exception": false,
     "start_time": "2021-12-09T20:15:06.983411",
     "status": "completed"
    },
    "tags": []
   },
   "source": [
    "# **Database loading and exploration**"
   ]
  },
  {
   "cell_type": "code",
   "execution_count": 1,
   "id": "8c601474",
   "metadata": {
    "execution": {
     "iopub.execute_input": "2021-12-09T20:15:07.045876Z",
     "iopub.status.busy": "2021-12-09T20:15:07.044820Z",
     "iopub.status.idle": "2021-12-09T20:15:07.052915Z",
     "shell.execute_reply": "2021-12-09T20:15:07.053375Z",
     "shell.execute_reply.started": "2021-12-09T20:12:42.270536Z"
    },
    "papermill": {
     "duration": 0.029975,
     "end_time": "2021-12-09T20:15:07.053655",
     "exception": false,
     "start_time": "2021-12-09T20:15:07.023680",
     "status": "completed"
    },
    "tags": []
   },
   "outputs": [],
   "source": [
    "data = '../input/resumo-carta-pedro-vaz-de-caminha/Carta_a_El_Rei_D._Manuel_(ortografia_atualizada).txt'"
   ]
  },
  {
   "cell_type": "code",
   "execution_count": 2,
   "id": "2bdb2d96",
   "metadata": {
    "execution": {
     "iopub.execute_input": "2021-12-09T20:15:07.092725Z",
     "iopub.status.busy": "2021-12-09T20:15:07.092166Z",
     "iopub.status.idle": "2021-12-09T20:15:07.115095Z",
     "shell.execute_reply": "2021-12-09T20:15:07.115630Z",
     "shell.execute_reply.started": "2021-12-09T20:12:42.336729Z"
    },
    "papermill": {
     "duration": 0.044024,
     "end_time": "2021-12-09T20:15:07.115803",
     "exception": false,
     "start_time": "2021-12-09T20:15:07.071779",
     "status": "completed"
    },
    "tags": []
   },
   "outputs": [],
   "source": [
    "dataset_text = open(data, 'rb').read().decode(encoding = 'utf-8')"
   ]
  },
  {
   "cell_type": "code",
   "execution_count": 3,
   "id": "239a4e71",
   "metadata": {
    "execution": {
     "iopub.execute_input": "2021-12-09T20:15:07.154985Z",
     "iopub.status.busy": "2021-12-09T20:15:07.154382Z",
     "iopub.status.idle": "2021-12-09T20:15:07.161944Z",
     "shell.execute_reply": "2021-12-09T20:15:07.162662Z",
     "shell.execute_reply.started": "2021-12-09T20:12:42.347642Z"
    },
    "papermill": {
     "duration": 0.02884,
     "end_time": "2021-12-09T20:15:07.162888",
     "exception": false,
     "start_time": "2021-12-09T20:15:07.134048",
     "status": "completed"
    },
    "tags": []
   },
   "outputs": [
    {
     "name": "stdout",
     "output_type": "stream",
     "text": [
      "Carta de Pero Vaz de Caminha\n",
      "\n",
      "\n",
      "\t\t\t\t\tPero Vaz de Caminha\n",
      "\n",
      "\n",
      "\n",
      "\n",
      "\n",
      "Conteúdo exportado da wiki Wikisource em 8 de dezembro de 2021\n",
      "\n",
      "\n",
      "\n",
      "\n",
      "\n",
      "Senhor,\n",
      "\n",
      "posto que o Capitão-mor desta Vossa frota, e assim os outros capitães escrevam a Vossa Alteza a nova do achamento desta Vossa terra nova, que se agora nesta navegação achou, não deixarei de também dar disso minha conta a Vossa Alteza, assim como eu melhor puder, ainda que — para o bem contar e falar — o saiba pior que todos fazer!\n",
      "\n",
      "Todavia tome Vossa Alteza minha ignorância por boa vontade, a qual bem certo creia que, para aformosentar nem afear, aqui não há de pôr mais do que aquilo que vi e me pareceu.\n",
      "\n",
      "Da marinhagem e das singraduras do caminho não darei aqui conta a Vossa Alteza — porque o não saberei fazer — e os pilotos devem ter este cuidado.\n",
      "\n",
      "E portanto, Senhor, do que hei de falar começo:\n",
      "\n",
      "E digo quê:\n",
      "\n",
      "A partida de Belém foi, como Vossa Alteza sabe, segunda-feira 9 de Março. E sábado, 14 do dito mês, entre as 8 e 9 horas, nos achamos entre as Canárias, mais perto da Grande Canária. E ali andamos todo aquele dia em calma, à vista delas, obra de três a quatro léguas. E domingo, 22 do dito mês, às dez horas mais ou menos, houvemos vista das ilhas de Cabo Verde, a saber da ilha de São Nicolau, segundo o dito de Pero Escolar, piloto.\n",
      "\n",
      "Na noite seguinte à segunda-feira amanheceu, se perdeu da frota Vasco de Ataíde com a sua nau, sem haver tempo forte ou contrário para poder ser!\n",
      "\n",
      "Fez o capitão suas diligências para o achar, em umas e outras partes. Mas... não apareceu mais!\n",
      "\n",
      "E assim seguimos nosso caminho, por este mar de longo, até que terça-feira das Oitavas de Páscoa, que foram 21 dias de abril, topamos alguns sinais de terra, estando da dita Ilha — segundo os pilotos diziam, obra de 660 ou 670 léguas — os quais eram muita quantidade de ervas compridas, a que os mareantes chamam botelho, e assim mesmo outras a que dão o nome de rabo-de-asno. E quarta-feira seguinte, pela manhã, topamos aves a que chamam furabuchos.\n",
      "\n",
      "Neste mesmo dia, a horas de véspera, houvemos vista de terra! A saber, primeiramente de um grande monte, muito alto e redondo; e de outras serras mais baixas ao sul dele; e de terra chã, com grandes arvoredos; ao qual monte alto o capitão pôs o nome de O Monte Pascoal e à terra A Terra de Vera Cruz! Mandou lançar o prumo. Acharam vinte e cinco braças. E ao sol-posto umas seis léguas da terra, lançamos ancoras, em dezenove braças — ancoragem limpa. Ali ficamo-nos toda aquela noite. E quinta-feira, pela manhã, fizemos vela e seguimos em direitura à terra, indo os navios pequenos diante — por dezessete, dezesseis, quinze, catorze, doze, nove braças — até meia légua da terra, onde todos lançamos ancoras, em frente da boca de um rio. E chegaríamos a esta ancoragem às dez horas, pouco mais ou menos.\n",
      "\n",
      "E dali avistamos homens que andavam pela praia, uns sete ou oito, segundo disseram os navios pequenos que chegaram primeiro.\n",
      "\n",
      "Então lançamos fora os batéis e esquifes. E logo vieram todos os capitães das naus a esta nau do Capitão-mor. E ali falaram. E o Capitão mandou em terra a Nicolau Coelho para ver aquele rio. E tanto que ele começou a ir-se para lá, acudiram pela praia homens aos dois e aos três, de maneira que, quando o batel chegou à boca do rio, já lá estavam dezoito ou vinte.\n",
      "\n",
      "Pardos, nus, sem coisa alguma que lhes cobrisse suas vergonhas. Traziam arcos nas mãos, e suas setas. Vinham todos rijamente em direção ao batel. E Nicolau Coelho lhes fez sinal que pousassem os arcos. E eles os depuseram. Mas não pôde deles haver fala nem entendimento que aproveitasse, por o mar quebrar na costa. Somente arremessou-lhe um barrete vermelho e uma carapuça de linho que levava na cabeça, e um sombreiro preto. E um deles lhe arremessou um sombreiro de penas de ave, compridas, com uma copazinha de penas vermelhas e pardas, como de papagaio. E outro lhe deu um ramal grande de continhas brancas, miúdas que querem parecer de aljôfar, as quais peças creio que o Capitão manda a Vossa Alteza. E com isto se volveu às naus por ser tarde e não poder haver deles mais fala, por causa do mar.\n",
      "\n",
      "À noite seguinte ventou tanto sueste com chuvaceiros que fez caçar as naus. E especialmente a Capitaina. E sexta pela manhã, às oito horas, pouco mais ou menos, por conselho dos pilotos, mandou o Capitão levantar ancoras e fazer vela. E fomos de longo da costa, com os batéis e esquifes amarrados na popa, em direção norte, para ver se achávamos alguma abrigada e bom pouso, onde nós ficássemos, para tomar água e lenha. Não por nos já minguar, mas por nos prevenirmos aqui. E quando fizemos vela estariam já na praia assentados perto do rio obra de sessenta ou setenta homens que se haviam juntado ali aos poucos. Fomos ao longo, e mandou o Capitão aos navios pequenos que fossem mais chegados à terra e, se achassem pouso seguro para as naus, que amainassem.\n",
      "\n",
      "E velejando nós pela costa, na distância de dez léguas do sítio onde tínhamos levantado ferro, acharam os ditos navios pequenos um recife com um porto dentro, muito bom e muito seguro, com uma mui larga entrada. E meteram-se dentro e amainaram. E as naus foram-se chegando, atrás deles. E um pouco antes de sol-pôsto amainaram também, talvez a uma légua do recife, e ancoraram a onze braças.\n",
      "\n",
      "E estando Afonso Lopez, nosso piloto, em um daqueles navios pequenos, foi, por mandado do Capitão, por ser homem vivo e destro para isso, meter-se logo no esquife a sondar o porto dentro. E tomou dois daqueles homens da terra que estavam numa almadia: mancebos e de bons corpos. Um deles trazia um arco, e seis ou sete setas. E na praia andavam muitos com seus arcos e setas; mas não os aproveitou. Logo, já de noite, levou-os à Capitaina, onde foram recebidos com muito prazer e festa.\n",
      "\n",
      "A feição deles é serem pardos, um tanto avermelhados, de bons rostos e bons narizes, bem feitos. Andam nus, sem cobertura alguma. Nem fazem mais caso de encobrir ou deixa de encobrir suas vergonhas do que de mostrar a cara. Acerca disso são de grande inocência. Ambos traziam o beiço de baixo furado e metido nele um osso verdadeiro, de comprimento de uma mão travessa, e da grossura de um fuso de algodão, agudo na ponta como um furador. Metem-nos pela parte de dentro do beiço; e a parte que lhes fica entre o beiço e os dentes é feita a modo de roque de xadrez. E trazem-no ali encaixado de sorte que não os magoa, nem lhes põe estorvo no falar, nem no comer e beber.\n",
      "\n",
      "Os cabelos deles são corredios. E andavam tosquiados, de tosquia alta antes do que sobre-pente, de boa grandeza, rapados todavia por cima das orelhas. E um deles trazia por baixo da solapa, de fonte a fonte, na parte detrás, uma espécie de cabeleira, de penas de ave amarela, que seria do comprimento de um coto, mui basta e mui cerrada, que lhe cobria o toutiço e as orelhas. E andava pegada aos cabelos, pena por pena, com uma confeição branda como, de maneira tal que a cabeleira era mui redonda e mui basta, e mui igual, e não fazia míngua mais lavagem para a levantar. O Capitão, quando eles vieram, estava sentado em uma cadeira, aos pés uma alcatifa por estrado; e bem vestido, com um colar de ouro, mui grande, ao pescoço. E Sancho de Tovar, e Simão de Miranda, e Nicolau Coelho, e Aires Corrêa, e nós outros que aqui na nau com ele íamos, sentados no chão, nessa alcatifa. Acenderam-se tochas. E eles entraram. Mas nem sinal de cortesia fizeram, nem de falar ao Capitão; nem a alguém. Todavia um deles fitou o colar do Capitão, e começou a fazer acenos com a mão em direção à terra, e depois para o colar, como se quisesse dizer-nos que havia ouro na terra. E também olhou para um castiçal de prata e assim mesmo acenava para a terra e novamente para o castiçal, como se lá também houvesse prata!\n",
      "\n",
      "Mostraram-lhes um papagaio pardo que o Capitão traz consigo; tomaram-no logo na mão e acenaram para a terra, como se os houvesse ali.\n",
      "\n",
      "Mostraram-lhes um carneiro; não fizeram caso dele.\n",
      "\n",
      "Mostraram-lhes uma galinha; quase tiveram medo dela, e não lhe queriam pôr a mão. Depois lhe pegaram, mas como espantados.\n",
      "\n",
      "Deram-lhes ali de comer: pão e peixe cozido, confeitos, fartéis, mel, figos passados. Não quiseram comer daquilo quase nada; e se provavam alguma coisa, logo a lançavam fora.\n",
      "\n",
      "Trouxeram-lhes vinho em uma taça; mal lhe puseram a boca; não gostaram dele nada, nem quiseram mais.\n",
      "\n",
      "Trouxeram-lhes água em uma albarrada, provaram cada um o seu bochecho, mas não beberam; apenas lavaram as bocas e lançaram-na fora.\n",
      "\n",
      "Viu um deles umas contas de rosário, brancas; fez sinal que lhas dessem, e folgou muito com elas, e lançou-as ao pescoço; e depois tirou-as e meteu-as em volta do braço, e acenava para a terra e novamente para as contas e para o colar do Capitão, como se dariam ouro por aquilo.\n",
      "\n",
      "Isto tomávamos nós nesse sentido, por assim o desejarmos! Mas se ele queria dizer que levaria as contas e mais o colar, isto não queríamos nós entender, por que lho não havíamos de dar! E depois tornou as contas a quem lhas dera. E então estiraram-se de costas na alcatifa, a dormir sem procurarem maneiras de encobrir suas vergonhas, as quais não eram fanadas; e as cabeleiras delas estavam bem rapadas e feitas.\n",
      "\n",
      "O Capitão mandou pôr por baixo da cabeça de cada um seu coxim; e o da cabeleira esforçava-se por não a estragar. E deitaram um manto por cima deles; e consentindo, aconchegaram-se e adormeceram.\n",
      "\n",
      "Sábado pela manhã mandou o Capitão fazer vela, fomos demandar a entrada, a qual era mui larga e tinha seis a sete braças de fundo. E entraram todas as naus dentro, e ancoraram em cinco ou seis braças — ancoradouro que é tão grande e tão formoso de dentro, e tão seguro que podem ficar nele mais de duzentos navios e naus. E tanto que as naus foram distribuídas e ancoradas, vieram os capitães todos a esta nau do Capitão-mor. E daqui mandou o Capitão que Nicolau Coelho e Bartolomeu Dias fossem em terra e levassem aqueles dois homens, e os deixassem ir com seu arco e setas, aos quais mandou dar a cada um uma camisa nova e uma carapuça vermelha e um rosário de contas brancas de osso, que foram levando nos braços, e um cascavel e uma campainha. E mandou com eles, para lá ficar, um mancebo degredado, criado de dom João Telo, de nome Afonso Ribeiro, para lá andar com eles e saber de seu viver e maneiras. E a mim mandou que fosse com Nicolau Coelho. Fomos assim de frecha direitos à praia. Ali acudiram logo perto de duzentos homens, todos nus, com arcos e setas nas mãos. Aqueles que nós levamos acenaram-lhes que se afastassem e depusessem os arcos. E eles os depuseram.\n",
      "\n",
      "Mas não se afastaram muito. E mal tinham pousado seus arcos quando saíram os que nós levávamos, e o mancebo degredado com eles. E saídos não pararam mais; nem esperavam um pelo outro, mas antes corriam a quem mais correria. E passaram um rio que aí corre, de água doce, de muita água que lhes dava pela braga. E muitos outros com eles. E foram assim correndo para além do rio entre umas moitas de palmeiras onde estavam outros. E ali pararam. E naquilo tinha ido o degredado com um homem que, logo ao sair do batel, o agasalhou e levou até lá. Mas logo o tornaram a nós. E com ele vieram os outros que nós leváramos, os quais vinham já nus e sem carapuças.\n",
      "\n",
      "E então se começaram de chegar muitos; e entravam pela beira do mar para os batéis, até que mais não podiam. E traziam cabaças d'água, e tomavam alguns barris que nós levávamos e enchiam-nos de água e traziam-nos aos batéis. Não que eles de todo chegassem a bordo do batel. Mas junto a ele, lançavam-nos da mão. E nós tomávamo-los. E pediam que lhes dessem alguma coisa.\n",
      "\n",
      "Levava Nicolau Coelho cascavéis e manilhas. E a uns dava um cascavel, e a outros uma manilha, de maneira que com aquela encarna quase que nos queriam dar a mão. Davam-nos daqueles arcos e setas em troca de sombreiros e carapuças de linho, e de qualquer coisa que a gente lhes queria dar.\n",
      "\n",
      "Dali se partiram os outros, dois mancebos, que não os vimos mais. Dos que ali andavam, muitos — quase a maior parte —traziam aqueles bicos de osso nos beiços.\n",
      "\n",
      "E alguns, que andavam sem eles, traziam os beiços furados e nos buracos traziam uns espelhos de pau, que pareciam espelhos de borracha. E alguns deles traziam três daqueles bicos, a saber um no meio, e os dois nos cabos.\n",
      "\n",
      "E andavam lá outros, quartejados de cores, a saber metade deles da sua própria cor, e metade de tintura preta, um tanto azulada; e outros quartejados d'escaques.\n",
      "\n",
      "Ali andavam entre eles três ou quatro moças, bem novinhas e gentis, com cabelos muito pretos e compridos pelas costas; e suas vergonhas, tão altas e tão cerradinhas e tão limpas das cabeleiras que, de as nós muito bem olharmos, não se envergonhavam.\n",
      "\n",
      "Ali por então não houve mais fala ou entendimento com eles, por a barbana deles ser tamanha que se não entendia nem ouvia ninguém. Acenamos-lhes que se fossem. E assim o fizeram e passaram-se para além do rio. E saíram três ou quatro homens nossos dos batéis, e encheram não sei quantos barris d'água que nós levávamos. E tornamo-nos às naus. E quando assim vínhamos, acenaram-nos que voltássemos. Voltamos, e eles mandaram o degredado e não quiseram que ficasse lá com eles, o qual levava uma bacia pequena e duas ou três carapuças vermelhas para lá as dar ao senhor, se o lá houvesse. Não trataram de lhe tirar coisa alguma, antes mandaram-no com tudo. Mas então Bartolomeu Dias o fez outra vez tornar, que lhe desse aquilo. E ele tornou e deu aquilo, em vista de nós, a aquele que o da primeira agasalhara. E então veio-se, e nós levamo-lo.\n",
      "\n",
      "Esse que o agasalhou era já de idade, e andava por galanteria, cheio de penas, pegadas pelo corpo, que parecia seteado como São Sebastião. Outros traziam carapuças de penas amarelas; e outros, de vermelhas; e outros de verdes. E uma daquelas moças era toda tingida de baixo a cima, daquela tintura e certo era tão bem feita e tão redonda, e sua vergonha tão graciosa que a muitas mulheres de nossa terra, vendo-lhe tais feições envergonhara, por não terem as suas como ela.\n",
      "\n",
      "Nenhum deles era fanado, mas todos assim como nós.\n",
      "\n",
      "E com isto nos tornamos, e eles foram-se.\n",
      "\n",
      "À tarde saiu o Capitão-mor em seu batel com todos nós outros capitães das naus em seus batéis a folgar pela baía, perto da praia. Mas ninguém saiu em terra, por o Capitão o não querer, apesar de ninguém estar nela. Apenas saiu — ele com todos nós — em um ilhéu grande que está na baía, o qual, aquando baixamar, fica mui vazio. Com tudo está de todas as partes cercado de água, de sorte que ninguém lá pode ir, a não ser de barco ou a nado. Ali folgou ele, e todos nós, bem uma hora e meia. E pescaram lá, andando alguns marinheiros com um chinchorro; e mataram peixe miúdo, não muito. E depois volvemo-nos às naus, já bem noite.\n",
      "\n",
      "A Primeira Missa no Brasil (1861), pintura de Victor Meirelles.Ao domingo de Pascoela pela manhã, determinou o Capitão ir ouvir missa e sermão naquele ilhéu. E mandou a todos os capitães que se arranjassem nos batéis e fossem com ele. E assim foi feito. Mandou armar um pavilhão naquele ilhéu, e dentro levantar um altar mui bem arranjado. E ali com todos nós outros fez dizer missa, a qual disse o padre frei Henrique, em voz entoada, e oficiada com aquela mesma voz pelos outros padres e sacerdotes que todos assistiram, a qual missa, segundo meu parecer, foi ouvida por todos com muito prazer e devoção.\n",
      "\n",
      "Ali estava com o Capitão a bandeira de Cristo, com que saíra de Belém, a qual esteve sempre bem alta, da parte do Evangelho.\n",
      "\n",
      "Acabada a missa, desvestiu-se o padre e subiu a uma cadeira alta; e nós todos lançados por essa areia. E pregou uma solene e proveitosa pregação, da história evangélica; e no fim tratou da nossa vida, e do achamento desta terra, referindo-se à Cruz, sob cuja obediência viemos, que veio muito a propósito, e fez muita devoção.\n",
      "\n",
      "Enquanto assistimos à missa e ao sermão, estaria na praia outra tanta gente, pouco mais ou menos, como a de ontem, com seus arcos e setas, e andava folgando. E olhando-nos, sentaram. E depois de acabada a missa, quando nós sentados atendíamos a pregação, levantaram-se muitos deles e tangeram corno ou buzina e começaram a saltar e dançar um pedaço. E alguns deles se metiam em almadias — duas ou três que lá tinham — as quais não são feitas como as que eu vi; apenas são três traves, atadas juntas. E ali se metiam quatro ou cinco, ou esses que queriam, não se afastando quase nada da terra, só até onde podiam tomar pé.\n",
      "\n",
      "Acabada a pregação encaminhou-se o Capitão, com todos nós, para os batéis, com nossa bandeira alta. Embarcamos e fomos indo todos em direção à terra para passarmos ao longo por onde eles estavam, indo na dianteira, por ordem do Capitão, Bartolomeu Dias em seu esquife, com um pau de uma almadia que lhes o mar levara, para o entregar a eles. E nós todos trás dele, a distância de um tiro de pedra.\n",
      "\n",
      "Como viram o esquife de Bartolomeu Dias, chegaram-se logo todos à água, metendo-se nela até onde mais podiam. Acenaram-lhes que pousassem os arcos e muitos deles os iam logo pôr em terra; e outros não os punham.\n",
      "\n",
      "Andava lá um que falava muito aos outros, que se afastassem. Mas não já que a mim me parecesse que lhe tinham respeito ou medo. Este que os assim andava afastando trazia seu arco e setas. Estava tinto de tintura vermelha pelos peitos e costas e pelos quadris, coxas e pernas até baixo, mas os vazios com a barriga e estômago eram de sua própria cor. E a tintura era tão vermelha que a água lha não comia nem desfazia. Antes, quando saía da água, era mais vermelho. Saiu um homem do esquife de Bartolomeu Dias e andava no meio deles, sem implicarem nada com ele, e muito menos ainda pensavam em fazer-lhe mal.\n",
      "\n",
      "Apenas lhe davam cabaças d'água; e acenavam aos do esquife que saíssem em terra. Com isto se volveu Bartolomeu Dias ao Capitão. E viemo-nos às naus, a comer, tangendo trombetas e gaitas, sem os mais constranger. E eles tornaram-se a sentar na praia, e assim por então ficaram.\n",
      "\n",
      "Neste ilhéu, onde fomos ouvir missa e sermão, espraia muito a água e descobre muita areia e muito cascalho. Enquanto lá estávamos foram alguns buscar marisco e não no acharam. Mas acharam alguns camarões grossos e curtos, entre os quais vinha um muito grande e muito grosso; que em nenhum tempo o vi tamanho. Também acharam cascas de berbigões e de amêijoas, mas não toparam com nenhuma peça inteira. E depois de termos comido vieram logo todos os capitães a esta nau, por ordem do Capitão-mor, com os quais ele se aportou; e eu na companhia. E perguntou a todos se nos parecia bem mandar a nova do achamento desta terra a Vossa Alteza pelo navio dos mantimentos, para a melhor mandar descobrir e saber dela mais do que nós podíamos saber, por irmos na nossa viagem.\n",
      "\n",
      "E entre muitas falas que sobre o caso se fizeram foi dito, por todos ou a maior parte, que seria muito bem. E nisto concordaram. E logo que a resolução foi tomada, perguntou mais, se seria bem tomar aqui por força um par destes homens para os mandar a Vossa Alteza, deixando aqui em lugar deles outros dois destes degredados.\n",
      "\n",
      "E concordaram em que não era necessário tomar por força homens, porque costume era dos que assim à força levavam para alguma parte dizerem que há de tudo quanto lhes perguntam; e que melhor e muito melhor informação da terra dariam dois homens desses degredados que aqui deixássemos do que eles dariam se os levassem por ser gente que ninguém entende.\n",
      "\n",
      "Nem eles cedo aprenderiam a falar para o saberem tão bem dizer que muito melhor estoutros o não digam quando cá Vossa Alteza mandar.\n",
      "\n",
      "E que portanto não cuidássemos de aqui por força tomar ninguém, nem fazer escândalo; mas sim, para os de todo amansar e apaziguar, unicamente de deixar aqui os dois degredados quando daqui partíssemos.\n",
      "\n",
      "E assim ficou determinado por parecer melhor a todos.\n",
      "\n",
      "Acabado isto, disse o Capitão que fôssemos nos batéis em terra. E ver-se-ia bem, quejando era o rio. Mas também para folgarmos.\n",
      "\n",
      "Fomos todos nos batéis em terra, armados; e a bandeira conosco. Eles andavam ali na praia, à boca do rio, para onde nós íamos; e, antes que chegássemos, pelo ensino que dantes tinham, puseram todos os arcos, e acenaram que saíssemos. Mas, tanto que os batéis puseram as proas em terra, passaram-se logo todos além do rio, o qual não é mais ancho que um jogo de mancal.\n",
      "\n",
      "E tanto que desembarcamos, alguns dos nossos passaram logo o rio, e meteram-se entre eles.\n",
      "\n",
      "E alguns aguardavam; e outros se afastavam. Com tudo, a coisa era de maneira que todos andavam misturados. Eles davam desses arcos com suas setas por sombreiros e carapuças de linho, e por qualquer coisa que lhes davam. Passaram além tantos dos nossos e andaram assim misturados com eles, que eles se esquivavam, e afastavam-se; e iam alguns para cima, onde outros estavam. E então o Capitão fez que o tomassem ao colo dois homens e passou o rio, e fez tornar a todos. A gente que ali estava não seria mais que aquela do costume. Mas logo que o Capitão chamou todos para trás, alguns se chegaram a ele, não por o reconhecerem por Senhor, mas porque a gente, nossa, já passava para aquém do rio. Ali falavam e traziam muitos arcos e continhas, daquelas já ditas, e resgatavam-nas por qualquer coisa, de tal maneira que os nossos levavam dali para as naus muitos arcos, e setas e contas. E então tornou-se o Capitão para aquém do rio. E logo acudiram muitos à beira dele.\n",
      "\n",
      "Ali veríeis galantes, pintados de preto e vermelho, e quartejados, assim pelos corpos como pelas pernas, que, certo, assim pareciam bem. Também andavam entre eles quatro ou cinco mulheres, novas, que assim nuas, não pareciam mal. Entre elas andava uma, com uma coxa, do joelho até o quadril e a nádega, toda tingida daquela tintura preta; e todo o resto da sua cor natural. Outra trazia ambos os joelhos com as curvas assim tintas, e também os colos dos pés; e suas vergonhas tão nuas, e com tanta inocência assim descobertas, que não havia nisso desvergonha nenhuma. Também andava lá outra mulher, nova, com um menino ou menina, atado com um pano aos peitos, de modo que não se lhe viam senão as perninhas. Mas nas pernas da mãe, e no resto, não havia pano algum.\n",
      "\n",
      "Em seguida o Capitão foi subindo ao longo do rio, que corre rente à praia. E ali esperou por um velho que trazia na mão uma pá de almadia. Falou, enquanto o Capitão estava com ele, na presença de todos nós; mas ninguém o entendia, nem ele a nós, por mais coisas que a gente lhe perguntava com respeito a ouro, porque desejávamos saber se o havia na terra.\n",
      "\n",
      "Trazia este velho o beiço tão furado que lhe cabia pelo buraco um grosso dedo polegar. E trazia metido no buraco uma pedra verde, de nenhum valor, que fechava por fora aquele buraco. E o Capitão lha fez tirar. E ele não sei que diabo falava e ia com ela para a boca do Capitão para lha meter. Estivemos rindo um pouco e dizendo chalaças sobre isso. E então enfadou-se o Capitão, e deixou-o. E um dos nossos deu-lhe pela pedra um sombreiro velho; não por ela valer alguma coisa, mas para amostra. E depois houve-a o Capitão, creio, para mandar com as outras coisas a Vossa Alteza.\n",
      "\n",
      "Andamos por aí vendo o ribeiro, o qual é de muita água e muito boa. Ao longo dele há muitas palmeiras, não muito altas; e muito bons palmitos. Colhemos e comemos muitos deles. Depois tornou-se o Capitão para baixo para a boca do rio, onde tínhamos desembarcado.\n",
      "\n",
      "E além do rio andavam muitos deles dançando e folgando, uns diante os outros, sem se tomarem pelas mãos. E faziam-no bem. Passou-se então para a outra banda do rio Diogo Dias, que fora almoxarife de Sacavém, o qual é homem gracioso e de prazer. E levou consigo um gaiteiro nosso com sua gaita. E meteu-se a dançar com eles, tomando-os pelas mãos; e eles folgavam e riam e andavam com ele muito bem ao som da gaita. Depois de dançarem fez ali muitas voltas ligeiras, andando no chão, e salto real, de que se eles espantavam e riam e folgavam muito. E conquanto com aquilo os segurou e afagou muito, tomavam logo uma esquiveza como de animais montezes, e foram-se para cima.\n",
      "\n",
      "E então passou o rio o Capitão com todos nós, e fomos pela praia, de longo, ao passo que os batéis iam rentes à terra. E chegamos a uma grande lagoa de água doce que está perto da praia, porque toda aquela ribeira do mar é apaulada por cima e sai a água por muitos lugares. E depois de passarmos o rio, foram uns sete ou oito deles meter-se entre os marinheiros que se recolhiam aos batéis. E levaram dali um tubarão que Bartolomeu Dias matou. E levavam-lho; e lançou-o na praia.\n",
      "\n",
      "Bastará que até aqui, como quer que se lhes em alguma parte amansassem, logo de uma mão para outra se esquivavam, como pardais do cevadouro. Ninguém não lhes ousa falar de rijo para não se esquivarem mais. E tudo se passa como eles querem — para os bem amansarmos !\n",
      "\n",
      "Ao velho com quem o Capitão havia falado, deu-lhe uma carapuça vermelha. E com toda a conversa que com ele houve, e com a carapuça que lhe deu tanto que se despediu e começou a passar o rio, foi-se logo recatando. E não quis mais tornar do rio para aquém. Os outros dois o Capitão teve nas naus, aos quais deu o que já ficou dito, nunca mais aqui apareceram — fatos de que deduzo que é gente bestial e de pouco saber, e por isso tão esquiva. Mas apesar de tudo isso andam bem curados, e muito limpos. E naquilo ainda mais me convenço que são como aves, ou alimárias montezinhas, as quais o ar faz melhores penas e melhor cabelo que às mansas, porque os seus corpos são tão limpos e tão gordos e tão formosos que não pode ser mais! E isto me faz presumir que não tem casas nem moradias em que se recolham; e o ar em que se criam os faz tais. Nós pelo menos não vimos até agora nenhumas casas, nem coisa que se pareça com elas.\n",
      "\n",
      "Mandou o Capitão aquele degredado, Afonso Ribeiro, que se fosse outra vez com eles. E foi; e andou lá um bom pedaço, mas a tarde regressou, que o fizeram eles vir: e não o quiseram lá consentir. E deram-lhe arcos e setas; e não lhe tomaram nada do seu. Antes, disse ele, que lhe tomara um deles umas continhas amarelas que levava e fugia com elas, e ele se queixou e os outros foram logo após ele, e lhas tomaram e tornaram-lhas a dar; e então mandaram-no vir. Disse que não vira lá entre eles senão umas choupaninhas de rama verde e de feteiras muito grandes, como as de Entre Douro e Minho. E assim nostornamos às naus, já quase noite, a dormir.\n",
      "\n",
      "Segunda-feira, depois de comer, saímos todos em terra a tomar água. Ali vieram então muitos; mas não tantos como as outras vezes. E traziam já muito poucos arcos. E estiveram um pouco afastados de nós; mas depois pouco a pouco misturaram-se conosco; e abraçavam-nos e folgavam; mas alguns deles se esquivavam logo. Ali davam alguns arcos por folhas de papel e por alguma carapucinha velha e por qualquer coisa. E de tal maneira se passou a coisa que bem vinte ou trinta pessoas das nossas se foram com eles para onde outros muitos deles estavam com moças e mulheres. E trouxeram de lá muitos arcos e barretes de penas de aves, uns verdes, outros amarelos, dos quais creio que o Capitão há de mandar uma amostra a Vossa Alteza.\n",
      "\n",
      "E segundo diziam esses que lá tinham ido, brincaram com eles. Neste dia os vimos mais de perto e mais à nossa vontade, por andarmos quase todos misturados: uns andavam quartejados daquelas tinturas, outros de metades, outros de tanta feição como em pano de ras, e todos com os beiços furados, muitos com os ossos neles, e bastantes sem ossos. Alguns traziam uns ouriços verdes, de árvores, que na cor queriam parecer de castanheiras, embora fossem muito mais pequenos. E estavam cheios de uns grãos vermelhos, pequeninos que, esmagando-se entre os dedos, se desfaziam na tinta muito vermelha de que andavam tingidos. E quanto mais se molhavam, tanto mais vermelhos ficavam. Todos andam rapados até por cima das orelhas; assim mesmo de sobrancelhas e pestanas.\n",
      "\n",
      "Trazem todos as testas, de fonte a fonte, tintas de tintura preta, que parece uma fita preta da largura de dois dedos.\n",
      "\n",
      "E o Capitão mandou aquele degredado Afonso Ribeiro e a outros dois degredados que fossem meter-se entre eles; e assim mesmo a Diogo Dias, por ser homem alegre, com que eles folgavam. E aos degredados ordenou que ficassem lá esta noite.\n",
      "\n",
      "Foram-se lá todos; e andaram entre eles. E segundo depois diziam, foram bem uma légua e meia a uma povoação, em que haveria nove ou dez casas, as quais diziam que eram tão compridas, cada uma, como esta nau capitaina. E eram de madeira, e das ilhargas de tábuas, e cobertas de palha, de razoável altura; e todas de um só espaço, sem repartição alguma, tinham de dentro muitos esteios; e de esteio a esteio uma rede atada com cabos em cada esteio, altas, em que dormiam. E de baixo, para se aquentarem, faziam seus fogos. E tinha cada casa duas portas pequenas, uma numa extremidade, e outra na oposta.\n",
      "\n",
      "E diziam que em cada casa se recolhiam trinta ou quarenta pessoas, e que assim os encontraram; e que lhes deram de comer dos alimentos que tinham, a saber muito inhame, e outras sementes que na terra dá, que eles comem. E como se fazia tarde fizeram-nos logo todos tornar; e não quiseram que lá ficasse nenhum. E ainda, segundo diziam, queriam vir com eles. Resgataram lá por cascavéis e outras coisinhas de pouco valor, que levavam, papagaios vermelhos, muito grandes e formosos, e dois verdes pequeninos, e carapuças de penas verdes, e um pano de penas de muitas cores, espécie de tecido assaz belo, segundo Vossa Alteza todas estas coisas verá, porque o Capitão vo-las há de mandar, segundo ele disse. E com isto vieram; e nós tornamo-nos às naus.\n",
      "\n",
      "Terça-feira, depois de comer, fomos em terra, fazer lenha, e para lavar roupa. Estavam na praia, quando chegamos, uns sessenta ou setenta, sem arcos e sem nada. Tanto que chegamos, vieram logo para nós, sem se esquivarem. E depois acudiram muitos, que seriam bem duzentos, todos sem arcos. E misturaram-se todos tanto conosco que uns nos ajudavam a acarretar lenha e metê-las nos batéis. E lutavam com os nossos, e tomavam com prazer. E enquanto fazíamos a lenha, construíam dois carpinteiros uma grande cruz de um pau que se ontem para isso cortara. Muitos deles vinham ali estar com os carpinteiros. E creio que o faziam mais para verem a ferramenta de ferro com que a faziam do que para verem a cruz, porque eles não tem coisa que de ferro seja, e cortam sua madeira e paus com pedras feitas como cunhas, metidas em um pau entre duas talas, mui bem atadas e por tal maneira que andam fortes, porque lhas viram lá. Era já a conversação deles conosco tanta que quase nos estorvavam no que havíamos de fazer.\n",
      "\n",
      "E o Capitão mandou a dois degredados e a Diogo Dias que fossem lá à aldeia e que de modo algum viessem a dormir às naus, ainda que os mandassem embora. E assim se foram.\n",
      "\n",
      "Enquanto andávamos nessa mata a cortar lenha, atravessavam alguns papagaios essas árvores; verdes uns, e pardos, outros, grandes e pequenos, de sorte que me parece que haverá muitos nesta terra. Todavia os que vi não seriam mais que nove ou dez, quando muito. Outras aves não vimos então, a não ser algumas pombas-seixeiras, e pareceram-me maiores bastante do que as de Portugal. Vários diziam que viram rolas, mas eu não as vi. Todavia segundo os arvoredos são mui muitos e grandes, e de infinitas espécies, não duvido que por esse sertão haja muitas aves!\n",
      "\n",
      "E cerca da noite nós volvemos para as naus com nossa lenha.\n",
      "\n",
      "Eu creio, Senhor, que não dei ainda conta aqui a Vossa Alteza do feitio de seus arcos e setas. Os arcos são pretos e compridos, e as setas compridas; e os ferros delas são canas aparadas, conforme Vossa Alteza verá alguns que creio que o Capitão a Ela há de enviar.\n",
      "\n",
      "Quarta-feira não fomos em terra, porque o Capitão andou todo o dia no navio dos mantimentos a despejá-lo e fazer levar às naus isso que cada um podia levar. Eles acudiram à praia, muitos, segundo das naus vimos. Seriam perto de trezentos, segundo Sancho de Tovar que para lá foi. Diogo Dias e Afonso Ribeiro, o degredado, aos quais o Capitão ontem ordenara que de toda maneira lá dormissem, tinham voltado já de noite, por eles não quererem que lá ficassem. E traziam papagaios verdes; e outras aves pretas, quase como pegas, com a diferença de terem o bico branco e rabos curtos. E quando Sancho de Tovar recolheu à nau, queriam vir com ele, alguns; mas ele não admitiu senão dois mancebos, bem dispostos e homens de prol. Mandou pensar e curá-los mui bem essa noite. E comeram toda a ração que lhes deram, e mandou dar-lhes cama de lençóis, segundo ele disse. E dormiram e folgaram aquela noite. E não houve mais este dia que para escrever seja.\n",
      "\n",
      "Quinta-feira, derradeiro de abril, comemos logo, quase pela manhã, e fomos em terra por mais lenha e água. E em querendo o Capitão sair desta nau, chegou Sancho de Tovar com seus dois hóspedes. E por ele ainda não ter comido, puseram-lhe toalhas, e veio-lhe comida. E comeu. Os hóspedes, sentaram-no cada um em sua cadeira. E de tudo quanto lhes deram, comeram mui bem, especialmente lacão cozido frio, e arroz. Não lhes deram vinho por Sancho de Tovar dizer que o não bebiam bem.\n",
      "\n",
      "Acabado o comer, metemo-nos todos no batel, e eles conosco. Deu um grumete a um deles uma armadura grande de porco montês, bem revolta. E logo que a tomou meteu-a no beiço; e porque se lhe não queria segurar, deram-lhe uma pouca de cera vermelha. E ele ajeitou-lhe seu adereço da parte de trás de sorte que segurasse, e meteu-a no beiço, assim revolta para cima; e ia tão contente com ela, como se tivesse uma grande jóia. E tanto que saímos em terra, foi-se logo com ela. E não tornou a aparecer lá.\n",
      "\n",
      "Andariam na praia, quando saímos, oito ou dez deles; e de aí a pouco começaram a vir. E parece-me que viriam este dia a praia quatrocentos ou quatrocentos e cinqüenta. Alguns deles traziam arcos e setas; e deram tudo em troca de carapuças e por qualquer coisa que lhes davam. Comiam conosco do que lhes dávamos, e alguns deles bebiam vinho, ao passo que outros o não podiam beber. Mas quer-me parecer que, se os acostumarem, o hão de beber de boa vontade! Andavam todos tão bem dispostos e tão bem feitos e galantes com suas pinturas que agradavam. Acarretavam dessa lenha quanta podiam, com mil boas vontades, e levavam-na aos batéis. E estavam já mais mansos e seguros entre nós do que nós estávamos entre eles.\n",
      "\n",
      "Foi o Capitão com alguns de nós um pedaço por este arvoredo até um ribeiro grande, e de muita água, que ao nosso parecer é o mesmo que vem ter à praia, em que nós tomamos água. Ali descansamos um pedaço, bebendo e folgando, ao longo dele, entre esse arvoredo que é tanto e tamanho e tão basto e de tanta qualidade de folhagem que não se pode calcular. Há lá muitas palmeiras, de que colhemos muitos e bons palmitos.\n",
      "\n",
      "Ao sairmos do batel, disse o Capitão que seria bom irmos em direitura à cruz que estava encostada a uma árvore, junto ao rio, a fim de ser colocada amanhã, sexta-feira, e que nos puséssemos todos de joelhos e a beijássemos para eles verem o acatamento que lhe tínhamos. E assim fizemos. E a esses dez ou doze que lá estavam, acenaram-lhes que fizessem o mesmo; e logo foram todos beijá-la.\n",
      "\n",
      "Parece-me gente de tal inocência que, se nós entendêssemos a sua fala e eles a nossa, seriam logo cristãos, visto que não têm nem entendem crença alguma, segundo as aparências. E portanto se os degredados que aqui hão de ficar aprenderem bem a sua fala e os entenderem, não duvido que eles, segundo a santa tenção de Vossa Alteza, se farão cristãos e hão de crer na nossa santa fé, à qual praza a Nosso Senhor que os traga, porque certamente esta gente é boa e de bela simplicidade. E imprimir-se-á facilmente neles qualquer cunho que lhe quiserem dar, uma vez que Nosso Senhor lhes deu bons corpos e bons rostos, como a homens bons. E o Ele nos para aqui trazer creio que não foi sem causa. E portanto Vossa Alteza, pois tanto deseja acrescentar a santa fé católica, deve cuidar da salvação deles. E prazerá a Deus que com pouco trabalho seja assim!\n",
      "\n",
      "Eles não lavram nem criam. Nem há aqui boi ou vaca, cabra, ovelha ou galinha, ou qualquer outro animal que esteja acostumado ao viver do homem. E não comem senão deste inhame, de que aqui há muito, e dessas sementes e frutos que a terra e as árvores de si deitam. E com isto andam tais e tão rijos e tão nédios que o não somos nós tanto, com quanto trigo e legumes comemos.\n",
      "\n",
      "Nesse dia, enquanto ali andavam, dançaram e bailaram sempre com os nossos, ao som de um tamboril nosso, como se fossem mais amigos nossos do que nós seus. Se lhes a gente acenava, se queriam vir às naus, aprontavam-se logo para isso, de modo tal, que se os convidáramos a todos, todos vieram. Porém não levamos esta noite às naus senão quatro ou cinco; a saber, o Capitão-mor, dois; e Simão de Miranda, um que já trazia por pagem; e Aires Gomes a outro, pagem também. Os que o Capitão trazia, era um deles um dos seus hóspedes que lhe haviam trazido a primeira vez quando aqui chegamos — o qual veio hoje aqui vestido na sua camisa, e com ele um seu irmão; e foram esta noite mui bem agasalhados tanto de comida como de cama, de colchões e lençóis, para os mais amansar.\n",
      "\n",
      "E hoje que é sexta-feira, primeiro dia de maio, pela manhã, saímos em terra com nossa bandeira; e fomos desembarcar acima do rio, contra o sul onde nos pareceu que seria melhor arvorar a cruz, para melhor ser vista. E ali marcou o Capitão o sítio onde haviam de fazer a cova para a fincar. E enquanto a iam abrindo, ele com todos nós outros fomos pela cruz, rio abaixo onde ela estava. E com os religiosos e sacerdotes que cantavam, à frente, fomos trazendo-a dali, a modo de procissão. Eram já aí quantidade deles, uns setenta ou oitenta; e quando nos assim viram chegar, alguns se foram meter debaixo dela, ajudar-nos. Passamos o rio, ao longo da praia; e fomos colocá-la onde havia de ficar, que será obra de dois tiros de besta do rio. Andando-se ali nisto, viriam bem cento cinqüenta, ou mais. Plantada a cruz, com as armas e a divisa de Vossa Alteza, que primeiro lhe haviam pregado, armaram altar ao pé dela. Ali disse missa o padre frei Henrique, a qual foi cantada e oficiada por esses já ditos. Ali estiveram conosco, a ela, perto de cinqüenta ou sessenta deles, assentados todos de joelho assim como nós. E quando se veio ao Evangelho, que nos erguemos todos em pé, com as mãos levantadas, eles se levantaram conosco, e alçaram as mãos, estando assim até se chegar ao fim; e então tornaram-se a assentar, como nós. E quando levantaram a Deus, que nos pusemos de joelhos, eles se puseram assim como nós estávamos, com as mãos levantadas, e em tal maneira sossegados que certifico a Vossa Alteza que nos fez muita devoção.\n",
      "\n",
      "Estiveram assim conosco até acabada a comunhão; e depois da comunhão, comungaram esses religiosos e sacerdotes; e o Capitão com alguns de nós outros. E alguns deles, por o Sol ser grande, levantaram-se enquanto estávamos comungando, e outros estiveram e ficaram. Um deles, homem de cinqüenta ou cinqüenta e cinco anos, se conservou ali com aqueles que ficaram. Esse, enquanto assim estávamos, juntava aqueles que ali tinham ficado, e ainda chamava outros. E andando assim entre eles, falando-lhes, acenou com o dedo para o altar, e depois mostrou com o dedo para o céu, como se lhes dissesse alguma coisa de bem; e nós assim o tomamos!\n",
      "\n",
      "Acabada a missa, tirou o padre a vestimenta de cima, e ficou na alva; e assim se subiu, junto ao altar, em uma cadeira; e ali nos pregou o Evangelho e dos Apóstolos cujo é o dia, tratando no fim da pregação desse vosso prosseguimento tão santo e virtuoso, que nos causou mais devoção. Esses que estiveram sempre à pregação estavam assim como nós olhando para ele. E aquele que digo, chamava alguns, que viessem ali. Alguns vinham e outros iam-se; e acabada a pregação, trazia Nicolau Coelho muitas cruzes de estanho com crucifixos, que lhe ficaram ainda da outra vinda. E houveram por bem que lançassem a cada um sua ao pescoço. Por essa causa se assentou o padre frei Henrique ao pé da cruz; e ali lançava a sua a todos — um a um — ao pescoço, atada em um fio, fazendo-lha primeiro beijar e levantar as mãos. Vinham a isso muitos; e lançavam-nas todas, que seriam obra de quarenta ou cinqüenta. E isto acabado — era já bem uma hora depois do meio dia — viemos às naus a comer, onde o Capitão trouxe consigo aquele mesmo que fez aos outros aquele gesto para o altar e para o céu, (e um seu irmão com ele). A aquele fez muita honra e deu-lhe uma camisa mourisca; e ao outro uma camisa destoutras.\n",
      "\n",
      "E segundo o que a mim e a todos pareceu, esta gente, não lhes falece outra coisa para ser toda cristã, do que entenderem-nos, porque assim tomavam aquilo que nos viam fazer como nós mesmos; por onde pareceu a todos que nenhuma idolatria nem adoração têm. E bem creio que, se Vossa Alteza aqui mandar quem entre eles mais devagar ande, que todos serão tornados e convertidos ao desejo de Vossa Alteza. E por isso, se alguém vier, não deixe logo de vir clérigo para os batizar; porque já então terão mais conhecimentos de nossa fé, pelos dois degredados que aqui entre eles ficam, os quais hoje também comungaram.\n",
      "\n",
      "Entre todos estes que hoje vieram não veio mais que uma mulher, moça, a qual esteve sempre à missa, à qual deram um pano com que se cobrisse; e puseram-lho em volta dela. Todavia, ao sentar-se, não se lembrava de o estender muito para se cobrir. Assim, Senhor, a inocência desta gente é tal que a de Adão não seria maior — com respeito ao pudor.\n",
      "\n",
      "Ora veja Vossa Alteza quem em tal inocência vive se se convertera, ou não, se lhe ensinarem o que pertence à sua salvação.\n",
      "\n",
      "Acabado isto, fomos perante eles beijar a cruz. E despedimo-nos e fomos comer.\n",
      "\n",
      "Creio, Senhor, que, com estes dois degredados que aqui ficam, ficarão mais dois grumetes, que esta noite se saíram em terra, desta nau, no esquife, fugidos, os quais não vieram mais. E cremos que ficarão aqui porque de manhã, prazendo a Deus fazemos nossa partida daqui. Esta terra, Senhor, parece-me que, da ponta que mais contra o sul vimos, até à outra ponta que contra o norte vem, de que nós deste porto houvemos vista, será tamanha que haverá nela bem vinte ou vinte e cinco léguas de costa. Traz ao longo do mar em algumas partes grandes barreiras, umas vermelhas, e outras brancas; e a terra de cima toda chã e muito cheia de grandes arvoredos. De ponta a ponta é toda praia... muito chã e muito formosa. Pelo sertão nos pareceu, vista do mar, muito grande; porque a estender olhos, não podíamos ver senão terra e arvoredos — terra que nos parecia muito extensa.\n",
      "\n",
      "Até agora não pudemos saber se há ouro ou prata nela, ou outra coisa de metal, ou ferro; nem lha vimos. Contudo a terra em si é de muito bons ares frescos e temperados como os de Entre-Douro-e-Minho, porque neste tempo d'agora assim os achávamos como os de lá. Águas são muitas; infinitas. Em tal maneira é graciosa que, querendo-a aproveitar, dar-se-á nela tudo; por causa das águas que tem!\n",
      "\n",
      "Contudo, o melhor fruto que dela se pode tirar parece-me que será salvar esta gente. E esta deve ser a principal semente que Vossa Alteza em ela deve lançar. E que não houvesse mais do que ter Vossa Alteza aqui esta pousada para essa navegação de Calicute bastava. Quanto mais, disposição para se nela cumprir e fazer o que Vossa Alteza tanto deseja, a saber, acrescentamento da nossa fé!\n",
      "\n",
      "E desta maneira dou aqui a Vossa Alteza conta do que nesta Vossa terra vi. E se a um pouco alonguei, Ela me perdoe.\n",
      "\n",
      "Porque o desejo que tinha de Vos tudo dizer, mo fez pôr assim pelo miúdo.\n",
      "\n",
      "E pois que, Senhor, é certo que tanto neste cargo que levo como em outra qualquer coisa que de Vosso serviço for, Vossa Alteza há de ser de mim muito bem servida, a Ela peço que, por me fazer singular mercê, mande vir da ilha de São Tomé a Jorge de Osório, meu genro — o que d'Ela receberei em muita mercê.\n",
      "\n",
      "Beijo as mãos de Vossa Alteza.\n",
      "\n",
      "Deste Porto Seguro, da Vossa Ilha da Vera Cruz, hoje, sexta-feira, primeiro dia de Maio de 1500.\n",
      "\n",
      "\n",
      "\n",
      "\n",
      "\n",
      "Sobre esta edição digital\n",
      "\n",
      "\n",
      "Este eBook foi gerado a partir do Wikisource,[1] biblioteca online multilíngue, feita por voluntários, comprometida em desenvolver uma coleção de publicações em copyleft de todos os gêneros: (romances, poemas, revistas e periódicos, cartas, livros técnicos etc)\n",
      "\n",
      "Nossos livros são distribuídos gratuitamente, a partir de materiais que tenham caído em domínio público ou que tenham sido disponibilizados em licenças livres. Você pode utilizar nossos materiais para quaisquer fins, inclusive comercialmente, dentro dos termos ou da Creative Commons BY-SA 3.0 [2] ou da GNU FDL,[3] à sua escolha.\n",
      "\n",
      "O Wikisource está sempre à procura de novos membros: sinta-se à vontade em participar. Apesar de nossos cuidados, é possível que este livro contenha um ou mais erros que nos passaram despercebidos. Seja por um ou por outro motivo, você pode nos contatar no nosso fórum.[4]\n",
      "\n",
      "Este livro em particular lhe foi disponibilizado a partir das pessoas por detrás destes nicknames:\n",
      "\n",
      "555\n",
      "\n",
      "Schultz\n",
      "\n",
      "DarwIn\n",
      "\n",
      "NMaia\n",
      "\n",
      "CommonsDelinker\n",
      "\n",
      "Get It\n",
      "\n",
      "Erico Koerich~ptwikisource\n",
      "\n",
      "Luan\n",
      "\n",
      "Tetraktys\n",
      "\n",
      "\n",
      "\n",
      "\n",
      "\n",
      "* * *\n",
      "\n",
      "\n",
      "\n",
      "↑ http://pt.wikisource.org\n",
      "\n",
      "↑ http://creativecommons.org/licenses/by-sa/3.0/deed.pt_BR\n",
      "\n",
      "↑ http://www.gnu.org/copyleft/fdl.html\n",
      "\n",
      "↑ https://pt.wikisource.org/wiki/Wikisource:Esplanada\n",
      "\n",
      "\n",
      "\n",
      "\n",
      "\n",
      "\n"
     ]
    }
   ],
   "source": [
    "print(dataset_text)"
   ]
  },
  {
   "cell_type": "code",
   "execution_count": 4,
   "id": "d770f8a2",
   "metadata": {
    "execution": {
     "iopub.execute_input": "2021-12-09T20:15:07.208252Z",
     "iopub.status.busy": "2021-12-09T20:15:07.207428Z",
     "iopub.status.idle": "2021-12-09T20:15:08.856117Z",
     "shell.execute_reply": "2021-12-09T20:15:08.855274Z",
     "shell.execute_reply.started": "2021-12-09T20:12:42.357160Z"
    },
    "papermill": {
     "duration": 1.672431,
     "end_time": "2021-12-09T20:15:08.856271",
     "exception": false,
     "start_time": "2021-12-09T20:15:07.183840",
     "status": "completed"
    },
    "tags": []
   },
   "outputs": [],
   "source": [
    "import re\n",
    "import nltk\n",
    "import string"
   ]
  },
  {
   "cell_type": "code",
   "execution_count": 5,
   "id": "ada9800d",
   "metadata": {
    "execution": {
     "iopub.execute_input": "2021-12-09T20:15:08.908019Z",
     "iopub.status.busy": "2021-12-09T20:15:08.906978Z",
     "iopub.status.idle": "2021-12-09T20:15:08.909296Z",
     "shell.execute_reply": "2021-12-09T20:15:08.909865Z",
     "shell.execute_reply.started": "2021-12-09T20:12:42.368947Z"
    },
    "papermill": {
     "duration": 0.032605,
     "end_time": "2021-12-09T20:15:08.910058",
     "exception": false,
     "start_time": "2021-12-09T20:15:08.877453",
     "status": "completed"
    },
    "tags": []
   },
   "outputs": [],
   "source": [
    "dataset_text = re.sub(r'\\s+', ' ', dataset_text)"
   ]
  },
  {
   "cell_type": "code",
   "execution_count": 6,
   "id": "1dae7990",
   "metadata": {
    "execution": {
     "iopub.execute_input": "2021-12-09T20:15:08.955698Z",
     "iopub.status.busy": "2021-12-09T20:15:08.954743Z",
     "iopub.status.idle": "2021-12-09T20:15:08.964935Z",
     "shell.execute_reply": "2021-12-09T20:15:08.965403Z",
     "shell.execute_reply.started": "2021-12-09T20:12:42.386968Z"
    },
    "papermill": {
     "duration": 0.034869,
     "end_time": "2021-12-09T20:15:08.965569",
     "exception": false,
     "start_time": "2021-12-09T20:15:08.930700",
     "status": "completed"
    },
    "tags": []
   },
   "outputs": [
    {
     "data": {
      "text/plain": [
       "\"Carta de Pero Vaz de Caminha Pero Vaz de Caminha Conteúdo exportado da wiki Wikisource em 8 de dezembro de 2021 Senhor, posto que o Capitão-mor desta Vossa frota, e assim os outros capitães escrevam a Vossa Alteza a nova do achamento desta Vossa terra nova, que se agora nesta navegação achou, não deixarei de também dar disso minha conta a Vossa Alteza, assim como eu melhor puder, ainda que — para o bem contar e falar — o saiba pior que todos fazer! Todavia tome Vossa Alteza minha ignorância por boa vontade, a qual bem certo creia que, para aformosentar nem afear, aqui não há de pôr mais do que aquilo que vi e me pareceu. Da marinhagem e das singraduras do caminho não darei aqui conta a Vossa Alteza — porque o não saberei fazer — e os pilotos devem ter este cuidado. E portanto, Senhor, do que hei de falar começo: E digo quê: A partida de Belém foi, como Vossa Alteza sabe, segunda-feira 9 de Março. E sábado, 14 do dito mês, entre as 8 e 9 horas, nos achamos entre as Canárias, mais perto da Grande Canária. E ali andamos todo aquele dia em calma, à vista delas, obra de três a quatro léguas. E domingo, 22 do dito mês, às dez horas mais ou menos, houvemos vista das ilhas de Cabo Verde, a saber da ilha de São Nicolau, segundo o dito de Pero Escolar, piloto. Na noite seguinte à segunda-feira amanheceu, se perdeu da frota Vasco de Ataíde com a sua nau, sem haver tempo forte ou contrário para poder ser! Fez o capitão suas diligências para o achar, em umas e outras partes. Mas... não apareceu mais! E assim seguimos nosso caminho, por este mar de longo, até que terça-feira das Oitavas de Páscoa, que foram 21 dias de abril, topamos alguns sinais de terra, estando da dita Ilha — segundo os pilotos diziam, obra de 660 ou 670 léguas — os quais eram muita quantidade de ervas compridas, a que os mareantes chamam botelho, e assim mesmo outras a que dão o nome de rabo-de-asno. E quarta-feira seguinte, pela manhã, topamos aves a que chamam furabuchos. Neste mesmo dia, a horas de véspera, houvemos vista de terra! A saber, primeiramente de um grande monte, muito alto e redondo; e de outras serras mais baixas ao sul dele; e de terra chã, com grandes arvoredos; ao qual monte alto o capitão pôs o nome de O Monte Pascoal e à terra A Terra de Vera Cruz! Mandou lançar o prumo. Acharam vinte e cinco braças. E ao sol-posto umas seis léguas da terra, lançamos ancoras, em dezenove braças — ancoragem limpa. Ali ficamo-nos toda aquela noite. E quinta-feira, pela manhã, fizemos vela e seguimos em direitura à terra, indo os navios pequenos diante — por dezessete, dezesseis, quinze, catorze, doze, nove braças — até meia légua da terra, onde todos lançamos ancoras, em frente da boca de um rio. E chegaríamos a esta ancoragem às dez horas, pouco mais ou menos. E dali avistamos homens que andavam pela praia, uns sete ou oito, segundo disseram os navios pequenos que chegaram primeiro. Então lançamos fora os batéis e esquifes. E logo vieram todos os capitães das naus a esta nau do Capitão-mor. E ali falaram. E o Capitão mandou em terra a Nicolau Coelho para ver aquele rio. E tanto que ele começou a ir-se para lá, acudiram pela praia homens aos dois e aos três, de maneira que, quando o batel chegou à boca do rio, já lá estavam dezoito ou vinte. Pardos, nus, sem coisa alguma que lhes cobrisse suas vergonhas. Traziam arcos nas mãos, e suas setas. Vinham todos rijamente em direção ao batel. E Nicolau Coelho lhes fez sinal que pousassem os arcos. E eles os depuseram. Mas não pôde deles haver fala nem entendimento que aproveitasse, por o mar quebrar na costa. Somente arremessou-lhe um barrete vermelho e uma carapuça de linho que levava na cabeça, e um sombreiro preto. E um deles lhe arremessou um sombreiro de penas de ave, compridas, com uma copazinha de penas vermelhas e pardas, como de papagaio. E outro lhe deu um ramal grande de continhas brancas, miúdas que querem parecer de aljôfar, as quais peças creio que o Capitão manda a Vossa Alteza. E com isto se volveu às naus por ser tarde e não poder haver deles mais fala, por causa do mar. À noite seguinte ventou tanto sueste com chuvaceiros que fez caçar as naus. E especialmente a Capitaina. E sexta pela manhã, às oito horas, pouco mais ou menos, por conselho dos pilotos, mandou o Capitão levantar ancoras e fazer vela. E fomos de longo da costa, com os batéis e esquifes amarrados na popa, em direção norte, para ver se achávamos alguma abrigada e bom pouso, onde nós ficássemos, para tomar água e lenha. Não por nos já minguar, mas por nos prevenirmos aqui. E quando fizemos vela estariam já na praia assentados perto do rio obra de sessenta ou setenta homens que se haviam juntado ali aos poucos. Fomos ao longo, e mandou o Capitão aos navios pequenos que fossem mais chegados à terra e, se achassem pouso seguro para as naus, que amainassem. E velejando nós pela costa, na distância de dez léguas do sítio onde tínhamos levantado ferro, acharam os ditos navios pequenos um recife com um porto dentro, muito bom e muito seguro, com uma mui larga entrada. E meteram-se dentro e amainaram. E as naus foram-se chegando, atrás deles. E um pouco antes de sol-pôsto amainaram também, talvez a uma légua do recife, e ancoraram a onze braças. E estando Afonso Lopez, nosso piloto, em um daqueles navios pequenos, foi, por mandado do Capitão, por ser homem vivo e destro para isso, meter-se logo no esquife a sondar o porto dentro. E tomou dois daqueles homens da terra que estavam numa almadia: mancebos e de bons corpos. Um deles trazia um arco, e seis ou sete setas. E na praia andavam muitos com seus arcos e setas; mas não os aproveitou. Logo, já de noite, levou-os à Capitaina, onde foram recebidos com muito prazer e festa. A feição deles é serem pardos, um tanto avermelhados, de bons rostos e bons narizes, bem feitos. Andam nus, sem cobertura alguma. Nem fazem mais caso de encobrir ou deixa de encobrir suas vergonhas do que de mostrar a cara. Acerca disso são de grande inocência. Ambos traziam o beiço de baixo furado e metido nele um osso verdadeiro, de comprimento de uma mão travessa, e da grossura de um fuso de algodão, agudo na ponta como um furador. Metem-nos pela parte de dentro do beiço; e a parte que lhes fica entre o beiço e os dentes é feita a modo de roque de xadrez. E trazem-no ali encaixado de sorte que não os magoa, nem lhes põe estorvo no falar, nem no comer e beber. Os cabelos deles são corredios. E andavam tosquiados, de tosquia alta antes do que sobre-pente, de boa grandeza, rapados todavia por cima das orelhas. E um deles trazia por baixo da solapa, de fonte a fonte, na parte detrás, uma espécie de cabeleira, de penas de ave amarela, que seria do comprimento de um coto, mui basta e mui cerrada, que lhe cobria o toutiço e as orelhas. E andava pegada aos cabelos, pena por pena, com uma confeição branda como, de maneira tal que a cabeleira era mui redonda e mui basta, e mui igual, e não fazia míngua mais lavagem para a levantar. O Capitão, quando eles vieram, estava sentado em uma cadeira, aos pés uma alcatifa por estrado; e bem vestido, com um colar de ouro, mui grande, ao pescoço. E Sancho de Tovar, e Simão de Miranda, e Nicolau Coelho, e Aires Corrêa, e nós outros que aqui na nau com ele íamos, sentados no chão, nessa alcatifa. Acenderam-se tochas. E eles entraram. Mas nem sinal de cortesia fizeram, nem de falar ao Capitão; nem a alguém. Todavia um deles fitou o colar do Capitão, e começou a fazer acenos com a mão em direção à terra, e depois para o colar, como se quisesse dizer-nos que havia ouro na terra. E também olhou para um castiçal de prata e assim mesmo acenava para a terra e novamente para o castiçal, como se lá também houvesse prata! Mostraram-lhes um papagaio pardo que o Capitão traz consigo; tomaram-no logo na mão e acenaram para a terra, como se os houvesse ali. Mostraram-lhes um carneiro; não fizeram caso dele. Mostraram-lhes uma galinha; quase tiveram medo dela, e não lhe queriam pôr a mão. Depois lhe pegaram, mas como espantados. Deram-lhes ali de comer: pão e peixe cozido, confeitos, fartéis, mel, figos passados. Não quiseram comer daquilo quase nada; e se provavam alguma coisa, logo a lançavam fora. Trouxeram-lhes vinho em uma taça; mal lhe puseram a boca; não gostaram dele nada, nem quiseram mais. Trouxeram-lhes água em uma albarrada, provaram cada um o seu bochecho, mas não beberam; apenas lavaram as bocas e lançaram-na fora. Viu um deles umas contas de rosário, brancas; fez sinal que lhas dessem, e folgou muito com elas, e lançou-as ao pescoço; e depois tirou-as e meteu-as em volta do braço, e acenava para a terra e novamente para as contas e para o colar do Capitão, como se dariam ouro por aquilo. Isto tomávamos nós nesse sentido, por assim o desejarmos! Mas se ele queria dizer que levaria as contas e mais o colar, isto não queríamos nós entender, por que lho não havíamos de dar! E depois tornou as contas a quem lhas dera. E então estiraram-se de costas na alcatifa, a dormir sem procurarem maneiras de encobrir suas vergonhas, as quais não eram fanadas; e as cabeleiras delas estavam bem rapadas e feitas. O Capitão mandou pôr por baixo da cabeça de cada um seu coxim; e o da cabeleira esforçava-se por não a estragar. E deitaram um manto por cima deles; e consentindo, aconchegaram-se e adormeceram. Sábado pela manhã mandou o Capitão fazer vela, fomos demandar a entrada, a qual era mui larga e tinha seis a sete braças de fundo. E entraram todas as naus dentro, e ancoraram em cinco ou seis braças — ancoradouro que é tão grande e tão formoso de dentro, e tão seguro que podem ficar nele mais de duzentos navios e naus. E tanto que as naus foram distribuídas e ancoradas, vieram os capitães todos a esta nau do Capitão-mor. E daqui mandou o Capitão que Nicolau Coelho e Bartolomeu Dias fossem em terra e levassem aqueles dois homens, e os deixassem ir com seu arco e setas, aos quais mandou dar a cada um uma camisa nova e uma carapuça vermelha e um rosário de contas brancas de osso, que foram levando nos braços, e um cascavel e uma campainha. E mandou com eles, para lá ficar, um mancebo degredado, criado de dom João Telo, de nome Afonso Ribeiro, para lá andar com eles e saber de seu viver e maneiras. E a mim mandou que fosse com Nicolau Coelho. Fomos assim de frecha direitos à praia. Ali acudiram logo perto de duzentos homens, todos nus, com arcos e setas nas mãos. Aqueles que nós levamos acenaram-lhes que se afastassem e depusessem os arcos. E eles os depuseram. Mas não se afastaram muito. E mal tinham pousado seus arcos quando saíram os que nós levávamos, e o mancebo degredado com eles. E saídos não pararam mais; nem esperavam um pelo outro, mas antes corriam a quem mais correria. E passaram um rio que aí corre, de água doce, de muita água que lhes dava pela braga. E muitos outros com eles. E foram assim correndo para além do rio entre umas moitas de palmeiras onde estavam outros. E ali pararam. E naquilo tinha ido o degredado com um homem que, logo ao sair do batel, o agasalhou e levou até lá. Mas logo o tornaram a nós. E com ele vieram os outros que nós leváramos, os quais vinham já nus e sem carapuças. E então se começaram de chegar muitos; e entravam pela beira do mar para os batéis, até que mais não podiam. E traziam cabaças d'água, e tomavam alguns barris que nós levávamos e enchiam-nos de água e traziam-nos aos batéis. Não que eles de todo chegassem a bordo do batel. Mas junto a ele, lançavam-nos da mão. E nós tomávamo-los. E pediam que lhes dessem alguma coisa. Levava Nicolau Coelho cascavéis e manilhas. E a uns dava um cascavel, e a outros uma manilha, de maneira que com aquela encarna quase que nos queriam dar a mão. Davam-nos daqueles arcos e setas em troca de sombreiros e carapuças de linho, e de qualquer coisa que a gente lhes queria dar. Dali se partiram os outros, dois mancebos, que não os vimos mais. Dos que ali andavam, muitos — quase a maior parte —traziam aqueles bicos de osso nos beiços. E alguns, que andavam sem eles, traziam os beiços furados e nos buracos traziam uns espelhos de pau, que pareciam espelhos de borracha. E alguns deles traziam três daqueles bicos, a saber um no meio, e os dois nos cabos. E andavam lá outros, quartejados de cores, a saber metade deles da sua própria cor, e metade de tintura preta, um tanto azulada; e outros quartejados d'escaques. Ali andavam entre eles três ou quatro moças, bem novinhas e gentis, com cabelos muito pretos e compridos pelas costas; e suas vergonhas, tão altas e tão cerradinhas e tão limpas das cabeleiras que, de as nós muito bem olharmos, não se envergonhavam. Ali por então não houve mais fala ou entendimento com eles, por a barbana deles ser tamanha que se não entendia nem ouvia ninguém. Acenamos-lhes que se fossem. E assim o fizeram e passaram-se para além do rio. E saíram três ou quatro homens nossos dos batéis, e encheram não sei quantos barris d'água que nós levávamos. E tornamo-nos às naus. E quando assim vínhamos, acenaram-nos que voltássemos. Voltamos, e eles mandaram o degredado e não quiseram que ficasse lá com eles, o qual levava uma bacia pequena e duas ou três carapuças vermelhas para lá as dar ao senhor, se o lá houvesse. Não trataram de lhe tirar coisa alguma, antes mandaram-no com tudo. Mas então Bartolomeu Dias o fez outra vez tornar, que lhe desse aquilo. E ele tornou e deu aquilo, em vista de nós, a aquele que o da primeira agasalhara. E então veio-se, e nós levamo-lo. Esse que o agasalhou era já de idade, e andava por galanteria, cheio de penas, pegadas pelo corpo, que parecia seteado como São Sebastião. Outros traziam carapuças de penas amarelas; e outros, de vermelhas; e outros de verdes. E uma daquelas moças era toda tingida de baixo a cima, daquela tintura e certo era tão bem feita e tão redonda, e sua vergonha tão graciosa que a muitas mulheres de nossa terra, vendo-lhe tais feições envergonhara, por não terem as suas como ela. Nenhum deles era fanado, mas todos assim como nós. E com isto nos tornamos, e eles foram-se. À tarde saiu o Capitão-mor em seu batel com todos nós outros capitães das naus em seus batéis a folgar pela baía, perto da praia. Mas ninguém saiu em terra, por o Capitão o não querer, apesar de ninguém estar nela. Apenas saiu — ele com todos nós — em um ilhéu grande que está na baía, o qual, aquando baixamar, fica mui vazio. Com tudo está de todas as partes cercado de água, de sorte que ninguém lá pode ir, a não ser de barco ou a nado. Ali folgou ele, e todos nós, bem uma hora e meia. E pescaram lá, andando alguns marinheiros com um chinchorro; e mataram peixe miúdo, não muito. E depois volvemo-nos às naus, já bem noite. A Primeira Missa no Brasil (1861), pintura de Victor Meirelles.Ao domingo de Pascoela pela manhã, determinou o Capitão ir ouvir missa e sermão naquele ilhéu. E mandou a todos os capitães que se arranjassem nos batéis e fossem com ele. E assim foi feito. Mandou armar um pavilhão naquele ilhéu, e dentro levantar um altar mui bem arranjado. E ali com todos nós outros fez dizer missa, a qual disse o padre frei Henrique, em voz entoada, e oficiada com aquela mesma voz pelos outros padres e sacerdotes que todos assistiram, a qual missa, segundo meu parecer, foi ouvida por todos com muito prazer e devoção. Ali estava com o Capitão a bandeira de Cristo, com que saíra de Belém, a qual esteve sempre bem alta, da parte do Evangelho. Acabada a missa, desvestiu-se o padre e subiu a uma cadeira alta; e nós todos lançados por essa areia. E pregou uma solene e proveitosa pregação, da história evangélica; e no fim tratou da nossa vida, e do achamento desta terra, referindo-se à Cruz, sob cuja obediência viemos, que veio muito a propósito, e fez muita devoção. Enquanto assistimos à missa e ao sermão, estaria na praia outra tanta gente, pouco mais ou menos, como a de ontem, com seus arcos e setas, e andava folgando. E olhando-nos, sentaram. E depois de acabada a missa, quando nós sentados atendíamos a pregação, levantaram-se muitos deles e tangeram corno ou buzina e começaram a saltar e dançar um pedaço. E alguns deles se metiam em almadias — duas ou três que lá tinham — as quais não são feitas como as que eu vi; apenas são três traves, atadas juntas. E ali se metiam quatro ou cinco, ou esses que queriam, não se afastando quase nada da terra, só até onde podiam tomar pé. Acabada a pregação encaminhou-se o Capitão, com todos nós, para os batéis, com nossa bandeira alta. Embarcamos e fomos indo todos em direção à terra para passarmos ao longo por onde eles estavam, indo na dianteira, por ordem do Capitão, Bartolomeu Dias em seu esquife, com um pau de uma almadia que lhes o mar levara, para o entregar a eles. E nós todos trás dele, a distância de um tiro de pedra. Como viram o esquife de Bartolomeu Dias, chegaram-se logo todos à água, metendo-se nela até onde mais podiam. Acenaram-lhes que pousassem os arcos e muitos deles os iam logo pôr em terra; e outros não os punham. Andava lá um que falava muito aos outros, que se afastassem. Mas não já que a mim me parecesse que lhe tinham respeito ou medo. Este que os assim andava afastando trazia seu arco e setas. Estava tinto de tintura vermelha pelos peitos e costas e pelos quadris, coxas e pernas até baixo, mas os vazios com a barriga e estômago eram de sua própria cor. E a tintura era tão vermelha que a água lha não comia nem desfazia. Antes, quando saía da água, era mais vermelho. Saiu um homem do esquife de Bartolomeu Dias e andava no meio deles, sem implicarem nada com ele, e muito menos ainda pensavam em fazer-lhe mal. Apenas lhe davam cabaças d'água; e acenavam aos do esquife que saíssem em terra. Com isto se volveu Bartolomeu Dias ao Capitão. E viemo-nos às naus, a comer, tangendo trombetas e gaitas, sem os mais constranger. E eles tornaram-se a sentar na praia, e assim por então ficaram. Neste ilhéu, onde fomos ouvir missa e sermão, espraia muito a água e descobre muita areia e muito cascalho. Enquanto lá estávamos foram alguns buscar marisco e não no acharam. Mas acharam alguns camarões grossos e curtos, entre os quais vinha um muito grande e muito grosso; que em nenhum tempo o vi tamanho. Também acharam cascas de berbigões e de amêijoas, mas não toparam com nenhuma peça inteira. E depois de termos comido vieram logo todos os capitães a esta nau, por ordem do Capitão-mor, com os quais ele se aportou; e eu na companhia. E perguntou a todos se nos parecia bem mandar a nova do achamento desta terra a Vossa Alteza pelo navio dos mantimentos, para a melhor mandar descobrir e saber dela mais do que nós podíamos saber, por irmos na nossa viagem. E entre muitas falas que sobre o caso se fizeram foi dito, por todos ou a maior parte, que seria muito bem. E nisto concordaram. E logo que a resolução foi tomada, perguntou mais, se seria bem tomar aqui por força um par destes homens para os mandar a Vossa Alteza, deixando aqui em lugar deles outros dois destes degredados. E concordaram em que não era necessário tomar por força homens, porque costume era dos que assim à força levavam para alguma parte dizerem que há de tudo quanto lhes perguntam; e que melhor e muito melhor informação da terra dariam dois homens desses degredados que aqui deixássemos do que eles dariam se os levassem por ser gente que ninguém entende. Nem eles cedo aprenderiam a falar para o saberem tão bem dizer que muito melhor estoutros o não digam quando cá Vossa Alteza mandar. E que portanto não cuidássemos de aqui por força tomar ninguém, nem fazer escândalo; mas sim, para os de todo amansar e apaziguar, unicamente de deixar aqui os dois degredados quando daqui partíssemos. E assim ficou determinado por parecer melhor a todos. Acabado isto, disse o Capitão que fôssemos nos batéis em terra. E ver-se-ia bem, quejando era o rio. Mas também para folgarmos. Fomos todos nos batéis em terra, armados; e a bandeira conosco. Eles andavam ali na praia, à boca do rio, para onde nós íamos; e, antes que chegássemos, pelo ensino que dantes tinham, puseram todos os arcos, e acenaram que saíssemos. Mas, tanto que os batéis puseram as proas em terra, passaram-se logo todos além do rio, o qual não é mais ancho que um jogo de mancal. E tanto que desembarcamos, alguns dos nossos passaram logo o rio, e meteram-se entre eles. E alguns aguardavam; e outros se afastavam. Com tudo, a coisa era de maneira que todos andavam misturados. Eles davam desses arcos com suas setas por sombreiros e carapuças de linho, e por qualquer coisa que lhes davam. Passaram além tantos dos nossos e andaram assim misturados com eles, que eles se esquivavam, e afastavam-se; e iam alguns para cima, onde outros estavam. E então o Capitão fez que o tomassem ao colo dois homens e passou o rio, e fez tornar a todos. A gente que ali estava não seria mais que aquela do costume. Mas logo que o Capitão chamou todos para trás, alguns se chegaram a ele, não por o reconhecerem por Senhor, mas porque a gente, nossa, já passava para aquém do rio. Ali falavam e traziam muitos arcos e continhas, daquelas já ditas, e resgatavam-nas por qualquer coisa, de tal maneira que os nossos levavam dali para as naus muitos arcos, e setas e contas. E então tornou-se o Capitão para aquém do rio. E logo acudiram muitos à beira dele. Ali veríeis galantes, pintados de preto e vermelho, e quartejados, assim pelos corpos como pelas pernas, que, certo, assim pareciam bem. Também andavam entre eles quatro ou cinco mulheres, novas, que assim nuas, não pareciam mal. Entre elas andava uma, com uma coxa, do joelho até o quadril e a nádega, toda tingida daquela tintura preta; e todo o resto da sua cor natural. Outra trazia ambos os joelhos com as curvas assim tintas, e também os colos dos pés; e suas vergonhas tão nuas, e com tanta inocência assim descobertas, que não havia nisso desvergonha nenhuma. Também andava lá outra mulher, nova, com um menino ou menina, atado com um pano aos peitos, de modo que não se lhe viam senão as perninhas. Mas nas pernas da mãe, e no resto, não havia pano algum. Em seguida o Capitão foi subindo ao longo do rio, que corre rente à praia. E ali esperou por um velho que trazia na mão uma pá de almadia. Falou, enquanto o Capitão estava com ele, na presença de todos nós; mas ninguém o entendia, nem ele a nós, por mais coisas que a gente lhe perguntava com respeito a ouro, porque desejávamos saber se o havia na terra. Trazia este velho o beiço tão furado que lhe cabia pelo buraco um grosso dedo polegar. E trazia metido no buraco uma pedra verde, de nenhum valor, que fechava por fora aquele buraco. E o Capitão lha fez tirar. E ele não sei que diabo falava e ia com ela para a boca do Capitão para lha meter. Estivemos rindo um pouco e dizendo chalaças sobre isso. E então enfadou-se o Capitão, e deixou-o. E um dos nossos deu-lhe pela pedra um sombreiro velho; não por ela valer alguma coisa, mas para amostra. E depois houve-a o Capitão, creio, para mandar com as outras coisas a Vossa Alteza. Andamos por aí vendo o ribeiro, o qual é de muita água e muito boa. Ao longo dele há muitas palmeiras, não muito altas; e muito bons palmitos. Colhemos e comemos muitos deles. Depois tornou-se o Capitão para baixo para a boca do rio, onde tínhamos desembarcado. E além do rio andavam muitos deles dançando e folgando, uns diante os outros, sem se tomarem pelas mãos. E faziam-no bem. Passou-se então para a outra banda do rio Diogo Dias, que fora almoxarife de Sacavém, o qual é homem gracioso e de prazer. E levou consigo um gaiteiro nosso com sua gaita. E meteu-se a dançar com eles, tomando-os pelas mãos; e eles folgavam e riam e andavam com ele muito bem ao som da gaita. Depois de dançarem fez ali muitas voltas ligeiras, andando no chão, e salto real, de que se eles espantavam e riam e folgavam muito. E conquanto com aquilo os segurou e afagou muito, tomavam logo uma esquiveza como de animais montezes, e foram-se para cima. E então passou o rio o Capitão com todos nós, e fomos pela praia, de longo, ao passo que os batéis iam rentes à terra. E chegamos a uma grande lagoa de água doce que está perto da praia, porque toda aquela ribeira do mar é apaulada por cima e sai a água por muitos lugares. E depois de passarmos o rio, foram uns sete ou oito deles meter-se entre os marinheiros que se recolhiam aos batéis. E levaram dali um tubarão que Bartolomeu Dias matou. E levavam-lho; e lançou-o na praia. Bastará que até aqui, como quer que se lhes em alguma parte amansassem, logo de uma mão para outra se esquivavam, como pardais do cevadouro. Ninguém não lhes ousa falar de rijo para não se esquivarem mais. E tudo se passa como eles querem — para os bem amansarmos ! Ao velho com quem o Capitão havia falado, deu-lhe uma carapuça vermelha. E com toda a conversa que com ele houve, e com a carapuça que lhe deu tanto que se despediu e começou a passar o rio, foi-se logo recatando. E não quis mais tornar do rio para aquém. Os outros dois o Capitão teve nas naus, aos quais deu o que já ficou dito, nunca mais aqui apareceram — fatos de que deduzo que é gente bestial e de pouco saber, e por isso tão esquiva. Mas apesar de tudo isso andam bem curados, e muito limpos. E naquilo ainda mais me convenço que são como aves, ou alimárias montezinhas, as quais o ar faz melhores penas e melhor cabelo que às mansas, porque os seus corpos são tão limpos e tão gordos e tão formosos que não pode ser mais! E isto me faz presumir que não tem casas nem moradias em que se recolham; e o ar em que se criam os faz tais. Nós pelo menos não vimos até agora nenhumas casas, nem coisa que se pareça com elas. Mandou o Capitão aquele degredado, Afonso Ribeiro, que se fosse outra vez com eles. E foi; e andou lá um bom pedaço, mas a tarde regressou, que o fizeram eles vir: e não o quiseram lá consentir. E deram-lhe arcos e setas; e não lhe tomaram nada do seu. Antes, disse ele, que lhe tomara um deles umas continhas amarelas que levava e fugia com elas, e ele se queixou e os outros foram logo após ele, e lhas tomaram e tornaram-lhas a dar; e então mandaram-no vir. Disse que não vira lá entre eles senão umas choupaninhas de rama verde e de feteiras muito grandes, como as de Entre Douro e Minho. E assim nostornamos às naus, já quase noite, a dormir. Segunda-feira, depois de comer, saímos todos em terra a tomar água. Ali vieram então muitos; mas não tantos como as outras vezes. E traziam já muito poucos arcos. E estiveram um pouco afastados de nós; mas depois pouco a pouco misturaram-se conosco; e abraçavam-nos e folgavam; mas alguns deles se esquivavam logo. Ali davam alguns arcos por folhas de papel e por alguma carapucinha velha e por qualquer coisa. E de tal maneira se passou a coisa que bem vinte ou trinta pessoas das nossas se foram com eles para onde outros muitos deles estavam com moças e mulheres. E trouxeram de lá muitos arcos e barretes de penas de aves, uns verdes, outros amarelos, dos quais creio que o Capitão há de mandar uma amostra a Vossa Alteza. E segundo diziam esses que lá tinham ido, brincaram com eles. Neste dia os vimos mais de perto e mais à nossa vontade, por andarmos quase todos misturados: uns andavam quartejados daquelas tinturas, outros de metades, outros de tanta feição como em pano de ras, e todos com os beiços furados, muitos com os ossos neles, e bastantes sem ossos. Alguns traziam uns ouriços verdes, de árvores, que na cor queriam parecer de castanheiras, embora fossem muito mais pequenos. E estavam cheios de uns grãos vermelhos, pequeninos que, esmagando-se entre os dedos, se desfaziam na tinta muito vermelha de que andavam tingidos. E quanto mais se molhavam, tanto mais vermelhos ficavam. Todos andam rapados até por cima das orelhas; assim mesmo de sobrancelhas e pestanas. Trazem todos as testas, de fonte a fonte, tintas de tintura preta, que parece uma fita preta da largura de dois dedos. E o Capitão mandou aquele degredado Afonso Ribeiro e a outros dois degredados que fossem meter-se entre eles; e assim mesmo a Diogo Dias, por ser homem alegre, com que eles folgavam. E aos degredados ordenou que ficassem lá esta noite. Foram-se lá todos; e andaram entre eles. E segundo depois diziam, foram bem uma légua e meia a uma povoação, em que haveria nove ou dez casas, as quais diziam que eram tão compridas, cada uma, como esta nau capitaina. E eram de madeira, e das ilhargas de tábuas, e cobertas de palha, de razoável altura; e todas de um só espaço, sem repartição alguma, tinham de dentro muitos esteios; e de esteio a esteio uma rede atada com cabos em cada esteio, altas, em que dormiam. E de baixo, para se aquentarem, faziam seus fogos. E tinha cada casa duas portas pequenas, uma numa extremidade, e outra na oposta. E diziam que em cada casa se recolhiam trinta ou quarenta pessoas, e que assim os encontraram; e que lhes deram de comer dos alimentos que tinham, a saber muito inhame, e outras sementes que na terra dá, que eles comem. E como se fazia tarde fizeram-nos logo todos tornar; e não quiseram que lá ficasse nenhum. E ainda, segundo diziam, queriam vir com eles. Resgataram lá por cascavéis e outras coisinhas de pouco valor, que levavam, papagaios vermelhos, muito grandes e formosos, e dois verdes pequeninos, e carapuças de penas verdes, e um pano de penas de muitas cores, espécie de tecido assaz belo, segundo Vossa Alteza todas estas coisas verá, porque o Capitão vo-las há de mandar, segundo ele disse. E com isto vieram; e nós tornamo-nos às naus. Terça-feira, depois de comer, fomos em terra, fazer lenha, e para lavar roupa. Estavam na praia, quando chegamos, uns sessenta ou setenta, sem arcos e sem nada. Tanto que chegamos, vieram logo para nós, sem se esquivarem. E depois acudiram muitos, que seriam bem duzentos, todos sem arcos. E misturaram-se todos tanto conosco que uns nos ajudavam a acarretar lenha e metê-las nos batéis. E lutavam com os nossos, e tomavam com prazer. E enquanto fazíamos a lenha, construíam dois carpinteiros uma grande cruz de um pau que se ontem para isso cortara. Muitos deles vinham ali estar com os carpinteiros. E creio que o faziam mais para verem a ferramenta de ferro com que a faziam do que para verem a cruz, porque eles não tem coisa que de ferro seja, e cortam sua madeira e paus com pedras feitas como cunhas, metidas em um pau entre duas talas, mui bem atadas e por tal maneira que andam fortes, porque lhas viram lá. Era já a conversação deles conosco tanta que quase nos estorvavam no que havíamos de fazer. E o Capitão mandou a dois degredados e a Diogo Dias que fossem lá à aldeia e que de modo algum viessem a dormir às naus, ainda que os mandassem embora. E assim se foram. Enquanto andávamos nessa mata a cortar lenha, atravessavam alguns papagaios essas árvores; verdes uns, e pardos, outros, grandes e pequenos, de sorte que me parece que haverá muitos nesta terra. Todavia os que vi não seriam mais que nove ou dez, quando muito. Outras aves não vimos então, a não ser algumas pombas-seixeiras, e pareceram-me maiores bastante do que as de Portugal. Vários diziam que viram rolas, mas eu não as vi. Todavia segundo os arvoredos são mui muitos e grandes, e de infinitas espécies, não duvido que por esse sertão haja muitas aves! E cerca da noite nós volvemos para as naus com nossa lenha. Eu creio, Senhor, que não dei ainda conta aqui a Vossa Alteza do feitio de seus arcos e setas. Os arcos são pretos e compridos, e as setas compridas; e os ferros delas são canas aparadas, conforme Vossa Alteza verá alguns que creio que o Capitão a Ela há de enviar. Quarta-feira não fomos em terra, porque o Capitão andou todo o dia no navio dos mantimentos a despejá-lo e fazer levar às naus isso que cada um podia levar. Eles acudiram à praia, muitos, segundo das naus vimos. Seriam perto de trezentos, segundo Sancho de Tovar que para lá foi. Diogo Dias e Afonso Ribeiro, o degredado, aos quais o Capitão ontem ordenara que de toda maneira lá dormissem, tinham voltado já de noite, por eles não quererem que lá ficassem. E traziam papagaios verdes; e outras aves pretas, quase como pegas, com a diferença de terem o bico branco e rabos curtos. E quando Sancho de Tovar recolheu à nau, queriam vir com ele, alguns; mas ele não admitiu senão dois mancebos, bem dispostos e homens de prol. Mandou pensar e curá-los mui bem essa noite. E comeram toda a ração que lhes deram, e mandou dar-lhes cama de lençóis, segundo ele disse. E dormiram e folgaram aquela noite. E não houve mais este dia que para escrever seja. Quinta-feira, derradeiro de abril, comemos logo, quase pela manhã, e fomos em terra por mais lenha e água. E em querendo o Capitão sair desta nau, chegou Sancho de Tovar com seus dois hóspedes. E por ele ainda não ter comido, puseram-lhe toalhas, e veio-lhe comida. E comeu. Os hóspedes, sentaram-no cada um em sua cadeira. E de tudo quanto lhes deram, comeram mui bem, especialmente lacão cozido frio, e arroz. Não lhes deram vinho por Sancho de Tovar dizer que o não bebiam bem. Acabado o comer, metemo-nos todos no batel, e eles conosco. Deu um grumete a um deles uma armadura grande de porco montês, bem revolta. E logo que a tomou meteu-a no beiço; e porque se lhe não queria segurar, deram-lhe uma pouca de cera vermelha. E ele ajeitou-lhe seu adereço da parte de trás de sorte que segurasse, e meteu-a no beiço, assim revolta para cima; e ia tão contente com ela, como se tivesse uma grande jóia. E tanto que saímos em terra, foi-se logo com ela. E não tornou a aparecer lá. Andariam na praia, quando saímos, oito ou dez deles; e de aí a pouco começaram a vir. E parece-me que viriam este dia a praia quatrocentos ou quatrocentos e cinqüenta. Alguns deles traziam arcos e setas; e deram tudo em troca de carapuças e por qualquer coisa que lhes davam. Comiam conosco do que lhes dávamos, e alguns deles bebiam vinho, ao passo que outros o não podiam beber. Mas quer-me parecer que, se os acostumarem, o hão de beber de boa vontade! Andavam todos tão bem dispostos e tão bem feitos e galantes com suas pinturas que agradavam. Acarretavam dessa lenha quanta podiam, com mil boas vontades, e levavam-na aos batéis. E estavam já mais mansos e seguros entre nós do que nós estávamos entre eles. Foi o Capitão com alguns de nós um pedaço por este arvoredo até um ribeiro grande, e de muita água, que ao nosso parecer é o mesmo que vem ter à praia, em que nós tomamos água. Ali descansamos um pedaço, bebendo e folgando, ao longo dele, entre esse arvoredo que é tanto e tamanho e tão basto e de tanta qualidade de folhagem que não se pode calcular. Há lá muitas palmeiras, de que colhemos muitos e bons palmitos. Ao sairmos do batel, disse o Capitão que seria bom irmos em direitura à cruz que estava encostada a uma árvore, junto ao rio, a fim de ser colocada amanhã, sexta-feira, e que nos puséssemos todos de joelhos e a beijássemos para eles verem o acatamento que lhe tínhamos. E assim fizemos. E a esses dez ou doze que lá estavam, acenaram-lhes que fizessem o mesmo; e logo foram todos beijá-la. Parece-me gente de tal inocência que, se nós entendêssemos a sua fala e eles a nossa, seriam logo cristãos, visto que não têm nem entendem crença alguma, segundo as aparências. E portanto se os degredados que aqui hão de ficar aprenderem bem a sua fala e os entenderem, não duvido que eles, segundo a santa tenção de Vossa Alteza, se farão cristãos e hão de crer na nossa santa fé, à qual praza a Nosso Senhor que os traga, porque certamente esta gente é boa e de bela simplicidade. E imprimir-se-á facilmente neles qualquer cunho que lhe quiserem dar, uma vez que Nosso Senhor lhes deu bons corpos e bons rostos, como a homens bons. E o Ele nos para aqui trazer creio que não foi sem causa. E portanto Vossa Alteza, pois tanto deseja acrescentar a santa fé católica, deve cuidar da salvação deles. E prazerá a Deus que com pouco trabalho seja assim! Eles não lavram nem criam. Nem há aqui boi ou vaca, cabra, ovelha ou galinha, ou qualquer outro animal que esteja acostumado ao viver do homem. E não comem senão deste inhame, de que aqui há muito, e dessas sementes e frutos que a terra e as árvores de si deitam. E com isto andam tais e tão rijos e tão nédios que o não somos nós tanto, com quanto trigo e legumes comemos. Nesse dia, enquanto ali andavam, dançaram e bailaram sempre com os nossos, ao som de um tamboril nosso, como se fossem mais amigos nossos do que nós seus. Se lhes a gente acenava, se queriam vir às naus, aprontavam-se logo para isso, de modo tal, que se os convidáramos a todos, todos vieram. Porém não levamos esta noite às naus senão quatro ou cinco; a saber, o Capitão-mor, dois; e Simão de Miranda, um que já trazia por pagem; e Aires Gomes a outro, pagem também. Os que o Capitão trazia, era um deles um dos seus hóspedes que lhe haviam trazido a primeira vez quando aqui chegamos — o qual veio hoje aqui vestido na sua camisa, e com ele um seu irmão; e foram esta noite mui bem agasalhados tanto de comida como de cama, de colchões e lençóis, para os mais amansar. E hoje que é sexta-feira, primeiro dia de maio, pela manhã, saímos em terra com nossa bandeira; e fomos desembarcar acima do rio, contra o sul onde nos pareceu que seria melhor arvorar a cruz, para melhor ser vista. E ali marcou o Capitão o sítio onde haviam de fazer a cova para a fincar. E enquanto a iam abrindo, ele com todos nós outros fomos pela cruz, rio abaixo onde ela estava. E com os religiosos e sacerdotes que cantavam, à frente, fomos trazendo-a dali, a modo de procissão. Eram já aí quantidade deles, uns setenta ou oitenta; e quando nos assim viram chegar, alguns se foram meter debaixo dela, ajudar-nos. Passamos o rio, ao longo da praia; e fomos colocá-la onde havia de ficar, que será obra de dois tiros de besta do rio. Andando-se ali nisto, viriam bem cento cinqüenta, ou mais. Plantada a cruz, com as armas e a divisa de Vossa Alteza, que primeiro lhe haviam pregado, armaram altar ao pé dela. Ali disse missa o padre frei Henrique, a qual foi cantada e oficiada por esses já ditos. Ali estiveram conosco, a ela, perto de cinqüenta ou sessenta deles, assentados todos de joelho assim como nós. E quando se veio ao Evangelho, que nos erguemos todos em pé, com as mãos levantadas, eles se levantaram conosco, e alçaram as mãos, estando assim até se chegar ao fim; e então tornaram-se a assentar, como nós. E quando levantaram a Deus, que nos pusemos de joelhos, eles se puseram assim como nós estávamos, com as mãos levantadas, e em tal maneira sossegados que certifico a Vossa Alteza que nos fez muita devoção. Estiveram assim conosco até acabada a comunhão; e depois da comunhão, comungaram esses religiosos e sacerdotes; e o Capitão com alguns de nós outros. E alguns deles, por o Sol ser grande, levantaram-se enquanto estávamos comungando, e outros estiveram e ficaram. Um deles, homem de cinqüenta ou cinqüenta e cinco anos, se conservou ali com aqueles que ficaram. Esse, enquanto assim estávamos, juntava aqueles que ali tinham ficado, e ainda chamava outros. E andando assim entre eles, falando-lhes, acenou com o dedo para o altar, e depois mostrou com o dedo para o céu, como se lhes dissesse alguma coisa de bem; e nós assim o tomamos! Acabada a missa, tirou o padre a vestimenta de cima, e ficou na alva; e assim se subiu, junto ao altar, em uma cadeira; e ali nos pregou o Evangelho e dos Apóstolos cujo é o dia, tratando no fim da pregação desse vosso prosseguimento tão santo e virtuoso, que nos causou mais devoção. Esses que estiveram sempre à pregação estavam assim como nós olhando para ele. E aquele que digo, chamava alguns, que viessem ali. Alguns vinham e outros iam-se; e acabada a pregação, trazia Nicolau Coelho muitas cruzes de estanho com crucifixos, que lhe ficaram ainda da outra vinda. E houveram por bem que lançassem a cada um sua ao pescoço. Por essa causa se assentou o padre frei Henrique ao pé da cruz; e ali lançava a sua a todos — um a um — ao pescoço, atada em um fio, fazendo-lha primeiro beijar e levantar as mãos. Vinham a isso muitos; e lançavam-nas todas, que seriam obra de quarenta ou cinqüenta. E isto acabado — era já bem uma hora depois do meio dia — viemos às naus a comer, onde o Capitão trouxe consigo aquele mesmo que fez aos outros aquele gesto para o altar e para o céu, (e um seu irmão com ele). A aquele fez muita honra e deu-lhe uma camisa mourisca; e ao outro uma camisa destoutras. E segundo o que a mim e a todos pareceu, esta gente, não lhes falece outra coisa para ser toda cristã, do que entenderem-nos, porque assim tomavam aquilo que nos viam fazer como nós mesmos; por onde pareceu a todos que nenhuma idolatria nem adoração têm. E bem creio que, se Vossa Alteza aqui mandar quem entre eles mais devagar ande, que todos serão tornados e convertidos ao desejo de Vossa Alteza. E por isso, se alguém vier, não deixe logo de vir clérigo para os batizar; porque já então terão mais conhecimentos de nossa fé, pelos dois degredados que aqui entre eles ficam, os quais hoje também comungaram. Entre todos estes que hoje vieram não veio mais que uma mulher, moça, a qual esteve sempre à missa, à qual deram um pano com que se cobrisse; e puseram-lho em volta dela. Todavia, ao sentar-se, não se lembrava de o estender muito para se cobrir. Assim, Senhor, a inocência desta gente é tal que a de Adão não seria maior — com respeito ao pudor. Ora veja Vossa Alteza quem em tal inocência vive se se convertera, ou não, se lhe ensinarem o que pertence à sua salvação. Acabado isto, fomos perante eles beijar a cruz. E despedimo-nos e fomos comer. Creio, Senhor, que, com estes dois degredados que aqui ficam, ficarão mais dois grumetes, que esta noite se saíram em terra, desta nau, no esquife, fugidos, os quais não vieram mais. E cremos que ficarão aqui porque de manhã, prazendo a Deus fazemos nossa partida daqui. Esta terra, Senhor, parece-me que, da ponta que mais contra o sul vimos, até à outra ponta que contra o norte vem, de que nós deste porto houvemos vista, será tamanha que haverá nela bem vinte ou vinte e cinco léguas de costa. Traz ao longo do mar em algumas partes grandes barreiras, umas vermelhas, e outras brancas; e a terra de cima toda chã e muito cheia de grandes arvoredos. De ponta a ponta é toda praia... muito chã e muito formosa. Pelo sertão nos pareceu, vista do mar, muito grande; porque a estender olhos, não podíamos ver senão terra e arvoredos — terra que nos parecia muito extensa. Até agora não pudemos saber se há ouro ou prata nela, ou outra coisa de metal, ou ferro; nem lha vimos. Contudo a terra em si é de muito bons ares frescos e temperados como os de Entre-Douro-e-Minho, porque neste tempo d'agora assim os achávamos como os de lá. Águas são muitas; infinitas. Em tal maneira é graciosa que, querendo-a aproveitar, dar-se-á nela tudo; por causa das águas que tem! Contudo, o melhor fruto que dela se pode tirar parece-me que será salvar esta gente. E esta deve ser a principal semente que Vossa Alteza em ela deve lançar. E que não houvesse mais do que ter Vossa Alteza aqui esta pousada para essa navegação de Calicute bastava. Quanto mais, disposição para se nela cumprir e fazer o que Vossa Alteza tanto deseja, a saber, acrescentamento da nossa fé! E desta maneira dou aqui a Vossa Alteza conta do que nesta Vossa terra vi. E se a um pouco alonguei, Ela me perdoe. Porque o desejo que tinha de Vos tudo dizer, mo fez pôr assim pelo miúdo. E pois que, Senhor, é certo que tanto neste cargo que levo como em outra qualquer coisa que de Vosso serviço for, Vossa Alteza há de ser de mim muito bem servida, a Ela peço que, por me fazer singular mercê, mande vir da ilha de São Tomé a Jorge de Osório, meu genro — o que d'Ela receberei em muita mercê. Beijo as mãos de Vossa Alteza. Deste Porto Seguro, da Vossa Ilha da Vera Cruz, hoje, sexta-feira, primeiro dia de Maio de 1500. Sobre esta edição digital Este eBook foi gerado a partir do Wikisource,[1] biblioteca online multilíngue, feita por voluntários, comprometida em desenvolver uma coleção de publicações em copyleft de todos os gêneros: (romances, poemas, revistas e periódicos, cartas, livros técnicos etc) Nossos livros são distribuídos gratuitamente, a partir de materiais que tenham caído em domínio público ou que tenham sido disponibilizados em licenças livres. Você pode utilizar nossos materiais para quaisquer fins, inclusive comercialmente, dentro dos termos ou da Creative Commons BY-SA 3.0 [2] ou da GNU FDL,[3] à sua escolha. O Wikisource está sempre à procura de novos membros: sinta-se à vontade em participar. Apesar de nossos cuidados, é possível que este livro contenha um ou mais erros que nos passaram despercebidos. Seja por um ou por outro motivo, você pode nos contatar no nosso fórum.[4] Este livro em particular lhe foi disponibilizado a partir das pessoas por detrás destes nicknames: 555 Schultz DarwIn NMaia CommonsDelinker Get It Erico Koerich~ptwikisource Luan Tetraktys * * * ↑ http://pt.wikisource.org ↑ http://creativecommons.org/licenses/by-sa/3.0/deed.pt_BR ↑ http://www.gnu.org/copyleft/fdl.html ↑ https://pt.wikisource.org/wiki/Wikisource:Esplanada \""
      ]
     },
     "execution_count": 6,
     "metadata": {},
     "output_type": "execute_result"
    }
   ],
   "source": [
    "dataset_text"
   ]
  },
  {
   "cell_type": "code",
   "execution_count": 7,
   "id": "bc803662",
   "metadata": {
    "execution": {
     "iopub.execute_input": "2021-12-09T20:15:09.012653Z",
     "iopub.status.busy": "2021-12-09T20:15:09.011671Z",
     "iopub.status.idle": "2021-12-09T20:15:09.259463Z",
     "shell.execute_reply": "2021-12-09T20:15:09.259910Z",
     "shell.execute_reply.started": "2021-12-09T20:12:42.404559Z"
    },
    "papermill": {
     "duration": 0.272924,
     "end_time": "2021-12-09T20:15:09.260104",
     "exception": false,
     "start_time": "2021-12-09T20:15:08.987180",
     "status": "completed"
    },
    "tags": []
   },
   "outputs": [
    {
     "name": "stdout",
     "output_type": "stream",
     "text": [
      "[nltk_data] Downloading package punkt to /usr/share/nltk_data...\n",
      "[nltk_data]   Package punkt is already up-to-date!\n"
     ]
    },
    {
     "data": {
      "text/plain": [
       "True"
      ]
     },
     "execution_count": 7,
     "metadata": {},
     "output_type": "execute_result"
    }
   ],
   "source": [
    "nltk.download('punkt')"
   ]
  },
  {
   "cell_type": "code",
   "execution_count": 8,
   "id": "d57222cc",
   "metadata": {
    "execution": {
     "iopub.execute_input": "2021-12-09T20:15:09.309946Z",
     "iopub.status.busy": "2021-12-09T20:15:09.309204Z",
     "iopub.status.idle": "2021-12-09T20:15:09.317563Z",
     "shell.execute_reply": "2021-12-09T20:15:09.318082Z",
     "shell.execute_reply.started": "2021-12-09T20:12:42.415491Z"
    },
    "papermill": {
     "duration": 0.035558,
     "end_time": "2021-12-09T20:15:09.318250",
     "exception": false,
     "start_time": "2021-12-09T20:15:09.282692",
     "status": "completed"
    },
    "tags": []
   },
   "outputs": [
    {
     "name": "stdout",
     "output_type": "stream",
     "text": [
      "[nltk_data] Downloading package stopwords to /usr/share/nltk_data...\n",
      "[nltk_data]   Package stopwords is already up-to-date!\n"
     ]
    },
    {
     "data": {
      "text/plain": [
       "True"
      ]
     },
     "execution_count": 8,
     "metadata": {},
     "output_type": "execute_result"
    }
   ],
   "source": [
    "nltk.download('stopwords')"
   ]
  },
  {
   "cell_type": "code",
   "execution_count": 9,
   "id": "a7238a5e",
   "metadata": {
    "execution": {
     "iopub.execute_input": "2021-12-09T20:15:09.367520Z",
     "iopub.status.busy": "2021-12-09T20:15:09.366864Z",
     "iopub.status.idle": "2021-12-09T20:15:09.373212Z",
     "shell.execute_reply": "2021-12-09T20:15:09.373744Z",
     "shell.execute_reply.started": "2021-12-09T20:12:42.430600Z"
    },
    "papermill": {
     "duration": 0.032646,
     "end_time": "2021-12-09T20:15:09.373901",
     "exception": false,
     "start_time": "2021-12-09T20:15:09.341255",
     "status": "completed"
    },
    "tags": []
   },
   "outputs": [
    {
     "name": "stdout",
     "output_type": "stream",
     "text": [
      "['de', 'a', 'o', 'que', 'e', 'é', 'do', 'da', 'em', 'um', 'para', 'com', 'não', 'uma', 'os', 'no', 'se', 'na', 'por', 'mais', 'as', 'dos', 'como', 'mas', 'ao', 'ele', 'das', 'à', 'seu', 'sua', 'ou', 'quando', 'muito', 'nos', 'já', 'eu', 'também', 'só', 'pelo', 'pela', 'até', 'isso', 'ela', 'entre', 'depois', 'sem', 'mesmo', 'aos', 'seus', 'quem', 'nas', 'me', 'esse', 'eles', 'você', 'essa', 'num', 'nem', 'suas', 'meu', 'às', 'minha', 'numa', 'pelos', 'elas', 'qual', 'nós', 'lhe', 'deles', 'essas', 'esses', 'pelas', 'este', 'dele', 'tu', 'te', 'vocês', 'vos', 'lhes', 'meus', 'minhas', 'teu', 'tua', 'teus', 'tuas', 'nosso', 'nossa', 'nossos', 'nossas', 'dela', 'delas', 'esta', 'estes', 'estas', 'aquele', 'aquela', 'aqueles', 'aquelas', 'isto', 'aquilo', 'estou', 'está', 'estamos', 'estão', 'estive', 'esteve', 'estivemos', 'estiveram', 'estava', 'estávamos', 'estavam', 'estivera', 'estivéramos', 'esteja', 'estejamos', 'estejam', 'estivesse', 'estivéssemos', 'estivessem', 'estiver', 'estivermos', 'estiverem', 'hei', 'há', 'havemos', 'hão', 'houve', 'houvemos', 'houveram', 'houvera', 'houvéramos', 'haja', 'hajamos', 'hajam', 'houvesse', 'houvéssemos', 'houvessem', 'houver', 'houvermos', 'houverem', 'houverei', 'houverá', 'houveremos', 'houverão', 'houveria', 'houveríamos', 'houveriam', 'sou', 'somos', 'são', 'era', 'éramos', 'eram', 'fui', 'foi', 'fomos', 'foram', 'fora', 'fôramos', 'seja', 'sejamos', 'sejam', 'fosse', 'fôssemos', 'fossem', 'for', 'formos', 'forem', 'serei', 'será', 'seremos', 'serão', 'seria', 'seríamos', 'seriam', 'tenho', 'tem', 'temos', 'tém', 'tinha', 'tínhamos', 'tinham', 'tive', 'teve', 'tivemos', 'tiveram', 'tivera', 'tivéramos', 'tenha', 'tenhamos', 'tenham', 'tivesse', 'tivéssemos', 'tivessem', 'tiver', 'tivermos', 'tiverem', 'terei', 'terá', 'teremos', 'terão', 'teria', 'teríamos', 'teriam']\n"
     ]
    }
   ],
   "source": [
    "stopwords = nltk.corpus.stopwords.words('portuguese')\n",
    "print(stopwords)"
   ]
  },
  {
   "cell_type": "code",
   "execution_count": 10,
   "id": "95892fc1",
   "metadata": {
    "execution": {
     "iopub.execute_input": "2021-12-09T20:15:09.425479Z",
     "iopub.status.busy": "2021-12-09T20:15:09.424737Z",
     "iopub.status.idle": "2021-12-09T20:15:09.428573Z",
     "shell.execute_reply": "2021-12-09T20:15:09.428124Z",
     "shell.execute_reply.started": "2021-12-09T20:12:42.438122Z"
    },
    "papermill": {
     "duration": 0.032043,
     "end_time": "2021-12-09T20:15:09.428717",
     "exception": false,
     "start_time": "2021-12-09T20:15:09.396674",
     "status": "completed"
    },
    "tags": []
   },
   "outputs": [
    {
     "data": {
      "text/plain": [
       "204"
      ]
     },
     "execution_count": 10,
     "metadata": {},
     "output_type": "execute_result"
    }
   ],
   "source": [
    "len(stopwords)"
   ]
  },
  {
   "cell_type": "code",
   "execution_count": 11,
   "id": "1f744e99",
   "metadata": {
    "execution": {
     "iopub.execute_input": "2021-12-09T20:15:09.479820Z",
     "iopub.status.busy": "2021-12-09T20:15:09.477770Z",
     "iopub.status.idle": "2021-12-09T20:15:09.482426Z",
     "shell.execute_reply": "2021-12-09T20:15:09.482882Z",
     "shell.execute_reply.started": "2021-12-09T20:12:42.449994Z"
    },
    "papermill": {
     "duration": 0.031194,
     "end_time": "2021-12-09T20:15:09.483097",
     "exception": false,
     "start_time": "2021-12-09T20:15:09.451903",
     "status": "completed"
    },
    "tags": []
   },
   "outputs": [
    {
     "data": {
      "text/plain": [
       "'!\"#$%&\\'()*+,-./:;<=>?@[\\\\]^_`{|}~'"
      ]
     },
     "execution_count": 11,
     "metadata": {},
     "output_type": "execute_result"
    }
   ],
   "source": [
    "string.punctuation"
   ]
  },
  {
   "cell_type": "code",
   "execution_count": 12,
   "id": "e0d419d3",
   "metadata": {
    "execution": {
     "iopub.execute_input": "2021-12-09T20:15:09.533734Z",
     "iopub.status.busy": "2021-12-09T20:15:09.533155Z",
     "iopub.status.idle": "2021-12-09T20:15:09.537850Z",
     "shell.execute_reply": "2021-12-09T20:15:09.538403Z",
     "shell.execute_reply.started": "2021-12-09T20:12:42.464441Z"
    },
    "papermill": {
     "duration": 0.031272,
     "end_time": "2021-12-09T20:15:09.538565",
     "exception": false,
     "start_time": "2021-12-09T20:15:09.507293",
     "status": "completed"
    },
    "tags": []
   },
   "outputs": [],
   "source": [
    "def preprocessing(text):\n",
    "  formatted_text = text.lower()\n",
    "  tokens = []\n",
    "  for token in nltk.word_tokenize(formatted_text):\n",
    "    tokens.append(token)\n",
    "\n",
    "  tokens = [word for word in tokens if word not in stopwords and word not in string.punctuation]\n",
    "  formatted_text = ' '.join([str(element) for element in tokens if not element.isdigit()])\n",
    "\n",
    "  return formatted_text"
   ]
  },
  {
   "cell_type": "code",
   "execution_count": 13,
   "id": "27674520",
   "metadata": {
    "execution": {
     "iopub.execute_input": "2021-12-09T20:15:09.588366Z",
     "iopub.status.busy": "2021-12-09T20:15:09.587701Z",
     "iopub.status.idle": "2021-12-09T20:15:09.684840Z",
     "shell.execute_reply": "2021-12-09T20:15:09.685382Z",
     "shell.execute_reply.started": "2021-12-09T20:12:42.474818Z"
    },
    "papermill": {
     "duration": 0.12349,
     "end_time": "2021-12-09T20:15:09.685581",
     "exception": false,
     "start_time": "2021-12-09T20:15:09.562091",
     "status": "completed"
    },
    "tags": []
   },
   "outputs": [
    {
     "data": {
      "text/plain": [
       "\"carta pero vaz caminha pero vaz caminha conteúdo exportado wiki wikisource dezembro senhor posto capitão-mor desta vossa frota assim outros capitães escrevam vossa alteza nova achamento desta vossa terra nova agora nesta navegação achou deixarei dar disso conta vossa alteza assim melhor puder ainda — bem contar falar — saiba pior todos fazer todavia tome vossa alteza ignorância boa vontade bem certo creia aformosentar afear aqui pôr vi pareceu marinhagem singraduras caminho darei aqui conta vossa alteza — porque saberei fazer — pilotos devem ter cuidado portanto senhor falar começo digo quê partida belém vossa alteza sabe segunda-feira março sábado dito mês horas achamos canárias perto grande canária ali andamos todo dia calma vista obra três quatro léguas domingo dito mês dez horas menos vista ilhas cabo verde saber ilha nicolau segundo dito pero escolar piloto noite seguinte segunda-feira amanheceu perdeu frota vasco ataíde nau haver tempo forte contrário poder ser fez capitão diligências achar umas outras partes ... apareceu assim seguimos caminho mar longo terça-feira oitavas páscoa dias abril topamos alguns sinais terra estando dita ilha — segundo pilotos diziam obra léguas — quais muita quantidade ervas compridas mareantes chamam botelho assim outras dão nome rabo-de-asno quarta-feira seguinte manhã topamos aves chamam furabuchos neste dia horas véspera vista terra saber primeiramente grande monte alto redondo outras serras baixas sul terra chã grandes arvoredos monte alto capitão pôs nome monte pascoal terra terra vera cruz mandou lançar prumo acharam vinte cinco braças sol-posto umas seis léguas terra lançamos ancoras dezenove braças — ancoragem limpa ali ficamo-nos toda noite quinta-feira manhã fizemos vela seguimos direitura terra indo navios pequenos diante — dezessete dezesseis quinze catorze doze nove braças — meia légua terra onde todos lançamos ancoras frente boca rio chegaríamos ancoragem dez horas pouco menos dali avistamos homens andavam praia uns sete oito segundo disseram navios pequenos chegaram primeiro então lançamos batéis esquifes logo vieram todos capitães naus nau capitão-mor ali falaram capitão mandou terra nicolau coelho ver rio tanto começou ir-se lá acudiram praia homens dois três maneira batel chegou boca rio lá dezoito vinte pardos nus coisa alguma cobrisse vergonhas traziam arcos mãos setas vinham todos rijamente direção batel nicolau coelho fez sinal pousassem arcos depuseram pôde haver fala entendimento aproveitasse mar quebrar costa somente arremessou-lhe barrete vermelho carapuça linho levava cabeça sombreiro preto arremessou sombreiro penas ave compridas copazinha penas vermelhas pardas papagaio outro deu ramal grande continhas brancas miúdas querem parecer aljôfar quais peças creio capitão manda vossa alteza volveu naus ser tarde poder haver fala causa mar noite seguinte ventou tanto sueste chuvaceiros fez caçar naus especialmente capitaina sexta manhã oito horas pouco menos conselho pilotos mandou capitão levantar ancoras fazer vela longo costa batéis esquifes amarrados popa direção norte ver achávamos alguma abrigada bom pouso onde ficássemos tomar água lenha minguar prevenirmos aqui fizemos vela estariam praia assentados perto rio obra sessenta setenta homens haviam juntado ali poucos longo mandou capitão navios pequenos chegados terra achassem pouso seguro naus amainassem velejando costa distância dez léguas sítio onde levantado ferro acharam ditos navios pequenos recife porto dentro bom seguro mui larga entrada meteram-se dentro amainaram naus foram-se chegando atrás pouco antes sol-pôsto amainaram talvez légua recife ancoraram onze braças estando afonso lopez piloto daqueles navios pequenos mandado capitão ser homem vivo destro meter-se logo esquife sondar porto dentro tomou dois daqueles homens terra almadia mancebos bons corpos trazia arco seis sete setas praia andavam muitos arcos setas aproveitou logo noite levou-os capitaina onde recebidos prazer festa feição serem pardos tanto avermelhados bons rostos bons narizes bem feitos andam nus cobertura alguma fazem caso encobrir deixa encobrir vergonhas mostrar cara acerca disso grande inocência ambos traziam beiço baixo furado metido nele osso verdadeiro comprimento mão travessa grossura fuso algodão agudo ponta furador metem-nos parte dentro beiço parte fica beiço dentes feita modo roque xadrez trazem-no ali encaixado sorte magoa põe estorvo falar comer beber cabelos corredios andavam tosquiados tosquia alta antes sobre-pente boa grandeza rapados todavia cima orelhas trazia baixo solapa fonte fonte parte detrás espécie cabeleira penas ave amarela comprimento coto mui basta mui cerrada cobria toutiço orelhas andava pegada cabelos pena pena confeição branda maneira tal cabeleira mui redonda mui basta mui igual fazia míngua lavagem levantar capitão vieram sentado cadeira pés alcatifa estrado bem vestido colar ouro mui grande pescoço sancho tovar simão miranda nicolau coelho aires corrêa outros aqui nau íamos sentados chão nessa alcatifa acenderam-se tochas entraram sinal cortesia fizeram falar capitão alguém todavia fitou colar capitão começou fazer acenos mão direção terra colar quisesse dizer-nos havia ouro terra olhou castiçal prata assim acenava terra novamente castiçal lá prata mostraram-lhes papagaio pardo capitão traz consigo tomaram-no logo mão acenaram terra ali mostraram-lhes carneiro fizeram caso mostraram-lhes galinha quase medo queriam pôr mão pegaram espantados deram-lhes ali comer pão peixe cozido confeitos fartéis mel figos passados quiseram comer daquilo quase nada provavam alguma coisa logo lançavam trouxeram-lhes vinho taça mal puseram boca gostaram nada quiseram trouxeram-lhes água albarrada provaram cada bochecho beberam apenas lavaram bocas lançaram-na viu umas contas rosário brancas fez sinal lhas dessem folgou lançou-as pescoço tirou-as meteu-as volta braço acenava terra novamente contas colar capitão dariam ouro tomávamos nesse sentido assim desejarmos queria dizer levaria contas colar queríamos entender lho havíamos dar tornou contas lhas dera então estiraram-se costas alcatifa dormir procurarem maneiras encobrir vergonhas quais fanadas cabeleiras bem rapadas feitas capitão mandou pôr baixo cabeça cada coxim cabeleira esforçava-se estragar deitaram manto cima consentindo aconchegaram-se adormeceram sábado manhã mandou capitão fazer vela demandar entrada mui larga seis sete braças fundo entraram todas naus dentro ancoraram cinco seis braças — ancoradouro tão grande tão formoso dentro tão seguro podem ficar nele duzentos navios naus tanto naus distribuídas ancoradas vieram capitães todos nau capitão-mor daqui mandou capitão nicolau coelho bartolomeu dias terra levassem dois homens deixassem ir arco setas quais mandou dar cada camisa nova carapuça vermelha rosário contas brancas osso levando braços cascavel campainha mandou lá ficar mancebo degredado criado dom joão telo nome afonso ribeiro lá andar saber viver maneiras mim mandou nicolau coelho assim frecha direitos praia ali acudiram logo perto duzentos homens todos nus arcos setas mãos levamos acenaram-lhes afastassem depusessem arcos depuseram afastaram mal pousado arcos saíram levávamos mancebo degredado saídos pararam esperavam outro antes corriam correria passaram rio aí corre água doce muita água dava braga muitos outros assim correndo além rio umas moitas palmeiras onde outros ali pararam naquilo ido degredado homem logo sair batel agasalhou levou lá logo tornaram vieram outros leváramos quais vinham nus carapuças então começaram chegar muitos entravam beira mar batéis podiam traziam cabaças d'água tomavam alguns barris levávamos enchiam-nos água traziam-nos batéis todo chegassem bordo batel junto lançavam-nos mão tomávamo-los pediam dessem alguma coisa levava nicolau coelho cascavéis manilhas uns dava cascavel outros manilha maneira encarna quase queriam dar mão davam-nos daqueles arcos setas troca sombreiros carapuças linho qualquer coisa gente queria dar dali partiram outros dois mancebos vimos ali andavam muitos — quase maior parte —traziam bicos osso beiços alguns andavam traziam beiços furados buracos traziam uns espelhos pau pareciam espelhos borracha alguns traziam três daqueles bicos saber meio dois cabos andavam lá outros quartejados cores saber metade própria cor metade tintura preta tanto azulada outros quartejados d'escaques ali andavam três quatro moças bem novinhas gentis cabelos pretos compridos costas vergonhas tão altas tão cerradinhas tão limpas cabeleiras bem olharmos envergonhavam ali então fala entendimento barbana ser tamanha entendia ouvia ninguém acenamos-lhes assim fizeram passaram-se além rio saíram três quatro homens batéis encheram sei quantos barris d'água levávamos tornamo-nos naus assim vínhamos acenaram-nos voltássemos voltamos mandaram degredado quiseram ficasse lá levava bacia pequena duas três carapuças vermelhas lá dar senhor lá trataram tirar coisa alguma antes mandaram-no tudo então bartolomeu dias fez outra vez tornar desse tornou deu vista primeira agasalhara então veio-se levamo-lo agasalhou idade andava galanteria cheio penas pegadas corpo parecia seteado sebastião outros traziam carapuças penas amarelas outros vermelhas outros verdes daquelas moças toda tingida baixo cima daquela tintura certo tão bem feita tão redonda vergonha tão graciosa muitas mulheres terra vendo-lhe tais feições envergonhara terem nenhum fanado todos assim tornamos foram-se tarde saiu capitão-mor batel todos outros capitães naus batéis folgar baía perto praia ninguém saiu terra capitão querer apesar ninguém estar nela apenas saiu — todos — ilhéu grande baía aquando baixamar fica mui vazio tudo todas partes cercado água sorte ninguém lá pode ir ser barco nado ali folgou todos bem hora meia pescaram lá andando alguns marinheiros chinchorro mataram peixe miúdo volvemo-nos naus bem noite primeira missa brasil pintura victor meirelles.ao domingo pascoela manhã determinou capitão ir ouvir missa sermão naquele ilhéu mandou todos capitães arranjassem batéis assim feito mandou armar pavilhão naquele ilhéu dentro levantar altar mui bem arranjado ali todos outros fez dizer missa disse padre frei henrique voz entoada oficiada mesma voz outros padres sacerdotes todos assistiram missa segundo parecer ouvida todos prazer devoção ali capitão bandeira cristo saíra belém sempre bem alta parte evangelho acabada missa desvestiu-se padre subiu cadeira alta todos lançados areia pregou solene proveitosa pregação história evangélica fim tratou vida achamento desta terra referindo-se cruz sob cuja obediência viemos veio propósito fez muita devoção enquanto assistimos missa sermão estaria praia outra tanta gente pouco menos ontem arcos setas andava folgando olhando-nos sentaram acabada missa sentados atendíamos pregação levantaram-se muitos tangeram corno buzina começaram saltar dançar pedaço alguns metiam almadias — duas três lá — quais feitas vi apenas três traves atadas juntas ali metiam quatro cinco queriam afastando quase nada terra onde podiam tomar pé acabada pregação encaminhou-se capitão todos batéis bandeira alta embarcamos indo todos direção terra passarmos longo onde indo dianteira ordem capitão bartolomeu dias esquife pau almadia mar levara entregar todos trás distância tiro pedra viram esquife bartolomeu dias chegaram-se logo todos água metendo-se nela onde podiam acenaram-lhes pousassem arcos muitos iam logo pôr terra outros punham andava lá falava outros afastassem mim parecesse respeito medo assim andava afastando trazia arco setas tinto tintura vermelha peitos costas quadris coxas pernas baixo vazios barriga estômago própria cor tintura tão vermelha água lha comia desfazia antes saía água vermelho saiu homem esquife bartolomeu dias andava meio implicarem nada menos ainda pensavam fazer-lhe mal apenas davam cabaças d'água acenavam esquife saíssem terra volveu bartolomeu dias capitão viemo-nos naus comer tangendo trombetas gaitas constranger tornaram-se sentar praia assim então ficaram neste ilhéu onde ouvir missa sermão espraia água descobre muita areia cascalho enquanto lá alguns buscar marisco acharam acharam alguns camarões grossos curtos quais vinha grande grosso nenhum tempo vi tamanho acharam cascas berbigões amêijoas toparam nenhuma peça inteira termos comido vieram logo todos capitães nau ordem capitão-mor quais aportou companhia perguntou todos parecia bem mandar nova achamento desta terra vossa alteza navio mantimentos melhor mandar descobrir saber podíamos saber irmos viagem muitas falas sobre caso fizeram dito todos maior parte bem nisto concordaram logo resolução tomada perguntou bem tomar aqui força par destes homens mandar vossa alteza deixando aqui lugar outros dois destes degredados concordaram necessário tomar força homens porque costume assim força levavam alguma parte dizerem tudo quanto perguntam melhor melhor informação terra dariam dois homens desses degredados aqui deixássemos dariam levassem ser gente ninguém entende cedo aprenderiam falar saberem tão bem dizer melhor estoutros digam cá vossa alteza mandar portanto cuidássemos aqui força tomar ninguém fazer escândalo sim todo amansar apaziguar unicamente deixar aqui dois degredados daqui partíssemos assim ficou determinado parecer melhor todos acabado disse capitão batéis terra ver-se-ia bem quejando rio folgarmos todos batéis terra armados bandeira conosco andavam ali praia boca rio onde íamos antes chegássemos ensino dantes puseram todos arcos acenaram saíssemos tanto batéis puseram proas terra passaram-se logo todos além rio ancho jogo mancal tanto desembarcamos alguns passaram logo rio meteram-se alguns aguardavam outros afastavam tudo coisa maneira todos andavam misturados davam desses arcos setas sombreiros carapuças linho qualquer coisa davam passaram além tantos andaram assim misturados esquivavam afastavam-se iam alguns cima onde outros então capitão fez tomassem colo dois homens passou rio fez tornar todos gente ali costume logo capitão chamou todos trás alguns chegaram reconhecerem senhor porque gente passava aquém rio ali falavam traziam muitos arcos continhas daquelas ditas resgatavam-nas qualquer coisa tal maneira levavam dali naus muitos arcos setas contas então tornou-se capitão aquém rio logo acudiram muitos beira ali veríeis galantes pintados preto vermelho quartejados assim corpos pernas certo assim pareciam bem andavam quatro cinco mulheres novas assim nuas pareciam mal andava coxa joelho quadril nádega toda tingida daquela tintura preta todo resto cor natural outra trazia ambos joelhos curvas assim tintas colos pés vergonhas tão nuas tanta inocência assim descobertas havia nisso desvergonha nenhuma andava lá outra mulher nova menino menina atado pano peitos modo viam senão perninhas pernas mãe resto havia pano algum seguida capitão subindo longo rio corre rente praia ali esperou velho trazia mão pá almadia falou enquanto capitão presença todos ninguém entendia coisas gente perguntava respeito ouro porque desejávamos saber havia terra trazia velho beiço tão furado cabia buraco grosso dedo polegar trazia metido buraco pedra verde nenhum valor fechava buraco capitão lha fez tirar sei diabo falava ia boca capitão lha meter rindo pouco dizendo chalaças sobre então enfadou-se capitão deixou-o deu-lhe pedra sombreiro velho valer alguma coisa amostra houve-a capitão creio mandar outras coisas vossa alteza andamos aí vendo ribeiro muita água boa longo muitas palmeiras altas bons palmitos colhemos comemos muitos tornou-se capitão baixo boca rio onde desembarcado além rio andavam muitos dançando folgando uns diante outros tomarem mãos faziam-no bem passou-se então outra banda rio diogo dias almoxarife sacavém homem gracioso prazer levou consigo gaiteiro gaita meteu-se dançar tomando-os mãos folgavam riam andavam bem som gaita dançarem fez ali muitas voltas ligeiras andando chão salto real espantavam riam folgavam conquanto segurou afagou tomavam logo esquiveza animais montezes foram-se cima então passou rio capitão todos praia longo passo batéis iam rentes terra chegamos grande lagoa água doce perto praia porque toda ribeira mar apaulada cima sai água muitos lugares passarmos rio uns sete oito meter-se marinheiros recolhiam batéis levaram dali tubarão bartolomeu dias matou levavam-lho lançou-o praia bastará aqui quer alguma parte amansassem logo mão outra esquivavam pardais cevadouro ninguém ousa falar rijo esquivarem tudo passa querem — bem amansarmos velho capitão havia falado deu-lhe carapuça vermelha toda conversa carapuça deu tanto despediu começou passar rio foi-se logo recatando quis tornar rio aquém outros dois capitão naus quais deu ficou dito nunca aqui apareceram — fatos deduzo gente bestial pouco saber tão esquiva apesar tudo andam bem curados limpos naquilo ainda convenço aves alimárias montezinhas quais ar faz melhores penas melhor cabelo mansas porque corpos tão limpos tão gordos tão formosos pode ser faz presumir casas moradias recolham ar criam faz tais menos vimos agora nenhumas casas coisa pareça mandou capitão degredado afonso ribeiro outra vez andou lá bom pedaço tarde regressou fizeram vir quiseram lá consentir deram-lhe arcos setas tomaram nada antes disse tomara umas continhas amarelas levava fugia queixou outros logo após lhas tomaram tornaram-lhas dar então mandaram-no vir disse vira lá senão umas choupaninhas rama verde feteiras grandes douro minho assim nostornamos naus quase noite dormir segunda-feira comer saímos todos terra tomar água ali vieram então muitos tantos outras vezes traziam poucos arcos pouco afastados pouco pouco misturaram-se conosco abraçavam-nos folgavam alguns esquivavam logo ali davam alguns arcos folhas papel alguma carapucinha velha qualquer coisa tal maneira passou coisa bem vinte trinta pessoas onde outros muitos moças mulheres trouxeram lá muitos arcos barretes penas aves uns verdes outros amarelos quais creio capitão mandar amostra vossa alteza segundo diziam lá ido brincaram neste dia vimos perto vontade andarmos quase todos misturados uns andavam quartejados daquelas tinturas outros metades outros tanta feição pano ras todos beiços furados muitos ossos neles bastantes ossos alguns traziam uns ouriços verdes árvores cor queriam parecer castanheiras embora pequenos cheios uns grãos vermelhos pequeninos esmagando-se dedos desfaziam tinta vermelha andavam tingidos quanto molhavam tanto vermelhos ficavam todos andam rapados cima orelhas assim sobrancelhas pestanas trazem todos testas fonte fonte tintas tintura preta parece fita preta largura dois dedos capitão mandou degredado afonso ribeiro outros dois degredados meter-se assim diogo dias ser homem alegre folgavam degredados ordenou ficassem lá noite foram-se lá todos andaram segundo diziam bem légua meia povoação haveria nove dez casas quais diziam tão compridas cada nau capitaina madeira ilhargas tábuas cobertas palha razoável altura todas espaço repartição alguma dentro muitos esteios esteio esteio rede atada cabos cada esteio altas dormiam baixo aquentarem faziam fogos cada casa duas portas pequenas extremidade outra oposta diziam cada casa recolhiam trinta quarenta pessoas assim encontraram deram comer alimentos saber inhame outras sementes terra dá comem fazia tarde fizeram-nos logo todos tornar quiseram lá ficasse nenhum ainda segundo diziam queriam vir resgataram lá cascavéis outras coisinhas pouco valor levavam papagaios vermelhos grandes formosos dois verdes pequeninos carapuças penas verdes pano penas muitas cores espécie tecido assaz belo segundo vossa alteza todas coisas verá porque capitão vo-las mandar segundo disse vieram tornamo-nos naus terça-feira comer terra fazer lenha lavar roupa praia chegamos uns sessenta setenta arcos nada tanto chegamos vieram logo esquivarem acudiram muitos bem duzentos todos arcos misturaram-se todos tanto conosco uns ajudavam acarretar lenha metê-las batéis lutavam tomavam prazer enquanto fazíamos lenha construíam dois carpinteiros grande cruz pau ontem cortara muitos vinham ali estar carpinteiros creio faziam verem ferramenta ferro faziam verem cruz porque coisa ferro cortam madeira paus pedras feitas cunhas metidas pau duas talas mui bem atadas tal maneira andam fortes porque lhas viram lá conversação conosco tanta quase estorvavam havíamos fazer capitão mandou dois degredados diogo dias lá aldeia modo algum viessem dormir naus ainda mandassem embora assim enquanto andávamos nessa mata cortar lenha atravessavam alguns papagaios árvores verdes uns pardos outros grandes pequenos sorte parece haverá muitos nesta terra todavia vi nove dez outras aves vimos então ser algumas pombas-seixeiras pareceram-me maiores bastante portugal vários diziam viram rolas vi todavia segundo arvoredos mui muitos grandes infinitas espécies duvido sertão muitas aves cerca noite volvemos naus lenha creio senhor dei ainda conta aqui vossa alteza feitio arcos setas arcos pretos compridos setas compridas ferros canas aparadas conforme vossa alteza verá alguns creio capitão enviar quarta-feira terra porque capitão andou todo dia navio mantimentos despejá-lo fazer levar naus cada podia levar acudiram praia muitos segundo naus vimos perto trezentos segundo sancho tovar lá diogo dias afonso ribeiro degredado quais capitão ontem ordenara toda maneira lá dormissem voltado noite quererem lá ficassem traziam papagaios verdes outras aves pretas quase pegas diferença terem bico branco rabos curtos sancho tovar recolheu nau queriam vir alguns admitiu senão dois mancebos bem dispostos homens prol mandou pensar curá-los mui bem noite comeram toda ração deram mandou dar-lhes cama lençóis segundo disse dormiram folgaram noite dia escrever quinta-feira derradeiro abril comemos logo quase manhã terra lenha água querendo capitão sair desta nau chegou sancho tovar dois hóspedes ainda ter comido puseram-lhe toalhas veio-lhe comida comeu hóspedes sentaram-no cada cadeira tudo quanto deram comeram mui bem especialmente lacão cozido frio arroz deram vinho sancho tovar dizer bebiam bem acabado comer metemo-nos todos batel conosco deu grumete armadura grande porco montês bem revolta logo tomou meteu-a beiço porque queria segurar deram-lhe pouca cera vermelha ajeitou-lhe adereço parte trás sorte segurasse meteu-a beiço assim revolta cima ia tão contente grande jóia tanto saímos terra foi-se logo tornou aparecer lá andariam praia saímos oito dez aí pouco começaram vir parece-me viriam dia praia quatrocentos quatrocentos cinqüenta alguns traziam arcos setas deram tudo troca carapuças qualquer coisa davam comiam conosco dávamos alguns bebiam vinho passo outros podiam beber quer-me parecer acostumarem beber boa vontade andavam todos tão bem dispostos tão bem feitos galantes pinturas agradavam acarretavam dessa lenha quanta podiam mil boas vontades levavam-na batéis mansos seguros capitão alguns pedaço arvoredo ribeiro grande muita água parecer vem ter praia tomamos água ali descansamos pedaço bebendo folgando longo arvoredo tanto tamanho tão basto tanta qualidade folhagem pode calcular lá muitas palmeiras colhemos muitos bons palmitos sairmos batel disse capitão bom irmos direitura cruz encostada árvore junto rio fim ser colocada amanhã sexta-feira puséssemos todos joelhos beijássemos verem acatamento assim fizemos dez doze lá acenaram-lhes fizessem logo todos beijá-la parece-me gente tal inocência entendêssemos fala logo cristãos visto têm entendem crença alguma segundo aparências portanto degredados aqui ficar aprenderem bem fala entenderem duvido segundo santa tenção vossa alteza farão cristãos crer santa fé praza senhor traga porque certamente gente boa bela simplicidade imprimir-se-á facilmente neles qualquer cunho quiserem dar vez senhor deu bons corpos bons rostos homens bons aqui trazer creio causa portanto vossa alteza pois tanto deseja acrescentar santa fé católica deve cuidar salvação prazerá deus pouco trabalho assim lavram criam aqui boi vaca cabra ovelha galinha qualquer outro animal acostumado viver homem comem senão deste inhame aqui dessas sementes frutos terra árvores si deitam andam tais tão rijos tão nédios tanto quanto trigo legumes comemos nesse dia enquanto ali andavam dançaram bailaram sempre som tamboril amigos gente acenava queriam vir naus aprontavam-se logo modo tal convidáramos todos todos vieram porém levamos noite naus senão quatro cinco saber capitão-mor dois simão miranda trazia pagem aires gomes outro pagem capitão trazia hóspedes haviam trazido primeira vez aqui chegamos — veio hoje aqui vestido camisa irmão noite mui bem agasalhados tanto comida cama colchões lençóis amansar hoje sexta-feira primeiro dia maio manhã saímos terra bandeira desembarcar acima rio contra sul onde pareceu melhor arvorar cruz melhor ser vista ali marcou capitão sítio onde haviam fazer cova fincar enquanto iam abrindo todos outros cruz rio abaixo onde religiosos sacerdotes cantavam frente trazendo-a dali modo procissão aí quantidade uns setenta oitenta assim viram chegar alguns meter debaixo ajudar-nos passamos rio longo praia colocá-la onde havia ficar obra dois tiros besta rio andando-se ali nisto viriam bem cento cinqüenta plantada cruz armas divisa vossa alteza primeiro haviam pregado armaram altar pé ali disse missa padre frei henrique cantada oficiada ditos ali conosco perto cinqüenta sessenta assentados todos joelho assim veio evangelho erguemos todos pé mãos levantadas levantaram conosco alçaram mãos estando assim chegar fim então tornaram-se assentar levantaram deus pusemos joelhos puseram assim mãos levantadas tal maneira sossegados certifico vossa alteza fez muita devoção assim conosco acabada comunhão comunhão comungaram religiosos sacerdotes capitão alguns outros alguns sol ser grande levantaram-se enquanto comungando outros ficaram homem cinqüenta cinqüenta cinco anos conservou ali ficaram enquanto assim juntava ali ficado ainda chamava outros andando assim falando-lhes acenou dedo altar mostrou dedo céu dissesse alguma coisa bem assim tomamos acabada missa tirou padre vestimenta cima ficou alva assim subiu junto altar cadeira ali pregou evangelho apóstolos cujo dia tratando fim pregação desse vosso prosseguimento tão santo virtuoso causou devoção sempre pregação assim olhando digo chamava alguns viessem ali alguns vinham outros iam-se acabada pregação trazia nicolau coelho muitas cruzes estanho crucifixos ficaram ainda outra vinda bem lançassem cada pescoço causa assentou padre frei henrique pé cruz ali lançava todos — — pescoço atada fio fazendo-lha primeiro beijar levantar mãos vinham muitos lançavam-nas todas obra quarenta cinqüenta acabado — bem hora meio dia — viemos naus comer onde capitão trouxe consigo fez outros gesto altar céu irmão fez muita honra deu-lhe camisa mourisca outro camisa destoutras segundo mim todos pareceu gente falece outra coisa ser toda cristã entenderem-nos porque assim tomavam viam fazer mesmos onde pareceu todos nenhuma idolatria adoração têm bem creio vossa alteza aqui mandar devagar ande todos tornados convertidos desejo vossa alteza alguém vier deixe logo vir clérigo batizar porque então conhecimentos fé dois degredados aqui ficam quais hoje comungaram todos hoje vieram veio mulher moça sempre missa deram pano cobrisse puseram-lho volta todavia sentar-se lembrava estender cobrir assim senhor inocência desta gente tal adão maior — respeito pudor ora veja vossa alteza tal inocência vive convertera ensinarem pertence salvação acabado perante beijar cruz despedimo-nos comer creio senhor dois degredados aqui ficam ficarão dois grumetes noite saíram terra desta nau esquife fugidos quais vieram cremos ficarão aqui porque manhã prazendo deus fazemos partida daqui terra senhor parece-me ponta contra sul vimos outra ponta contra norte vem deste porto vista tamanha haverá nela bem vinte vinte cinco léguas costa traz longo mar algumas partes grandes barreiras umas vermelhas outras brancas terra cima toda chã cheia grandes arvoredos ponta ponta toda praia ... chã formosa sertão pareceu vista mar grande porque estender olhos podíamos ver senão terra arvoredos — terra parecia extensa agora pudemos saber ouro prata nela outra coisa metal ferro lha vimos contudo terra si bons ares frescos temperados entre-douro-e-minho porque neste tempo d'agora assim achávamos lá águas muitas infinitas tal maneira graciosa querendo-a aproveitar dar-se-á nela tudo causa águas contudo melhor fruto pode tirar parece-me salvar gente deve ser principal semente vossa alteza deve lançar ter vossa alteza aqui pousada navegação calicute bastava quanto disposição nela cumprir fazer vossa alteza tanto deseja saber acrescentamento fé desta maneira dou aqui vossa alteza conta nesta vossa terra vi pouco alonguei perdoe porque desejo tudo dizer mo fez pôr assim miúdo pois senhor certo tanto neste cargo levo outra qualquer coisa vosso serviço vossa alteza ser mim bem servida peço fazer singular mercê mande vir ilha tomé jorge osório genro — d'ela receberei muita mercê beijo mãos vossa alteza deste porto seguro vossa ilha vera cruz hoje sexta-feira primeiro dia maio 1500. sobre edição digital ebook gerado partir wikisource biblioteca online multilíngue feita voluntários comprometida desenvolver coleção publicações copyleft todos gêneros romances poemas revistas periódicos cartas livros técnicos etc livros distribuídos gratuitamente partir materiais caído domínio público sido disponibilizados licenças livres pode utilizar materiais quaisquer fins inclusive comercialmente dentro termos creative commons by-sa 3.0 gnu fdl escolha wikisource sempre procura novos membros sinta-se vontade participar apesar cuidados possível livro contenha erros passaram despercebidos outro motivo pode contatar fórum livro particular disponibilizado partir pessoas detrás destes nicknames schultz darwin nmaia commonsdelinker get it erico koerich~ptwikisource luan tetraktys ↑ http //pt.wikisource.org ↑ http //creativecommons.org/licenses/by-sa/3.0/deed.pt_br ↑ http //www.gnu.org/copyleft/fdl.html ↑ https //pt.wikisource.org/wiki/wikisource esplanada\""
      ]
     },
     "execution_count": 13,
     "metadata": {},
     "output_type": "execute_result"
    }
   ],
   "source": [
    "formatted_text = preprocessing(dataset_text)\n",
    "formatted_text"
   ]
  },
  {
   "cell_type": "markdown",
   "id": "33729b3b",
   "metadata": {
    "papermill": {
     "duration": 0.024316,
     "end_time": "2021-12-09T20:15:09.736016",
     "exception": false,
     "start_time": "2021-12-09T20:15:09.711700",
     "status": "completed"
    },
    "tags": []
   },
   "source": [
    "# frequency of words"
   ]
  },
  {
   "cell_type": "code",
   "execution_count": 14,
   "id": "7c50d1c3",
   "metadata": {
    "execution": {
     "iopub.execute_input": "2021-12-09T20:15:09.795901Z",
     "iopub.status.busy": "2021-12-09T20:15:09.795055Z",
     "iopub.status.idle": "2021-12-09T20:15:09.818178Z",
     "shell.execute_reply": "2021-12-09T20:15:09.818746Z",
     "shell.execute_reply.started": "2021-12-09T20:12:42.619312Z"
    },
    "papermill": {
     "duration": 0.05865,
     "end_time": "2021-12-09T20:15:09.818932",
     "exception": false,
     "start_time": "2021-12-09T20:15:09.760282",
     "status": "completed"
    },
    "tags": []
   },
   "outputs": [
    {
     "data": {
      "text/plain": [
       "FreqDist({'todos': 55, 'capitão': 50, 'terra': 48, 'assim': 44, 'bem': 42, 'outros': 36, 'ali': 36, 'lá': 34, 'vossa': 31, 'logo': 30, ...})"
      ]
     },
     "execution_count": 14,
     "metadata": {},
     "output_type": "execute_result"
    }
   ],
   "source": [
    "frequency_words = nltk.FreqDist(nltk.word_tokenize(formatted_text)) \n",
    "frequency_words"
   ]
  },
  {
   "cell_type": "code",
   "execution_count": 15,
   "id": "53f62ea1",
   "metadata": {
    "execution": {
     "iopub.execute_input": "2021-12-09T20:15:09.872543Z",
     "iopub.status.busy": "2021-12-09T20:15:09.871596Z",
     "iopub.status.idle": "2021-12-09T20:15:09.875403Z",
     "shell.execute_reply": "2021-12-09T20:15:09.875910Z",
     "shell.execute_reply.started": "2021-12-09T20:12:42.677277Z"
    },
    "papermill": {
     "duration": 0.031881,
     "end_time": "2021-12-09T20:15:09.876088",
     "exception": false,
     "start_time": "2021-12-09T20:15:09.844207",
     "status": "completed"
    },
    "tags": []
   },
   "outputs": [],
   "source": [
    "maximum_frequency = max(frequency_words.values())"
   ]
  },
  {
   "cell_type": "code",
   "execution_count": 16,
   "id": "9f3ec586",
   "metadata": {
    "execution": {
     "iopub.execute_input": "2021-12-09T20:15:09.929818Z",
     "iopub.status.busy": "2021-12-09T20:15:09.928836Z",
     "iopub.status.idle": "2021-12-09T20:15:09.933806Z",
     "shell.execute_reply": "2021-12-09T20:15:09.934392Z",
     "shell.execute_reply.started": "2021-12-09T20:12:42.683689Z"
    },
    "papermill": {
     "duration": 0.033663,
     "end_time": "2021-12-09T20:15:09.934550",
     "exception": false,
     "start_time": "2021-12-09T20:15:09.900887",
     "status": "completed"
    },
    "tags": []
   },
   "outputs": [],
   "source": [
    "for word in frequency_words.keys():\n",
    "  frequency_words[word] = (frequency_words[word] / maximum_frequency)"
   ]
  },
  {
   "cell_type": "code",
   "execution_count": 17,
   "id": "71d4c95b",
   "metadata": {
    "execution": {
     "iopub.execute_input": "2021-12-09T20:15:09.988489Z",
     "iopub.status.busy": "2021-12-09T20:15:09.987563Z",
     "iopub.status.idle": "2021-12-09T20:15:09.992764Z",
     "shell.execute_reply": "2021-12-09T20:15:09.993357Z",
     "shell.execute_reply.started": "2021-12-09T20:12:42.696641Z"
    },
    "papermill": {
     "duration": 0.034103,
     "end_time": "2021-12-09T20:15:09.993527",
     "exception": false,
     "start_time": "2021-12-09T20:15:09.959424",
     "status": "completed"
    },
    "tags": []
   },
   "outputs": [
    {
     "data": {
      "text/plain": [
       "FreqDist({'todos': 1.0, 'capitão': 0.9090909090909091, 'terra': 0.8727272727272727, 'assim': 0.8, 'bem': 0.7636363636363637, 'outros': 0.6545454545454545, 'ali': 0.6545454545454545, 'lá': 0.6181818181818182, 'vossa': 0.5636363636363636, 'logo': 0.5454545454545454, ...})"
      ]
     },
     "execution_count": 17,
     "metadata": {},
     "output_type": "execute_result"
    }
   ],
   "source": [
    "frequency_words"
   ]
  },
  {
   "cell_type": "code",
   "execution_count": 18,
   "id": "38595c4d",
   "metadata": {
    "execution": {
     "iopub.execute_input": "2021-12-09T20:15:10.048913Z",
     "iopub.status.busy": "2021-12-09T20:15:10.048028Z",
     "iopub.status.idle": "2021-12-09T20:15:10.076178Z",
     "shell.execute_reply": "2021-12-09T20:15:10.076636Z",
     "shell.execute_reply.started": "2021-12-09T20:12:42.708564Z"
    },
    "papermill": {
     "duration": 0.057219,
     "end_time": "2021-12-09T20:15:10.076796",
     "exception": false,
     "start_time": "2021-12-09T20:15:10.019577",
     "status": "completed"
    },
    "tags": []
   },
   "outputs": [
    {
     "data": {
      "text/plain": [
       "['Carta de Pero Vaz de Caminha Pero Vaz de Caminha Conteúdo exportado da wiki Wikisource em 8 de dezembro de 2021 Senhor, posto que o Capitão-mor desta Vossa frota, e assim os outros capitães escrevam a Vossa Alteza a nova do achamento desta Vossa terra nova, que se agora nesta navegação achou, não deixarei de também dar disso minha conta a Vossa Alteza, assim como eu melhor puder, ainda que — para o bem contar e falar — o saiba pior que todos fazer!',\n",
       " 'Todavia tome Vossa Alteza minha ignorância por boa vontade, a qual bem certo creia que, para aformosentar nem afear, aqui não há de pôr mais do que aquilo que vi e me pareceu.',\n",
       " 'Da marinhagem e das singraduras do caminho não darei aqui conta a Vossa Alteza — porque o não saberei fazer — e os pilotos devem ter este cuidado.',\n",
       " 'E portanto, Senhor, do que hei de falar começo: E digo quê: A partida de Belém foi, como Vossa Alteza sabe, segunda-feira 9 de Março.',\n",
       " 'E sábado, 14 do dito mês, entre as 8 e 9 horas, nos achamos entre as Canárias, mais perto da Grande Canária.',\n",
       " 'E ali andamos todo aquele dia em calma, à vista delas, obra de três a quatro léguas.',\n",
       " 'E domingo, 22 do dito mês, às dez horas mais ou menos, houvemos vista das ilhas de Cabo Verde, a saber da ilha de São Nicolau, segundo o dito de Pero Escolar, piloto.',\n",
       " 'Na noite seguinte à segunda-feira amanheceu, se perdeu da frota Vasco de Ataíde com a sua nau, sem haver tempo forte ou contrário para poder ser!',\n",
       " 'Fez o capitão suas diligências para o achar, em umas e outras partes.',\n",
       " 'Mas... não apareceu mais!',\n",
       " 'E assim seguimos nosso caminho, por este mar de longo, até que terça-feira das Oitavas de Páscoa, que foram 21 dias de abril, topamos alguns sinais de terra, estando da dita Ilha — segundo os pilotos diziam, obra de 660 ou 670 léguas — os quais eram muita quantidade de ervas compridas, a que os mareantes chamam botelho, e assim mesmo outras a que dão o nome de rabo-de-asno.',\n",
       " 'E quarta-feira seguinte, pela manhã, topamos aves a que chamam furabuchos.',\n",
       " 'Neste mesmo dia, a horas de véspera, houvemos vista de terra!',\n",
       " 'A saber, primeiramente de um grande monte, muito alto e redondo; e de outras serras mais baixas ao sul dele; e de terra chã, com grandes arvoredos; ao qual monte alto o capitão pôs o nome de O Monte Pascoal e à terra A Terra de Vera Cruz!',\n",
       " 'Mandou lançar o prumo.',\n",
       " 'Acharam vinte e cinco braças.',\n",
       " 'E ao sol-posto umas seis léguas da terra, lançamos ancoras, em dezenove braças — ancoragem limpa.',\n",
       " 'Ali ficamo-nos toda aquela noite.',\n",
       " 'E quinta-feira, pela manhã, fizemos vela e seguimos em direitura à terra, indo os navios pequenos diante — por dezessete, dezesseis, quinze, catorze, doze, nove braças — até meia légua da terra, onde todos lançamos ancoras, em frente da boca de um rio.',\n",
       " 'E chegaríamos a esta ancoragem às dez horas, pouco mais ou menos.',\n",
       " 'E dali avistamos homens que andavam pela praia, uns sete ou oito, segundo disseram os navios pequenos que chegaram primeiro.',\n",
       " 'Então lançamos fora os batéis e esquifes.',\n",
       " 'E logo vieram todos os capitães das naus a esta nau do Capitão-mor.',\n",
       " 'E ali falaram.',\n",
       " 'E o Capitão mandou em terra a Nicolau Coelho para ver aquele rio.',\n",
       " 'E tanto que ele começou a ir-se para lá, acudiram pela praia homens aos dois e aos três, de maneira que, quando o batel chegou à boca do rio, já lá estavam dezoito ou vinte.',\n",
       " 'Pardos, nus, sem coisa alguma que lhes cobrisse suas vergonhas.',\n",
       " 'Traziam arcos nas mãos, e suas setas.',\n",
       " 'Vinham todos rijamente em direção ao batel.',\n",
       " 'E Nicolau Coelho lhes fez sinal que pousassem os arcos.',\n",
       " 'E eles os depuseram.',\n",
       " 'Mas não pôde deles haver fala nem entendimento que aproveitasse, por o mar quebrar na costa.',\n",
       " 'Somente arremessou-lhe um barrete vermelho e uma carapuça de linho que levava na cabeça, e um sombreiro preto.',\n",
       " 'E um deles lhe arremessou um sombreiro de penas de ave, compridas, com uma copazinha de penas vermelhas e pardas, como de papagaio.',\n",
       " 'E outro lhe deu um ramal grande de continhas brancas, miúdas que querem parecer de aljôfar, as quais peças creio que o Capitão manda a Vossa Alteza.',\n",
       " 'E com isto se volveu às naus por ser tarde e não poder haver deles mais fala, por causa do mar.',\n",
       " 'À noite seguinte ventou tanto sueste com chuvaceiros que fez caçar as naus.',\n",
       " 'E especialmente a Capitaina.',\n",
       " 'E sexta pela manhã, às oito horas, pouco mais ou menos, por conselho dos pilotos, mandou o Capitão levantar ancoras e fazer vela.',\n",
       " 'E fomos de longo da costa, com os batéis e esquifes amarrados na popa, em direção norte, para ver se achávamos alguma abrigada e bom pouso, onde nós ficássemos, para tomar água e lenha.',\n",
       " 'Não por nos já minguar, mas por nos prevenirmos aqui.',\n",
       " 'E quando fizemos vela estariam já na praia assentados perto do rio obra de sessenta ou setenta homens que se haviam juntado ali aos poucos.',\n",
       " 'Fomos ao longo, e mandou o Capitão aos navios pequenos que fossem mais chegados à terra e, se achassem pouso seguro para as naus, que amainassem.',\n",
       " 'E velejando nós pela costa, na distância de dez léguas do sítio onde tínhamos levantado ferro, acharam os ditos navios pequenos um recife com um porto dentro, muito bom e muito seguro, com uma mui larga entrada.',\n",
       " 'E meteram-se dentro e amainaram.',\n",
       " 'E as naus foram-se chegando, atrás deles.',\n",
       " 'E um pouco antes de sol-pôsto amainaram também, talvez a uma légua do recife, e ancoraram a onze braças.',\n",
       " 'E estando Afonso Lopez, nosso piloto, em um daqueles navios pequenos, foi, por mandado do Capitão, por ser homem vivo e destro para isso, meter-se logo no esquife a sondar o porto dentro.',\n",
       " 'E tomou dois daqueles homens da terra que estavam numa almadia: mancebos e de bons corpos.',\n",
       " 'Um deles trazia um arco, e seis ou sete setas.',\n",
       " 'E na praia andavam muitos com seus arcos e setas; mas não os aproveitou.',\n",
       " 'Logo, já de noite, levou-os à Capitaina, onde foram recebidos com muito prazer e festa.',\n",
       " 'A feição deles é serem pardos, um tanto avermelhados, de bons rostos e bons narizes, bem feitos.',\n",
       " 'Andam nus, sem cobertura alguma.',\n",
       " 'Nem fazem mais caso de encobrir ou deixa de encobrir suas vergonhas do que de mostrar a cara.',\n",
       " 'Acerca disso são de grande inocência.',\n",
       " 'Ambos traziam o beiço de baixo furado e metido nele um osso verdadeiro, de comprimento de uma mão travessa, e da grossura de um fuso de algodão, agudo na ponta como um furador.',\n",
       " 'Metem-nos pela parte de dentro do beiço; e a parte que lhes fica entre o beiço e os dentes é feita a modo de roque de xadrez.',\n",
       " 'E trazem-no ali encaixado de sorte que não os magoa, nem lhes põe estorvo no falar, nem no comer e beber.',\n",
       " 'Os cabelos deles são corredios.',\n",
       " 'E andavam tosquiados, de tosquia alta antes do que sobre-pente, de boa grandeza, rapados todavia por cima das orelhas.',\n",
       " 'E um deles trazia por baixo da solapa, de fonte a fonte, na parte detrás, uma espécie de cabeleira, de penas de ave amarela, que seria do comprimento de um coto, mui basta e mui cerrada, que lhe cobria o toutiço e as orelhas.',\n",
       " 'E andava pegada aos cabelos, pena por pena, com uma confeição branda como, de maneira tal que a cabeleira era mui redonda e mui basta, e mui igual, e não fazia míngua mais lavagem para a levantar.',\n",
       " 'O Capitão, quando eles vieram, estava sentado em uma cadeira, aos pés uma alcatifa por estrado; e bem vestido, com um colar de ouro, mui grande, ao pescoço.',\n",
       " 'E Sancho de Tovar, e Simão de Miranda, e Nicolau Coelho, e Aires Corrêa, e nós outros que aqui na nau com ele íamos, sentados no chão, nessa alcatifa.',\n",
       " 'Acenderam-se tochas.',\n",
       " 'E eles entraram.',\n",
       " 'Mas nem sinal de cortesia fizeram, nem de falar ao Capitão; nem a alguém.',\n",
       " 'Todavia um deles fitou o colar do Capitão, e começou a fazer acenos com a mão em direção à terra, e depois para o colar, como se quisesse dizer-nos que havia ouro na terra.',\n",
       " 'E também olhou para um castiçal de prata e assim mesmo acenava para a terra e novamente para o castiçal, como se lá também houvesse prata!',\n",
       " 'Mostraram-lhes um papagaio pardo que o Capitão traz consigo; tomaram-no logo na mão e acenaram para a terra, como se os houvesse ali.',\n",
       " 'Mostraram-lhes um carneiro; não fizeram caso dele.',\n",
       " 'Mostraram-lhes uma galinha; quase tiveram medo dela, e não lhe queriam pôr a mão.',\n",
       " 'Depois lhe pegaram, mas como espantados.',\n",
       " 'Deram-lhes ali de comer: pão e peixe cozido, confeitos, fartéis, mel, figos passados.',\n",
       " 'Não quiseram comer daquilo quase nada; e se provavam alguma coisa, logo a lançavam fora.',\n",
       " 'Trouxeram-lhes vinho em uma taça; mal lhe puseram a boca; não gostaram dele nada, nem quiseram mais.',\n",
       " 'Trouxeram-lhes água em uma albarrada, provaram cada um o seu bochecho, mas não beberam; apenas lavaram as bocas e lançaram-na fora.',\n",
       " 'Viu um deles umas contas de rosário, brancas; fez sinal que lhas dessem, e folgou muito com elas, e lançou-as ao pescoço; e depois tirou-as e meteu-as em volta do braço, e acenava para a terra e novamente para as contas e para o colar do Capitão, como se dariam ouro por aquilo.',\n",
       " 'Isto tomávamos nós nesse sentido, por assim o desejarmos!',\n",
       " 'Mas se ele queria dizer que levaria as contas e mais o colar, isto não queríamos nós entender, por que lho não havíamos de dar!',\n",
       " 'E depois tornou as contas a quem lhas dera.',\n",
       " 'E então estiraram-se de costas na alcatifa, a dormir sem procurarem maneiras de encobrir suas vergonhas, as quais não eram fanadas; e as cabeleiras delas estavam bem rapadas e feitas.',\n",
       " 'O Capitão mandou pôr por baixo da cabeça de cada um seu coxim; e o da cabeleira esforçava-se por não a estragar.',\n",
       " 'E deitaram um manto por cima deles; e consentindo, aconchegaram-se e adormeceram.',\n",
       " 'Sábado pela manhã mandou o Capitão fazer vela, fomos demandar a entrada, a qual era mui larga e tinha seis a sete braças de fundo.',\n",
       " 'E entraram todas as naus dentro, e ancoraram em cinco ou seis braças — ancoradouro que é tão grande e tão formoso de dentro, e tão seguro que podem ficar nele mais de duzentos navios e naus.',\n",
       " 'E tanto que as naus foram distribuídas e ancoradas, vieram os capitães todos a esta nau do Capitão-mor.',\n",
       " 'E daqui mandou o Capitão que Nicolau Coelho e Bartolomeu Dias fossem em terra e levassem aqueles dois homens, e os deixassem ir com seu arco e setas, aos quais mandou dar a cada um uma camisa nova e uma carapuça vermelha e um rosário de contas brancas de osso, que foram levando nos braços, e um cascavel e uma campainha.',\n",
       " 'E mandou com eles, para lá ficar, um mancebo degredado, criado de dom João Telo, de nome Afonso Ribeiro, para lá andar com eles e saber de seu viver e maneiras.',\n",
       " 'E a mim mandou que fosse com Nicolau Coelho.',\n",
       " 'Fomos assim de frecha direitos à praia.',\n",
       " 'Ali acudiram logo perto de duzentos homens, todos nus, com arcos e setas nas mãos.',\n",
       " 'Aqueles que nós levamos acenaram-lhes que se afastassem e depusessem os arcos.',\n",
       " 'E eles os depuseram.',\n",
       " 'Mas não se afastaram muito.',\n",
       " 'E mal tinham pousado seus arcos quando saíram os que nós levávamos, e o mancebo degredado com eles.',\n",
       " 'E saídos não pararam mais; nem esperavam um pelo outro, mas antes corriam a quem mais correria.',\n",
       " 'E passaram um rio que aí corre, de água doce, de muita água que lhes dava pela braga.',\n",
       " 'E muitos outros com eles.',\n",
       " 'E foram assim correndo para além do rio entre umas moitas de palmeiras onde estavam outros.',\n",
       " 'E ali pararam.',\n",
       " 'E naquilo tinha ido o degredado com um homem que, logo ao sair do batel, o agasalhou e levou até lá.',\n",
       " 'Mas logo o tornaram a nós.',\n",
       " 'E com ele vieram os outros que nós leváramos, os quais vinham já nus e sem carapuças.',\n",
       " 'E então se começaram de chegar muitos; e entravam pela beira do mar para os batéis, até que mais não podiam.',\n",
       " \"E traziam cabaças d'água, e tomavam alguns barris que nós levávamos e enchiam-nos de água e traziam-nos aos batéis.\",\n",
       " 'Não que eles de todo chegassem a bordo do batel.',\n",
       " 'Mas junto a ele, lançavam-nos da mão.',\n",
       " 'E nós tomávamo-los.',\n",
       " 'E pediam que lhes dessem alguma coisa.',\n",
       " 'Levava Nicolau Coelho cascavéis e manilhas.',\n",
       " 'E a uns dava um cascavel, e a outros uma manilha, de maneira que com aquela encarna quase que nos queriam dar a mão.',\n",
       " 'Davam-nos daqueles arcos e setas em troca de sombreiros e carapuças de linho, e de qualquer coisa que a gente lhes queria dar.',\n",
       " 'Dali se partiram os outros, dois mancebos, que não os vimos mais.',\n",
       " 'Dos que ali andavam, muitos — quase a maior parte —traziam aqueles bicos de osso nos beiços.',\n",
       " 'E alguns, que andavam sem eles, traziam os beiços furados e nos buracos traziam uns espelhos de pau, que pareciam espelhos de borracha.',\n",
       " 'E alguns deles traziam três daqueles bicos, a saber um no meio, e os dois nos cabos.',\n",
       " \"E andavam lá outros, quartejados de cores, a saber metade deles da sua própria cor, e metade de tintura preta, um tanto azulada; e outros quartejados d'escaques.\",\n",
       " 'Ali andavam entre eles três ou quatro moças, bem novinhas e gentis, com cabelos muito pretos e compridos pelas costas; e suas vergonhas, tão altas e tão cerradinhas e tão limpas das cabeleiras que, de as nós muito bem olharmos, não se envergonhavam.',\n",
       " 'Ali por então não houve mais fala ou entendimento com eles, por a barbana deles ser tamanha que se não entendia nem ouvia ninguém.',\n",
       " 'Acenamos-lhes que se fossem.',\n",
       " 'E assim o fizeram e passaram-se para além do rio.',\n",
       " \"E saíram três ou quatro homens nossos dos batéis, e encheram não sei quantos barris d'água que nós levávamos.\",\n",
       " 'E tornamo-nos às naus.',\n",
       " 'E quando assim vínhamos, acenaram-nos que voltássemos.',\n",
       " 'Voltamos, e eles mandaram o degredado e não quiseram que ficasse lá com eles, o qual levava uma bacia pequena e duas ou três carapuças vermelhas para lá as dar ao senhor, se o lá houvesse.',\n",
       " 'Não trataram de lhe tirar coisa alguma, antes mandaram-no com tudo.',\n",
       " 'Mas então Bartolomeu Dias o fez outra vez tornar, que lhe desse aquilo.',\n",
       " 'E ele tornou e deu aquilo, em vista de nós, a aquele que o da primeira agasalhara.',\n",
       " 'E então veio-se, e nós levamo-lo.',\n",
       " 'Esse que o agasalhou era já de idade, e andava por galanteria, cheio de penas, pegadas pelo corpo, que parecia seteado como São Sebastião.',\n",
       " 'Outros traziam carapuças de penas amarelas; e outros, de vermelhas; e outros de verdes.',\n",
       " 'E uma daquelas moças era toda tingida de baixo a cima, daquela tintura e certo era tão bem feita e tão redonda, e sua vergonha tão graciosa que a muitas mulheres de nossa terra, vendo-lhe tais feições envergonhara, por não terem as suas como ela.',\n",
       " 'Nenhum deles era fanado, mas todos assim como nós.',\n",
       " 'E com isto nos tornamos, e eles foram-se.',\n",
       " 'À tarde saiu o Capitão-mor em seu batel com todos nós outros capitães das naus em seus batéis a folgar pela baía, perto da praia.',\n",
       " 'Mas ninguém saiu em terra, por o Capitão o não querer, apesar de ninguém estar nela.',\n",
       " 'Apenas saiu — ele com todos nós — em um ilhéu grande que está na baía, o qual, aquando baixamar, fica mui vazio.',\n",
       " 'Com tudo está de todas as partes cercado de água, de sorte que ninguém lá pode ir, a não ser de barco ou a nado.',\n",
       " 'Ali folgou ele, e todos nós, bem uma hora e meia.',\n",
       " 'E pescaram lá, andando alguns marinheiros com um chinchorro; e mataram peixe miúdo, não muito.',\n",
       " 'E depois volvemo-nos às naus, já bem noite.',\n",
       " 'A Primeira Missa no Brasil (1861), pintura de Victor Meirelles.Ao domingo de Pascoela pela manhã, determinou o Capitão ir ouvir missa e sermão naquele ilhéu.',\n",
       " 'E mandou a todos os capitães que se arranjassem nos batéis e fossem com ele.',\n",
       " 'E assim foi feito.',\n",
       " 'Mandou armar um pavilhão naquele ilhéu, e dentro levantar um altar mui bem arranjado.',\n",
       " 'E ali com todos nós outros fez dizer missa, a qual disse o padre frei Henrique, em voz entoada, e oficiada com aquela mesma voz pelos outros padres e sacerdotes que todos assistiram, a qual missa, segundo meu parecer, foi ouvida por todos com muito prazer e devoção.',\n",
       " 'Ali estava com o Capitão a bandeira de Cristo, com que saíra de Belém, a qual esteve sempre bem alta, da parte do Evangelho.',\n",
       " 'Acabada a missa, desvestiu-se o padre e subiu a uma cadeira alta; e nós todos lançados por essa areia.',\n",
       " 'E pregou uma solene e proveitosa pregação, da história evangélica; e no fim tratou da nossa vida, e do achamento desta terra, referindo-se à Cruz, sob cuja obediência viemos, que veio muito a propósito, e fez muita devoção.',\n",
       " 'Enquanto assistimos à missa e ao sermão, estaria na praia outra tanta gente, pouco mais ou menos, como a de ontem, com seus arcos e setas, e andava folgando.',\n",
       " 'E olhando-nos, sentaram.',\n",
       " 'E depois de acabada a missa, quando nós sentados atendíamos a pregação, levantaram-se muitos deles e tangeram corno ou buzina e começaram a saltar e dançar um pedaço.',\n",
       " 'E alguns deles se metiam em almadias — duas ou três que lá tinham — as quais não são feitas como as que eu vi; apenas são três traves, atadas juntas.',\n",
       " 'E ali se metiam quatro ou cinco, ou esses que queriam, não se afastando quase nada da terra, só até onde podiam tomar pé.',\n",
       " 'Acabada a pregação encaminhou-se o Capitão, com todos nós, para os batéis, com nossa bandeira alta.',\n",
       " 'Embarcamos e fomos indo todos em direção à terra para passarmos ao longo por onde eles estavam, indo na dianteira, por ordem do Capitão, Bartolomeu Dias em seu esquife, com um pau de uma almadia que lhes o mar levara, para o entregar a eles.',\n",
       " 'E nós todos trás dele, a distância de um tiro de pedra.',\n",
       " 'Como viram o esquife de Bartolomeu Dias, chegaram-se logo todos à água, metendo-se nela até onde mais podiam.',\n",
       " 'Acenaram-lhes que pousassem os arcos e muitos deles os iam logo pôr em terra; e outros não os punham.',\n",
       " 'Andava lá um que falava muito aos outros, que se afastassem.',\n",
       " 'Mas não já que a mim me parecesse que lhe tinham respeito ou medo.',\n",
       " 'Este que os assim andava afastando trazia seu arco e setas.',\n",
       " 'Estava tinto de tintura vermelha pelos peitos e costas e pelos quadris, coxas e pernas até baixo, mas os vazios com a barriga e estômago eram de sua própria cor.',\n",
       " 'E a tintura era tão vermelha que a água lha não comia nem desfazia.',\n",
       " 'Antes, quando saía da água, era mais vermelho.',\n",
       " 'Saiu um homem do esquife de Bartolomeu Dias e andava no meio deles, sem implicarem nada com ele, e muito menos ainda pensavam em fazer-lhe mal.',\n",
       " \"Apenas lhe davam cabaças d'água; e acenavam aos do esquife que saíssem em terra.\",\n",
       " 'Com isto se volveu Bartolomeu Dias ao Capitão.',\n",
       " 'E viemo-nos às naus, a comer, tangendo trombetas e gaitas, sem os mais constranger.',\n",
       " 'E eles tornaram-se a sentar na praia, e assim por então ficaram.',\n",
       " 'Neste ilhéu, onde fomos ouvir missa e sermão, espraia muito a água e descobre muita areia e muito cascalho.',\n",
       " 'Enquanto lá estávamos foram alguns buscar marisco e não no acharam.',\n",
       " 'Mas acharam alguns camarões grossos e curtos, entre os quais vinha um muito grande e muito grosso; que em nenhum tempo o vi tamanho.',\n",
       " 'Também acharam cascas de berbigões e de amêijoas, mas não toparam com nenhuma peça inteira.',\n",
       " 'E depois de termos comido vieram logo todos os capitães a esta nau, por ordem do Capitão-mor, com os quais ele se aportou; e eu na companhia.',\n",
       " 'E perguntou a todos se nos parecia bem mandar a nova do achamento desta terra a Vossa Alteza pelo navio dos mantimentos, para a melhor mandar descobrir e saber dela mais do que nós podíamos saber, por irmos na nossa viagem.',\n",
       " 'E entre muitas falas que sobre o caso se fizeram foi dito, por todos ou a maior parte, que seria muito bem.',\n",
       " 'E nisto concordaram.',\n",
       " 'E logo que a resolução foi tomada, perguntou mais, se seria bem tomar aqui por força um par destes homens para os mandar a Vossa Alteza, deixando aqui em lugar deles outros dois destes degredados.',\n",
       " 'E concordaram em que não era necessário tomar por força homens, porque costume era dos que assim à força levavam para alguma parte dizerem que há de tudo quanto lhes perguntam; e que melhor e muito melhor informação da terra dariam dois homens desses degredados que aqui deixássemos do que eles dariam se os levassem por ser gente que ninguém entende.',\n",
       " 'Nem eles cedo aprenderiam a falar para o saberem tão bem dizer que muito melhor estoutros o não digam quando cá Vossa Alteza mandar.',\n",
       " 'E que portanto não cuidássemos de aqui por força tomar ninguém, nem fazer escândalo; mas sim, para os de todo amansar e apaziguar, unicamente de deixar aqui os dois degredados quando daqui partíssemos.',\n",
       " 'E assim ficou determinado por parecer melhor a todos.',\n",
       " 'Acabado isto, disse o Capitão que fôssemos nos batéis em terra.',\n",
       " 'E ver-se-ia bem, quejando era o rio.',\n",
       " 'Mas também para folgarmos.',\n",
       " 'Fomos todos nos batéis em terra, armados; e a bandeira conosco.',\n",
       " 'Eles andavam ali na praia, à boca do rio, para onde nós íamos; e, antes que chegássemos, pelo ensino que dantes tinham, puseram todos os arcos, e acenaram que saíssemos.',\n",
       " 'Mas, tanto que os batéis puseram as proas em terra, passaram-se logo todos além do rio, o qual não é mais ancho que um jogo de mancal.',\n",
       " 'E tanto que desembarcamos, alguns dos nossos passaram logo o rio, e meteram-se entre eles.',\n",
       " 'E alguns aguardavam; e outros se afastavam.',\n",
       " 'Com tudo, a coisa era de maneira que todos andavam misturados.',\n",
       " 'Eles davam desses arcos com suas setas por sombreiros e carapuças de linho, e por qualquer coisa que lhes davam.',\n",
       " 'Passaram além tantos dos nossos e andaram assim misturados com eles, que eles se esquivavam, e afastavam-se; e iam alguns para cima, onde outros estavam.',\n",
       " 'E então o Capitão fez que o tomassem ao colo dois homens e passou o rio, e fez tornar a todos.',\n",
       " 'A gente que ali estava não seria mais que aquela do costume.',\n",
       " 'Mas logo que o Capitão chamou todos para trás, alguns se chegaram a ele, não por o reconhecerem por Senhor, mas porque a gente, nossa, já passava para aquém do rio.',\n",
       " 'Ali falavam e traziam muitos arcos e continhas, daquelas já ditas, e resgatavam-nas por qualquer coisa, de tal maneira que os nossos levavam dali para as naus muitos arcos, e setas e contas.',\n",
       " 'E então tornou-se o Capitão para aquém do rio.',\n",
       " 'E logo acudiram muitos à beira dele.',\n",
       " 'Ali veríeis galantes, pintados de preto e vermelho, e quartejados, assim pelos corpos como pelas pernas, que, certo, assim pareciam bem.',\n",
       " 'Também andavam entre eles quatro ou cinco mulheres, novas, que assim nuas, não pareciam mal.',\n",
       " 'Entre elas andava uma, com uma coxa, do joelho até o quadril e a nádega, toda tingida daquela tintura preta; e todo o resto da sua cor natural.',\n",
       " 'Outra trazia ambos os joelhos com as curvas assim tintas, e também os colos dos pés; e suas vergonhas tão nuas, e com tanta inocência assim descobertas, que não havia nisso desvergonha nenhuma.',\n",
       " 'Também andava lá outra mulher, nova, com um menino ou menina, atado com um pano aos peitos, de modo que não se lhe viam senão as perninhas.',\n",
       " 'Mas nas pernas da mãe, e no resto, não havia pano algum.',\n",
       " 'Em seguida o Capitão foi subindo ao longo do rio, que corre rente à praia.',\n",
       " 'E ali esperou por um velho que trazia na mão uma pá de almadia.',\n",
       " 'Falou, enquanto o Capitão estava com ele, na presença de todos nós; mas ninguém o entendia, nem ele a nós, por mais coisas que a gente lhe perguntava com respeito a ouro, porque desejávamos saber se o havia na terra.',\n",
       " 'Trazia este velho o beiço tão furado que lhe cabia pelo buraco um grosso dedo polegar.',\n",
       " 'E trazia metido no buraco uma pedra verde, de nenhum valor, que fechava por fora aquele buraco.',\n",
       " 'E o Capitão lha fez tirar.',\n",
       " 'E ele não sei que diabo falava e ia com ela para a boca do Capitão para lha meter.',\n",
       " 'Estivemos rindo um pouco e dizendo chalaças sobre isso.',\n",
       " 'E então enfadou-se o Capitão, e deixou-o.',\n",
       " 'E um dos nossos deu-lhe pela pedra um sombreiro velho; não por ela valer alguma coisa, mas para amostra.',\n",
       " 'E depois houve-a o Capitão, creio, para mandar com as outras coisas a Vossa Alteza.',\n",
       " 'Andamos por aí vendo o ribeiro, o qual é de muita água e muito boa.',\n",
       " 'Ao longo dele há muitas palmeiras, não muito altas; e muito bons palmitos.',\n",
       " 'Colhemos e comemos muitos deles.',\n",
       " 'Depois tornou-se o Capitão para baixo para a boca do rio, onde tínhamos desembarcado.',\n",
       " 'E além do rio andavam muitos deles dançando e folgando, uns diante os outros, sem se tomarem pelas mãos.',\n",
       " 'E faziam-no bem.',\n",
       " 'Passou-se então para a outra banda do rio Diogo Dias, que fora almoxarife de Sacavém, o qual é homem gracioso e de prazer.',\n",
       " 'E levou consigo um gaiteiro nosso com sua gaita.',\n",
       " 'E meteu-se a dançar com eles, tomando-os pelas mãos; e eles folgavam e riam e andavam com ele muito bem ao som da gaita.',\n",
       " 'Depois de dançarem fez ali muitas voltas ligeiras, andando no chão, e salto real, de que se eles espantavam e riam e folgavam muito.',\n",
       " 'E conquanto com aquilo os segurou e afagou muito, tomavam logo uma esquiveza como de animais montezes, e foram-se para cima.',\n",
       " 'E então passou o rio o Capitão com todos nós, e fomos pela praia, de longo, ao passo que os batéis iam rentes à terra.',\n",
       " 'E chegamos a uma grande lagoa de água doce que está perto da praia, porque toda aquela ribeira do mar é apaulada por cima e sai a água por muitos lugares.',\n",
       " 'E depois de passarmos o rio, foram uns sete ou oito deles meter-se entre os marinheiros que se recolhiam aos batéis.',\n",
       " 'E levaram dali um tubarão que Bartolomeu Dias matou.',\n",
       " 'E levavam-lho; e lançou-o na praia.',\n",
       " 'Bastará que até aqui, como quer que se lhes em alguma parte amansassem, logo de uma mão para outra se esquivavam, como pardais do cevadouro.',\n",
       " 'Ninguém não lhes ousa falar de rijo para não se esquivarem mais.',\n",
       " 'E tudo se passa como eles querem — para os bem amansarmos !',\n",
       " 'Ao velho com quem o Capitão havia falado, deu-lhe uma carapuça vermelha.',\n",
       " 'E com toda a conversa que com ele houve, e com a carapuça que lhe deu tanto que se despediu e começou a passar o rio, foi-se logo recatando.',\n",
       " 'E não quis mais tornar do rio para aquém.',\n",
       " 'Os outros dois o Capitão teve nas naus, aos quais deu o que já ficou dito, nunca mais aqui apareceram — fatos de que deduzo que é gente bestial e de pouco saber, e por isso tão esquiva.',\n",
       " 'Mas apesar de tudo isso andam bem curados, e muito limpos.',\n",
       " 'E naquilo ainda mais me convenço que são como aves, ou alimárias montezinhas, as quais o ar faz melhores penas e melhor cabelo que às mansas, porque os seus corpos são tão limpos e tão gordos e tão formosos que não pode ser mais!',\n",
       " 'E isto me faz presumir que não tem casas nem moradias em que se recolham; e o ar em que se criam os faz tais.',\n",
       " 'Nós pelo menos não vimos até agora nenhumas casas, nem coisa que se pareça com elas.',\n",
       " 'Mandou o Capitão aquele degredado, Afonso Ribeiro, que se fosse outra vez com eles.',\n",
       " 'E foi; e andou lá um bom pedaço, mas a tarde regressou, que o fizeram eles vir: e não o quiseram lá consentir.',\n",
       " 'E deram-lhe arcos e setas; e não lhe tomaram nada do seu.',\n",
       " 'Antes, disse ele, que lhe tomara um deles umas continhas amarelas que levava e fugia com elas, e ele se queixou e os outros foram logo após ele, e lhas tomaram e tornaram-lhas a dar; e então mandaram-no vir.',\n",
       " 'Disse que não vira lá entre eles senão umas choupaninhas de rama verde e de feteiras muito grandes, como as de Entre Douro e Minho.',\n",
       " 'E assim nostornamos às naus, já quase noite, a dormir.',\n",
       " 'Segunda-feira, depois de comer, saímos todos em terra a tomar água.',\n",
       " 'Ali vieram então muitos; mas não tantos como as outras vezes.',\n",
       " 'E traziam já muito poucos arcos.',\n",
       " 'E estiveram um pouco afastados de nós; mas depois pouco a pouco misturaram-se conosco; e abraçavam-nos e folgavam; mas alguns deles se esquivavam logo.',\n",
       " 'Ali davam alguns arcos por folhas de papel e por alguma carapucinha velha e por qualquer coisa.',\n",
       " 'E de tal maneira se passou a coisa que bem vinte ou trinta pessoas das nossas se foram com eles para onde outros muitos deles estavam com moças e mulheres.',\n",
       " 'E trouxeram de lá muitos arcos e barretes de penas de aves, uns verdes, outros amarelos, dos quais creio que o Capitão há de mandar uma amostra a Vossa Alteza.',\n",
       " 'E segundo diziam esses que lá tinham ido, brincaram com eles.',\n",
       " 'Neste dia os vimos mais de perto e mais à nossa vontade, por andarmos quase todos misturados: uns andavam quartejados daquelas tinturas, outros de metades, outros de tanta feição como em pano de ras, e todos com os beiços furados, muitos com os ossos neles, e bastantes sem ossos.',\n",
       " 'Alguns traziam uns ouriços verdes, de árvores, que na cor queriam parecer de castanheiras, embora fossem muito mais pequenos.',\n",
       " 'E estavam cheios de uns grãos vermelhos, pequeninos que, esmagando-se entre os dedos, se desfaziam na tinta muito vermelha de que andavam tingidos.',\n",
       " 'E quanto mais se molhavam, tanto mais vermelhos ficavam.',\n",
       " 'Todos andam rapados até por cima das orelhas; assim mesmo de sobrancelhas e pestanas.',\n",
       " 'Trazem todos as testas, de fonte a fonte, tintas de tintura preta, que parece uma fita preta da largura de dois dedos.',\n",
       " 'E o Capitão mandou aquele degredado Afonso Ribeiro e a outros dois degredados que fossem meter-se entre eles; e assim mesmo a Diogo Dias, por ser homem alegre, com que eles folgavam.',\n",
       " 'E aos degredados ordenou que ficassem lá esta noite.',\n",
       " 'Foram-se lá todos; e andaram entre eles.',\n",
       " 'E segundo depois diziam, foram bem uma légua e meia a uma povoação, em que haveria nove ou dez casas, as quais diziam que eram tão compridas, cada uma, como esta nau capitaina.',\n",
       " 'E eram de madeira, e das ilhargas de tábuas, e cobertas de palha, de razoável altura; e todas de um só espaço, sem repartição alguma, tinham de dentro muitos esteios; e de esteio a esteio uma rede atada com cabos em cada esteio, altas, em que dormiam.',\n",
       " 'E de baixo, para se aquentarem, faziam seus fogos.',\n",
       " 'E tinha cada casa duas portas pequenas, uma numa extremidade, e outra na oposta.',\n",
       " 'E diziam que em cada casa se recolhiam trinta ou quarenta pessoas, e que assim os encontraram; e que lhes deram de comer dos alimentos que tinham, a saber muito inhame, e outras sementes que na terra dá, que eles comem.',\n",
       " 'E como se fazia tarde fizeram-nos logo todos tornar; e não quiseram que lá ficasse nenhum.',\n",
       " 'E ainda, segundo diziam, queriam vir com eles.',\n",
       " 'Resgataram lá por cascavéis e outras coisinhas de pouco valor, que levavam, papagaios vermelhos, muito grandes e formosos, e dois verdes pequeninos, e carapuças de penas verdes, e um pano de penas de muitas cores, espécie de tecido assaz belo, segundo Vossa Alteza todas estas coisas verá, porque o Capitão vo-las há de mandar, segundo ele disse.',\n",
       " 'E com isto vieram; e nós tornamo-nos às naus.',\n",
       " 'Terça-feira, depois de comer, fomos em terra, fazer lenha, e para lavar roupa.',\n",
       " 'Estavam na praia, quando chegamos, uns sessenta ou setenta, sem arcos e sem nada.',\n",
       " 'Tanto que chegamos, vieram logo para nós, sem se esquivarem.',\n",
       " 'E depois acudiram muitos, que seriam bem duzentos, todos sem arcos.',\n",
       " 'E misturaram-se todos tanto conosco que uns nos ajudavam a acarretar lenha e metê-las nos batéis.',\n",
       " 'E lutavam com os nossos, e tomavam com prazer.',\n",
       " 'E enquanto fazíamos a lenha, construíam dois carpinteiros uma grande cruz de um pau que se ontem para isso cortara.',\n",
       " 'Muitos deles vinham ali estar com os carpinteiros.',\n",
       " 'E creio que o faziam mais para verem a ferramenta de ferro com que a faziam do que para verem a cruz, porque eles não tem coisa que de ferro seja, e cortam sua madeira e paus com pedras feitas como cunhas, metidas em um pau entre duas talas, mui bem atadas e por tal maneira que andam fortes, porque lhas viram lá.',\n",
       " 'Era já a conversação deles conosco tanta que quase nos estorvavam no que havíamos de fazer.',\n",
       " 'E o Capitão mandou a dois degredados e a Diogo Dias que fossem lá à aldeia e que de modo algum viessem a dormir às naus, ainda que os mandassem embora.',\n",
       " 'E assim se foram.',\n",
       " 'Enquanto andávamos nessa mata a cortar lenha, atravessavam alguns papagaios essas árvores; verdes uns, e pardos, outros, grandes e pequenos, de sorte que me parece que haverá muitos nesta terra.',\n",
       " 'Todavia os que vi não seriam mais que nove ou dez, quando muito.',\n",
       " 'Outras aves não vimos então, a não ser algumas pombas-seixeiras, e pareceram-me maiores bastante do que as de Portugal.',\n",
       " 'Vários diziam que viram rolas, mas eu não as vi.',\n",
       " 'Todavia segundo os arvoredos são mui muitos e grandes, e de infinitas espécies, não duvido que por esse sertão haja muitas aves!',\n",
       " 'E cerca da noite nós volvemos para as naus com nossa lenha.',\n",
       " 'Eu creio, Senhor, que não dei ainda conta aqui a Vossa Alteza do feitio de seus arcos e setas.',\n",
       " 'Os arcos são pretos e compridos, e as setas compridas; e os ferros delas são canas aparadas, conforme Vossa Alteza verá alguns que creio que o Capitão a Ela há de enviar.',\n",
       " 'Quarta-feira não fomos em terra, porque o Capitão andou todo o dia no navio dos mantimentos a despejá-lo e fazer levar às naus isso que cada um podia levar.',\n",
       " 'Eles acudiram à praia, muitos, segundo das naus vimos.',\n",
       " 'Seriam perto de trezentos, segundo Sancho de Tovar que para lá foi.',\n",
       " 'Diogo Dias e Afonso Ribeiro, o degredado, aos quais o Capitão ontem ordenara que de toda maneira lá dormissem, tinham voltado já de noite, por eles não quererem que lá ficassem.',\n",
       " 'E traziam papagaios verdes; e outras aves pretas, quase como pegas, com a diferença de terem o bico branco e rabos curtos.',\n",
       " 'E quando Sancho de Tovar recolheu à nau, queriam vir com ele, alguns; mas ele não admitiu senão dois mancebos, bem dispostos e homens de prol.',\n",
       " 'Mandou pensar e curá-los mui bem essa noite.',\n",
       " 'E comeram toda a ração que lhes deram, e mandou dar-lhes cama de lençóis, segundo ele disse.',\n",
       " 'E dormiram e folgaram aquela noite.',\n",
       " 'E não houve mais este dia que para escrever seja.',\n",
       " 'Quinta-feira, derradeiro de abril, comemos logo, quase pela manhã, e fomos em terra por mais lenha e água.',\n",
       " 'E em querendo o Capitão sair desta nau, chegou Sancho de Tovar com seus dois hóspedes.',\n",
       " 'E por ele ainda não ter comido, puseram-lhe toalhas, e veio-lhe comida.',\n",
       " 'E comeu.',\n",
       " 'Os hóspedes, sentaram-no cada um em sua cadeira.',\n",
       " 'E de tudo quanto lhes deram, comeram mui bem, especialmente lacão cozido frio, e arroz.',\n",
       " 'Não lhes deram vinho por Sancho de Tovar dizer que o não bebiam bem.',\n",
       " 'Acabado o comer, metemo-nos todos no batel, e eles conosco.',\n",
       " 'Deu um grumete a um deles uma armadura grande de porco montês, bem revolta.',\n",
       " 'E logo que a tomou meteu-a no beiço; e porque se lhe não queria segurar, deram-lhe uma pouca de cera vermelha.',\n",
       " 'E ele ajeitou-lhe seu adereço da parte de trás de sorte que segurasse, e meteu-a no beiço, assim revolta para cima; e ia tão contente com ela, como se tivesse uma grande jóia.',\n",
       " 'E tanto que saímos em terra, foi-se logo com ela.',\n",
       " 'E não tornou a aparecer lá.',\n",
       " 'Andariam na praia, quando saímos, oito ou dez deles; e de aí a pouco começaram a vir.',\n",
       " 'E parece-me que viriam este dia a praia quatrocentos ou quatrocentos e cinqüenta.',\n",
       " 'Alguns deles traziam arcos e setas; e deram tudo em troca de carapuças e por qualquer coisa que lhes davam.',\n",
       " 'Comiam conosco do que lhes dávamos, e alguns deles bebiam vinho, ao passo que outros o não podiam beber.',\n",
       " 'Mas quer-me parecer que, se os acostumarem, o hão de beber de boa vontade!',\n",
       " 'Andavam todos tão bem dispostos e tão bem feitos e galantes com suas pinturas que agradavam.',\n",
       " 'Acarretavam dessa lenha quanta podiam, com mil boas vontades, e levavam-na aos batéis.',\n",
       " 'E estavam já mais mansos e seguros entre nós do que nós estávamos entre eles.',\n",
       " 'Foi o Capitão com alguns de nós um pedaço por este arvoredo até um ribeiro grande, e de muita água, que ao nosso parecer é o mesmo que vem ter à praia, em que nós tomamos água.',\n",
       " 'Ali descansamos um pedaço, bebendo e folgando, ao longo dele, entre esse arvoredo que é tanto e tamanho e tão basto e de tanta qualidade de folhagem que não se pode calcular.',\n",
       " 'Há lá muitas palmeiras, de que colhemos muitos e bons palmitos.',\n",
       " 'Ao sairmos do batel, disse o Capitão que seria bom irmos em direitura à cruz que estava encostada a uma árvore, junto ao rio, a fim de ser colocada amanhã, sexta-feira, e que nos puséssemos todos de joelhos e a beijássemos para eles verem o acatamento que lhe tínhamos.',\n",
       " 'E assim fizemos.',\n",
       " 'E a esses dez ou doze que lá estavam, acenaram-lhes que fizessem o mesmo; e logo foram todos beijá-la.',\n",
       " 'Parece-me gente de tal inocência que, se nós entendêssemos a sua fala e eles a nossa, seriam logo cristãos, visto que não têm nem entendem crença alguma, segundo as aparências.',\n",
       " 'E portanto se os degredados que aqui hão de ficar aprenderem bem a sua fala e os entenderem, não duvido que eles, segundo a santa tenção de Vossa Alteza, se farão cristãos e hão de crer na nossa santa fé, à qual praza a Nosso Senhor que os traga, porque certamente esta gente é boa e de bela simplicidade.',\n",
       " 'E imprimir-se-á facilmente neles qualquer cunho que lhe quiserem dar, uma vez que Nosso Senhor lhes deu bons corpos e bons rostos, como a homens bons.',\n",
       " 'E o Ele nos para aqui trazer creio que não foi sem causa.',\n",
       " 'E portanto Vossa Alteza, pois tanto deseja acrescentar a santa fé católica, deve cuidar da salvação deles.',\n",
       " 'E prazerá a Deus que com pouco trabalho seja assim!',\n",
       " 'Eles não lavram nem criam.',\n",
       " 'Nem há aqui boi ou vaca, cabra, ovelha ou galinha, ou qualquer outro animal que esteja acostumado ao viver do homem.',\n",
       " 'E não comem senão deste inhame, de que aqui há muito, e dessas sementes e frutos que a terra e as árvores de si deitam.',\n",
       " 'E com isto andam tais e tão rijos e tão nédios que o não somos nós tanto, com quanto trigo e legumes comemos.',\n",
       " 'Nesse dia, enquanto ali andavam, dançaram e bailaram sempre com os nossos, ao som de um tamboril nosso, como se fossem mais amigos nossos do que nós seus.',\n",
       " 'Se lhes a gente acenava, se queriam vir às naus, aprontavam-se logo para isso, de modo tal, que se os convidáramos a todos, todos vieram.',\n",
       " 'Porém não levamos esta noite às naus senão quatro ou cinco; a saber, o Capitão-mor, dois; e Simão de Miranda, um que já trazia por pagem; e Aires Gomes a outro, pagem também.',\n",
       " 'Os que o Capitão trazia, era um deles um dos seus hóspedes que lhe haviam trazido a primeira vez quando aqui chegamos — o qual veio hoje aqui vestido na sua camisa, e com ele um seu irmão; e foram esta noite mui bem agasalhados tanto de comida como de cama, de colchões e lençóis, para os mais amansar.',\n",
       " 'E hoje que é sexta-feira, primeiro dia de maio, pela manhã, saímos em terra com nossa bandeira; e fomos desembarcar acima do rio, contra o sul onde nos pareceu que seria melhor arvorar a cruz, para melhor ser vista.',\n",
       " 'E ali marcou o Capitão o sítio onde haviam de fazer a cova para a fincar.',\n",
       " 'E enquanto a iam abrindo, ele com todos nós outros fomos pela cruz, rio abaixo onde ela estava.',\n",
       " 'E com os religiosos e sacerdotes que cantavam, à frente, fomos trazendo-a dali, a modo de procissão.',\n",
       " 'Eram já aí quantidade deles, uns setenta ou oitenta; e quando nos assim viram chegar, alguns se foram meter debaixo dela, ajudar-nos.',\n",
       " 'Passamos o rio, ao longo da praia; e fomos colocá-la onde havia de ficar, que será obra de dois tiros de besta do rio.',\n",
       " 'Andando-se ali nisto, viriam bem cento cinqüenta, ou mais.',\n",
       " 'Plantada a cruz, com as armas e a divisa de Vossa Alteza, que primeiro lhe haviam pregado, armaram altar ao pé dela.',\n",
       " 'Ali disse missa o padre frei Henrique, a qual foi cantada e oficiada por esses já ditos.',\n",
       " 'Ali estiveram conosco, a ela, perto de cinqüenta ou sessenta deles, assentados todos de joelho assim como nós.',\n",
       " 'E quando se veio ao Evangelho, que nos erguemos todos em pé, com as mãos levantadas, eles se levantaram conosco, e alçaram as mãos, estando assim até se chegar ao fim; e então tornaram-se a assentar, como nós.',\n",
       " 'E quando levantaram a Deus, que nos pusemos de joelhos, eles se puseram assim como nós estávamos, com as mãos levantadas, e em tal maneira sossegados que certifico a Vossa Alteza que nos fez muita devoção.',\n",
       " 'Estiveram assim conosco até acabada a comunhão; e depois da comunhão, comungaram esses religiosos e sacerdotes; e o Capitão com alguns de nós outros.',\n",
       " 'E alguns deles, por o Sol ser grande, levantaram-se enquanto estávamos comungando, e outros estiveram e ficaram.',\n",
       " 'Um deles, homem de cinqüenta ou cinqüenta e cinco anos, se conservou ali com aqueles que ficaram.',\n",
       " 'Esse, enquanto assim estávamos, juntava aqueles que ali tinham ficado, e ainda chamava outros.',\n",
       " 'E andando assim entre eles, falando-lhes, acenou com o dedo para o altar, e depois mostrou com o dedo para o céu, como se lhes dissesse alguma coisa de bem; e nós assim o tomamos!',\n",
       " 'Acabada a missa, tirou o padre a vestimenta de cima, e ficou na alva; e assim se subiu, junto ao altar, em uma cadeira; e ali nos pregou o Evangelho e dos Apóstolos cujo é o dia, tratando no fim da pregação desse vosso prosseguimento tão santo e virtuoso, que nos causou mais devoção.',\n",
       " 'Esses que estiveram sempre à pregação estavam assim como nós olhando para ele.',\n",
       " 'E aquele que digo, chamava alguns, que viessem ali.',\n",
       " 'Alguns vinham e outros iam-se; e acabada a pregação, trazia Nicolau Coelho muitas cruzes de estanho com crucifixos, que lhe ficaram ainda da outra vinda.',\n",
       " 'E houveram por bem que lançassem a cada um sua ao pescoço.',\n",
       " 'Por essa causa se assentou o padre frei Henrique ao pé da cruz; e ali lançava a sua a todos — um a um — ao pescoço, atada em um fio, fazendo-lha primeiro beijar e levantar as mãos.',\n",
       " 'Vinham a isso muitos; e lançavam-nas todas, que seriam obra de quarenta ou cinqüenta.',\n",
       " 'E isto acabado — era já bem uma hora depois do meio dia — viemos às naus a comer, onde o Capitão trouxe consigo aquele mesmo que fez aos outros aquele gesto para o altar e para o céu, (e um seu irmão com ele).',\n",
       " 'A aquele fez muita honra e deu-lhe uma camisa mourisca; e ao outro uma camisa destoutras.',\n",
       " 'E segundo o que a mim e a todos pareceu, esta gente, não lhes falece outra coisa para ser toda cristã, do que entenderem-nos, porque assim tomavam aquilo que nos viam fazer como nós mesmos; por onde pareceu a todos que nenhuma idolatria nem adoração têm.',\n",
       " 'E bem creio que, se Vossa Alteza aqui mandar quem entre eles mais devagar ande, que todos serão tornados e convertidos ao desejo de Vossa Alteza.',\n",
       " 'E por isso, se alguém vier, não deixe logo de vir clérigo para os batizar; porque já então terão mais conhecimentos de nossa fé, pelos dois degredados que aqui entre eles ficam, os quais hoje também comungaram.',\n",
       " 'Entre todos estes que hoje vieram não veio mais que uma mulher, moça, a qual esteve sempre à missa, à qual deram um pano com que se cobrisse; e puseram-lho em volta dela.',\n",
       " 'Todavia, ao sentar-se, não se lembrava de o estender muito para se cobrir.',\n",
       " 'Assim, Senhor, a inocência desta gente é tal que a de Adão não seria maior — com respeito ao pudor.',\n",
       " 'Ora veja Vossa Alteza quem em tal inocência vive se se convertera, ou não, se lhe ensinarem o que pertence à sua salvação.',\n",
       " 'Acabado isto, fomos perante eles beijar a cruz.',\n",
       " 'E despedimo-nos e fomos comer.',\n",
       " 'Creio, Senhor, que, com estes dois degredados que aqui ficam, ficarão mais dois grumetes, que esta noite se saíram em terra, desta nau, no esquife, fugidos, os quais não vieram mais.',\n",
       " 'E cremos que ficarão aqui porque de manhã, prazendo a Deus fazemos nossa partida daqui.',\n",
       " 'Esta terra, Senhor, parece-me que, da ponta que mais contra o sul vimos, até à outra ponta que contra o norte vem, de que nós deste porto houvemos vista, será tamanha que haverá nela bem vinte ou vinte e cinco léguas de costa.',\n",
       " 'Traz ao longo do mar em algumas partes grandes barreiras, umas vermelhas, e outras brancas; e a terra de cima toda chã e muito cheia de grandes arvoredos.',\n",
       " 'De ponta a ponta é toda praia... muito chã e muito formosa.',\n",
       " 'Pelo sertão nos pareceu, vista do mar, muito grande; porque a estender olhos, não podíamos ver senão terra e arvoredos — terra que nos parecia muito extensa.',\n",
       " 'Até agora não pudemos saber se há ouro ou prata nela, ou outra coisa de metal, ou ferro; nem lha vimos.',\n",
       " \"Contudo a terra em si é de muito bons ares frescos e temperados como os de Entre-Douro-e-Minho, porque neste tempo d'agora assim os achávamos como os de lá.\",\n",
       " 'Águas são muitas; infinitas.',\n",
       " 'Em tal maneira é graciosa que, querendo-a aproveitar, dar-se-á nela tudo; por causa das águas que tem!',\n",
       " 'Contudo, o melhor fruto que dela se pode tirar parece-me que será salvar esta gente.',\n",
       " 'E esta deve ser a principal semente que Vossa Alteza em ela deve lançar.',\n",
       " 'E que não houvesse mais do que ter Vossa Alteza aqui esta pousada para essa navegação de Calicute bastava.',\n",
       " 'Quanto mais, disposição para se nela cumprir e fazer o que Vossa Alteza tanto deseja, a saber, acrescentamento da nossa fé!',\n",
       " 'E desta maneira dou aqui a Vossa Alteza conta do que nesta Vossa terra vi.',\n",
       " 'E se a um pouco alonguei, Ela me perdoe.',\n",
       " 'Porque o desejo que tinha de Vos tudo dizer, mo fez pôr assim pelo miúdo.',\n",
       " \"E pois que, Senhor, é certo que tanto neste cargo que levo como em outra qualquer coisa que de Vosso serviço for, Vossa Alteza há de ser de mim muito bem servida, a Ela peço que, por me fazer singular mercê, mande vir da ilha de São Tomé a Jorge de Osório, meu genro — o que d'Ela receberei em muita mercê.\",\n",
       " 'Beijo as mãos de Vossa Alteza.',\n",
       " 'Deste Porto Seguro, da Vossa Ilha da Vera Cruz, hoje, sexta-feira, primeiro dia de Maio de 1500.',\n",
       " 'Sobre esta edição digital Este eBook foi gerado a partir do Wikisource,[1] biblioteca online multilíngue, feita por voluntários, comprometida em desenvolver uma coleção de publicações em copyleft de todos os gêneros: (romances, poemas, revistas e periódicos, cartas, livros técnicos etc) Nossos livros são distribuídos gratuitamente, a partir de materiais que tenham caído em domínio público ou que tenham sido disponibilizados em licenças livres.',\n",
       " 'Você pode utilizar nossos materiais para quaisquer fins, inclusive comercialmente, dentro dos termos ou da Creative Commons BY-SA 3.0 [2] ou da GNU FDL,[3] à sua escolha.',\n",
       " 'O Wikisource está sempre à procura de novos membros: sinta-se à vontade em participar.',\n",
       " 'Apesar de nossos cuidados, é possível que este livro contenha um ou mais erros que nos passaram despercebidos.',\n",
       " 'Seja por um ou por outro motivo, você pode nos contatar no nosso fórum.',\n",
       " '[4] Este livro em particular lhe foi disponibilizado a partir das pessoas por detrás destes nicknames: 555 Schultz DarwIn NMaia CommonsDelinker Get It Erico Koerich~ptwikisource Luan Tetraktys * * * ↑ http://pt.wikisource.org ↑ http://creativecommons.org/licenses/by-sa/3.0/deed.pt_BR ↑ http://www.gnu.org/copyleft/fdl.html ↑ https://pt.wikisource.org/wiki/Wikisource:Esplanada']"
      ]
     },
     "execution_count": 18,
     "metadata": {},
     "output_type": "execute_result"
    }
   ],
   "source": [
    "sentence_list = nltk.sent_tokenize(dataset_text)\n",
    "sentence_list"
   ]
  },
  {
   "cell_type": "markdown",
   "id": "16890bb5",
   "metadata": {
    "papermill": {
     "duration": 0.02675,
     "end_time": "2021-12-09T20:15:10.130601",
     "exception": false,
     "start_time": "2021-12-09T20:15:10.103851",
     "status": "completed"
    },
    "tags": []
   },
   "source": [
    "# Summary generation (note for sentences)"
   ]
  },
  {
   "cell_type": "code",
   "execution_count": 19,
   "id": "54be655b",
   "metadata": {
    "execution": {
     "iopub.execute_input": "2021-12-09T20:15:10.188108Z",
     "iopub.status.busy": "2021-12-09T20:15:10.187177Z",
     "iopub.status.idle": "2021-12-09T20:15:10.192476Z",
     "shell.execute_reply": "2021-12-09T20:15:10.193078Z",
     "shell.execute_reply.started": "2021-12-09T20:12:42.753842Z"
    },
    "papermill": {
     "duration": 0.035676,
     "end_time": "2021-12-09T20:15:10.193238",
     "exception": false,
     "start_time": "2021-12-09T20:15:10.157562",
     "status": "completed"
    },
    "tags": []
   },
   "outputs": [
    {
     "data": {
      "text/plain": [
       "FreqDist({'todos': 1.0, 'capitão': 0.9090909090909091, 'terra': 0.8727272727272727, 'assim': 0.8, 'bem': 0.7636363636363637, 'outros': 0.6545454545454545, 'ali': 0.6545454545454545, 'lá': 0.6181818181818182, 'vossa': 0.5636363636363636, 'logo': 0.5454545454545454, ...})"
      ]
     },
     "execution_count": 19,
     "metadata": {},
     "output_type": "execute_result"
    }
   ],
   "source": [
    "frequency_words"
   ]
  },
  {
   "cell_type": "code",
   "execution_count": 20,
   "id": "a74deb8c",
   "metadata": {
    "execution": {
     "iopub.execute_input": "2021-12-09T20:15:10.251174Z",
     "iopub.status.busy": "2021-12-09T20:15:10.250234Z",
     "iopub.status.idle": "2021-12-09T20:15:10.321352Z",
     "shell.execute_reply": "2021-12-09T20:15:10.320766Z",
     "shell.execute_reply.started": "2021-12-09T20:12:42.762369Z"
    },
    "papermill": {
     "duration": 0.101311,
     "end_time": "2021-12-09T20:15:10.321489",
     "exception": false,
     "start_time": "2021-12-09T20:15:10.220178",
     "status": "completed"
    },
    "tags": []
   },
   "outputs": [],
   "source": [
    "sentence_note = {}\n",
    "for sentence in sentence_list:\n",
    "\n",
    "  for word in nltk.word_tokenize(sentence.lower()):\n",
    "    \n",
    "    if word in frequency_words.keys():\n",
    "      if sentence not in sentence_note.keys():\n",
    "        sentence_note[sentence] = frequency_words[word]\n",
    "      else:\n",
    "        sentence_note[sentence] += frequency_words[word]"
   ]
  },
  {
   "cell_type": "code",
   "execution_count": 21,
   "id": "3c964815",
   "metadata": {
    "execution": {
     "iopub.execute_input": "2021-12-09T20:15:10.387131Z",
     "iopub.status.busy": "2021-12-09T20:15:10.386130Z",
     "iopub.status.idle": "2021-12-09T20:15:10.397836Z",
     "shell.execute_reply": "2021-12-09T20:15:10.398314Z",
     "shell.execute_reply.started": "2021-12-09T20:12:42.889747Z"
    },
    "papermill": {
     "duration": 0.048954,
     "end_time": "2021-12-09T20:15:10.398477",
     "exception": false,
     "start_time": "2021-12-09T20:15:10.349523",
     "status": "completed"
    },
    "tags": []
   },
   "outputs": [
    {
     "data": {
      "text/plain": [
       "{'Carta de Pero Vaz de Caminha Pero Vaz de Caminha Conteúdo exportado da wiki Wikisource em 8 de dezembro de 2021 Senhor, posto que o Capitão-mor desta Vossa frota, e assim os outros capitães escrevam a Vossa Alteza a nova do achamento desta Vossa terra nova, que se agora nesta navegação achou, não deixarei de também dar disso minha conta a Vossa Alteza, assim como eu melhor puder, ainda que — para o bem contar e falar — o saiba pior que todos fazer!': 11.654545454545454,\n",
       " 'Todavia tome Vossa Alteza minha ignorância por boa vontade, a qual bem certo creia que, para aformosentar nem afear, aqui não há de pôr mais do que aquilo que vi e me pareceu.': 2.981818181818181,\n",
       " 'Da marinhagem e das singraduras do caminho não darei aqui conta a Vossa Alteza — porque o não saberei fazer — e os pilotos devem ter este cuidado.': 3.3090909090909086,\n",
       " 'E portanto, Senhor, do que hei de falar começo: E digo quê: A partida de Belém foi, como Vossa Alteza sabe, segunda-feira 9 de Março.': 1.6727272727272724,\n",
       " 'E sábado, 14 do dito mês, entre as 8 e 9 horas, nos achamos entre as Canárias, mais perto da Grande Canária.': 0.7272727272727272,\n",
       " 'E ali andamos todo aquele dia em calma, à vista delas, obra de três a quatro léguas.': 1.5636363636363635,\n",
       " 'E domingo, 22 do dito mês, às dez horas mais ou menos, houvemos vista das ilhas de Cabo Verde, a saber da ilha de São Nicolau, segundo o dito de Pero Escolar, piloto.': 1.6545454545454543,\n",
       " 'Na noite seguinte à segunda-feira amanheceu, se perdeu da frota Vasco de Ataíde com a sua nau, sem haver tempo forte ou contrário para poder ser!': 1.090909090909091,\n",
       " 'Fez o capitão suas diligências para o achar, em umas e outras partes.': 1.5818181818181813,\n",
       " 'Mas... não apareceu mais!': 0.05454545454545454,\n",
       " 'E assim seguimos nosso caminho, por este mar de longo, até que terça-feira das Oitavas de Páscoa, que foram 21 dias de abril, topamos alguns sinais de terra, estando da dita Ilha — segundo os pilotos diziam, obra de 660 ou 670 léguas — os quais eram muita quantidade de ervas compridas, a que os mareantes chamam botelho, e assim mesmo outras a que dão o nome de rabo-de-asno.': 6.345454545454546,\n",
       " 'E quarta-feira seguinte, pela manhã, topamos aves a que chamam furabuchos.': 0.43636363636363634,\n",
       " 'Neste mesmo dia, a horas de véspera, houvemos vista de terra!': 1.4,\n",
       " 'A saber, primeiramente de um grande monte, muito alto e redondo; e de outras serras mais baixas ao sul dele; e de terra chã, com grandes arvoredos; ao qual monte alto o capitão pôs o nome de O Monte Pascoal e à terra A Terra de Vera Cruz!': 5.163636363636364,\n",
       " 'Mandou lançar o prumo.': 0.36363636363636365,\n",
       " 'Acharam vinte e cinco braças.': 0.41818181818181815,\n",
       " 'E ao sol-posto umas seis léguas da terra, lançamos ancoras, em dezenove braças — ancoragem limpa.': 1.9272727272727268,\n",
       " 'Ali ficamo-nos toda aquela noite.': 1.109090909090909,\n",
       " 'E quinta-feira, pela manhã, fizemos vela e seguimos em direitura à terra, indo os navios pequenos diante — por dezessete, dezesseis, quinze, catorze, doze, nove braças — até meia légua da terra, onde todos lançamos ancoras, em frente da boca de um rio.': 5.836363636363636,\n",
       " 'E chegaríamos a esta ancoragem às dez horas, pouco mais ou menos.': 0.6181818181818182,\n",
       " 'E dali avistamos homens que andavam pela praia, uns sete ou oito, segundo disseram os navios pequenos que chegaram primeiro.': 2.0545454545454547,\n",
       " 'Então lançamos fora os batéis e esquifes.': 0.6727272727272727,\n",
       " 'E logo vieram todos os capitães das naus a esta nau do Capitão-mor.': 2.545454545454545,\n",
       " 'E ali falaram.': 0.6727272727272727,\n",
       " 'E o Capitão mandou em terra a Nicolau Coelho para ver aquele rio.': 2.909090909090909,\n",
       " 'E tanto que ele começou a ir-se para lá, acudiram pela praia homens aos dois e aos três, de maneira que, quando o batel chegou à boca do rio, já lá estavam dezoito ou vinte.': 3.945454545454545,\n",
       " 'Pardos, nus, sem coisa alguma que lhes cobrisse suas vergonhas.': 0.8181818181818182,\n",
       " 'Traziam arcos nas mãos, e suas setas.': 1.0363636363636362,\n",
       " 'Vinham todos rijamente em direção ao batel.': 1.3090909090909089,\n",
       " 'E Nicolau Coelho lhes fez sinal que pousassem os arcos.': 1.0363636363636364,\n",
       " 'E eles os depuseram.': 0.07272727272727272,\n",
       " 'Mas não pôde deles haver fala nem entendimento que aproveitasse, por o mar quebrar na costa.': 0.4545454545454546,\n",
       " 'Somente arremessou-lhe um barrete vermelho e uma carapuça de linho que levava na cabeça, e um sombreiro preto.': 0.4363636363636364,\n",
       " 'E um deles lhe arremessou um sombreiro de penas de ave, compridas, com uma copazinha de penas vermelhas e pardas, como de papagaio.': 0.6545454545454547,\n",
       " 'E outro lhe deu um ramal grande de continhas brancas, miúdas que querem parecer de aljôfar, as quais peças creio que o Capitão manda a Vossa Alteza.': 3.254545454545454,\n",
       " 'E com isto se volveu às naus por ser tarde e não poder haver deles mais fala, por causa do mar.': 1.2000000000000002,\n",
       " 'À noite seguinte ventou tanto sueste com chuvaceiros que fez caçar as naus.': 1.4,\n",
       " 'E especialmente a Capitaina.': 0.09090909090909091,\n",
       " 'E sexta pela manhã, às oito horas, pouco mais ou menos, por conselho dos pilotos, mandou o Capitão levantar ancoras e fazer vela.': 2.4000000000000004,\n",
       " 'E fomos de longo da costa, com os batéis e esquifes amarrados na popa, em direção norte, para ver se achávamos alguma abrigada e bom pouso, onde nós ficássemos, para tomar água e lenha.': 2.090909090909091,\n",
       " 'Não por nos já minguar, mas por nos prevenirmos aqui.': 0.4727272727272727,\n",
       " 'E quando fizemos vela estariam já na praia assentados perto do rio obra de sessenta ou setenta homens que se haviam juntado ali aos poucos.': 2.3999999999999995,\n",
       " 'Fomos ao longo, e mandou o Capitão aos navios pequenos que fossem mais chegados à terra e, se achassem pouso seguro para as naus, que amainassem.': 3.09090909090909,\n",
       " 'E velejando nós pela costa, na distância de dez léguas do sítio onde tínhamos levantado ferro, acharam os ditos navios pequenos um recife com um porto dentro, muito bom e muito seguro, com uma mui larga entrada.': 1.9454545454545455,\n",
       " 'E meteram-se dentro e amainaram.': 0.2363636363636364,\n",
       " 'E as naus foram-se chegando, atrás deles.': 0.5272727272727272,\n",
       " 'E um pouco antes de sol-pôsto amainaram também, talvez a uma légua do recife, e ancoraram a onze braças.': 0.690909090909091,\n",
       " 'E estando Afonso Lopez, nosso piloto, em um daqueles navios pequenos, foi, por mandado do Capitão, por ser homem vivo e destro para isso, meter-se logo no esquife a sondar o porto dentro.': 2.8363636363636355,\n",
       " 'E tomou dois daqueles homens da terra que estavam numa almadia: mancebos e de bons corpos.': 1.9636363636363634,\n",
       " 'Um deles trazia um arco, e seis ou sete setas.': 0.6363636363636364,\n",
       " 'E na praia andavam muitos com seus arcos e setas; mas não os aproveitou.': 1.7636363636363632,\n",
       " 'Logo, já de noite, levou-os à Capitaina, onde foram recebidos com muito prazer e festa.': 1.3272727272727272,\n",
       " 'A feição deles é serem pardos, um tanto avermelhados, de bons rostos e bons narizes, bem feitos.': 1.6363636363636365,\n",
       " 'Andam nus, sem cobertura alguma.': 0.4181818181818182,\n",
       " 'Nem fazem mais caso de encobrir ou deixa de encobrir suas vergonhas do que de mostrar a cara.': 0.32727272727272727,\n",
       " 'Acerca disso são de grande inocência.': 0.4181818181818182,\n",
       " 'Ambos traziam o beiço de baixo furado e metido nele um osso verdadeiro, de comprimento de uma mão travessa, e da grossura de um fuso de algodão, agudo na ponta como um furador.': 1.0545454545454545,\n",
       " 'Metem-nos pela parte de dentro do beiço; e a parte que lhes fica entre o beiço e os dentes é feita a modo de roque de xadrez.': 0.9636363636363637,\n",
       " 'E trazem-no ali encaixado de sorte que não os magoa, nem lhes põe estorvo no falar, nem no comer e beber.': 1.1636363636363636,\n",
       " 'Os cabelos deles são corredios.': 0.07272727272727272,\n",
       " 'E andavam tosquiados, de tosquia alta antes do que sobre-pente, de boa grandeza, rapados todavia por cima das orelhas.': 1.0363636363636364,\n",
       " 'E um deles trazia por baixo da solapa, de fonte a fonte, na parte detrás, uma espécie de cabeleira, de penas de ave amarela, que seria do comprimento de um coto, mui basta e mui cerrada, que lhe cobria o toutiço e as orelhas.': 1.7272727272727268,\n",
       " 'E andava pegada aos cabelos, pena por pena, com uma confeição branda como, de maneira tal que a cabeleira era mui redonda e mui basta, e mui igual, e não fazia míngua mais lavagem para a levantar.': 1.8181818181818181,\n",
       " 'O Capitão, quando eles vieram, estava sentado em uma cadeira, aos pés uma alcatifa por estrado; e bem vestido, com um colar de ouro, mui grande, ao pescoço.': 2.909090909090908,\n",
       " 'E Sancho de Tovar, e Simão de Miranda, e Nicolau Coelho, e Aires Corrêa, e nós outros que aqui na nau com ele íamos, sentados no chão, nessa alcatifa.': 2.036363636363636,\n",
       " 'Acenderam-se tochas.': 0.03636363636363636,\n",
       " 'E eles entraram.': 0.03636363636363636,\n",
       " 'Mas nem sinal de cortesia fizeram, nem de falar ao Capitão; nem a alguém.': 1.218181818181818,\n",
       " 'Todavia um deles fitou o colar do Capitão, e começou a fazer acenos com a mão em direção à terra, e depois para o colar, como se quisesse dizer-nos que havia ouro na terra.': 3.727272727272726,\n",
       " 'E também olhou para um castiçal de prata e assim mesmo acenava para a terra e novamente para o castiçal, como se lá também houvesse prata!': 2.581818181818182,\n",
       " 'Mostraram-lhes um papagaio pardo que o Capitão traz consigo; tomaram-no logo na mão e acenaram para a terra, como se os houvesse ali.': 3.381818181818182,\n",
       " 'Mostraram-lhes um carneiro; não fizeram caso dele.': 0.21818181818181817,\n",
       " 'Mostraram-lhes uma galinha; quase tiveram medo dela, e não lhe queriam pôr a mão.': 0.6727272727272726,\n",
       " 'Depois lhe pegaram, mas como espantados.': 0.03636363636363636,\n",
       " 'Deram-lhes ali de comer: pão e peixe cozido, confeitos, fartéis, mel, figos passados.': 1.0363636363636362,\n",
       " 'Não quiseram comer daquilo quase nada; e se provavam alguma coisa, logo a lançavam fora.': 1.727272727272727,\n",
       " 'Trouxeram-lhes vinho em uma taça; mal lhe puseram a boca; não gostaram dele nada, nem quiseram mais.': 0.5818181818181818,\n",
       " 'Trouxeram-lhes água em uma albarrada, provaram cada um o seu bochecho, mas não beberam; apenas lavaram as bocas e lançaram-na fora.': 0.7272727272727274,\n",
       " 'Viu um deles umas contas de rosário, brancas; fez sinal que lhas dessem, e folgou muito com elas, e lançou-as ao pescoço; e depois tirou-as e meteu-as em volta do braço, e acenava para a terra e novamente para as contas e para o colar do Capitão, como se dariam ouro por aquilo.': 3.2363636363636363,\n",
       " 'Isto tomávamos nós nesse sentido, por assim o desejarmos!': 0.890909090909091,\n",
       " 'Mas se ele queria dizer que levaria as contas e mais o colar, isto não queríamos nós entender, por que lho não havíamos de dar!': 0.6000000000000001,\n",
       " 'E depois tornou as contas a quem lhas dera.': 0.2545454545454545,\n",
       " 'E então estiraram-se de costas na alcatifa, a dormir sem procurarem maneiras de encobrir suas vergonhas, as quais não eram fanadas; e as cabeleiras delas estavam bem rapadas e feitas.': 1.8545454545454545,\n",
       " 'O Capitão mandou pôr por baixo da cabeça de cada um seu coxim; e o da cabeleira esforçava-se por não a estragar.': 1.7636363636363632,\n",
       " 'E deitaram um manto por cima deles; e consentindo, aconchegaram-se e adormeceram.': 0.27272727272727276,\n",
       " 'Sábado pela manhã mandou o Capitão fazer vela, fomos demandar a entrada, a qual era mui larga e tinha seis a sete braças de fundo.': 2.345454545454545,\n",
       " 'E entraram todas as naus dentro, e ancoraram em cinco ou seis braças — ancoradouro que é tão grande e tão formoso de dentro, e tão seguro que podem ficar nele mais de duzentos navios e naus.': 4.127272727272727,\n",
       " 'E tanto que as naus foram distribuídas e ancoradas, vieram os capitães todos a esta nau do Capitão-mor.': 2.3636363636363633,\n",
       " 'E daqui mandou o Capitão que Nicolau Coelho e Bartolomeu Dias fossem em terra e levassem aqueles dois homens, e os deixassem ir com seu arco e setas, aos quais mandou dar a cada um uma camisa nova e uma carapuça vermelha e um rosário de contas brancas de osso, que foram levando nos braços, e um cascavel e uma campainha.': 5.4363636363636365,\n",
       " 'E mandou com eles, para lá ficar, um mancebo degredado, criado de dom João Telo, de nome Afonso Ribeiro, para lá andar com eles e saber de seu viver e maneiras.': 2.436363636363635,\n",
       " 'E a mim mandou que fosse com Nicolau Coelho.': 0.6545454545454545,\n",
       " 'Fomos assim de frecha direitos à praia.': 1.2000000000000002,\n",
       " 'Ali acudiram logo perto de duzentos homens, todos nus, com arcos e setas nas mãos.': 3.618181818181818,\n",
       " 'Aqueles que nós levamos acenaram-lhes que se afastassem e depusessem os arcos.': 0.5454545454545454,\n",
       " 'Mas não se afastaram muito.': 0.01818181818181818,\n",
       " 'E mal tinham pousado seus arcos quando saíram os que nós levávamos, e o mancebo degredado com eles.': 0.7636363636363637,\n",
       " 'E saídos não pararam mais; nem esperavam um pelo outro, mas antes corriam a quem mais correria.': 0.34545454545454546,\n",
       " 'E passaram um rio que aí corre, de água doce, de muita água que lhes dava pela braga.': 1.5454545454545452,\n",
       " 'E muitos outros com eles.': 1.0909090909090908,\n",
       " 'E foram assim correndo para além do rio entre umas moitas de palmeiras onde estavam outros.': 2.5999999999999996,\n",
       " 'E ali pararam.': 0.6909090909090909,\n",
       " 'E naquilo tinha ido o degredado com um homem que, logo ao sair do batel, o agasalhou e levou até lá.': 1.7272727272727273,\n",
       " 'Mas logo o tornaram a nós.': 0.5636363636363636,\n",
       " 'E com ele vieram os outros que nós leváramos, os quais vinham já nus e sem carapuças.': 1.4363636363636363,\n",
       " 'E então se começaram de chegar muitos; e entravam pela beira do mar para os batéis, até que mais não podiam.': 1.418181818181818,\n",
       " \"E traziam cabaças d'água, e tomavam alguns barris que nós levávamos e enchiam-nos de água e traziam-nos aos batéis.\": 1.5636363636363635,\n",
       " 'Não que eles de todo chegassem a bordo do batel.': 0.2545454545454545,\n",
       " 'Mas junto a ele, lançavam-nos da mão.': 0.21818181818181817,\n",
       " 'E nós tomávamo-los.': 0.01818181818181818,\n",
       " 'E pediam que lhes dessem alguma coisa.': 0.6181818181818182,\n",
       " 'Levava Nicolau Coelho cascavéis e manilhas.': 0.4,\n",
       " 'E a uns dava um cascavel, e a outros uma manilha, de maneira que com aquela encarna quase que nos queriam dar a mão.': 1.8,\n",
       " 'Davam-nos daqueles arcos e setas em troca de sombreiros e carapuças de linho, e de qualquer coisa que a gente lhes queria dar.': 1.909090909090909,\n",
       " 'Dali se partiram os outros, dois mancebos, que não os vimos mais.': 1.3454545454545452,\n",
       " 'Dos que ali andavam, muitos — quase a maior parte —traziam aqueles bicos de osso nos beiços.': 2.4,\n",
       " 'E alguns, que andavam sem eles, traziam os beiços furados e nos buracos traziam uns espelhos de pau, que pareciam espelhos de borracha.': 1.7636363636363634,\n",
       " 'E alguns deles traziam três daqueles bicos, a saber um no meio, e os dois nos cabos.': 1.6727272727272726,\n",
       " \"E andavam lá outros, quartejados de cores, a saber metade deles da sua própria cor, e metade de tintura preta, um tanto azulada; e outros quartejados d'escaques.\": 3.3636363636363624,\n",
       " 'Ali andavam entre eles três ou quatro moças, bem novinhas e gentis, com cabelos muito pretos e compridos pelas costas; e suas vergonhas, tão altas e tão cerradinhas e tão limpas das cabeleiras que, de as nós muito bem olharmos, não se envergonhavam.': 4.618181818181818,\n",
       " 'Ali por então não houve mais fala ou entendimento com eles, por a barbana deles ser tamanha que se não entendia nem ouvia ninguém.': 1.618181818181818,\n",
       " 'Acenamos-lhes que se fossem.': 0.01818181818181818,\n",
       " 'E assim o fizeram e passaram-se para além do rio.': 1.5090909090909093,\n",
       " \"E saíram três ou quatro homens nossos dos batéis, e encheram não sei quantos barris d'água que nós levávamos.\": 1.0363636363636364,\n",
       " 'E tornamo-nos às naus.': 0.45454545454545453,\n",
       " 'E quando assim vínhamos, acenaram-nos que voltássemos.': 0.8545454545454546,\n",
       " 'Voltamos, e eles mandaram o degredado e não quiseram que ficasse lá com eles, o qual levava uma bacia pequena e duas ou três carapuças vermelhas para lá as dar ao senhor, se o lá houvesse.': 3.0181818181818185,\n",
       " 'Não trataram de lhe tirar coisa alguma, antes mandaram-no com tudo.': 0.9818181818181819,\n",
       " 'Mas então Bartolomeu Dias o fez outra vez tornar, que lhe desse aquilo.': 1.3454545454545455,\n",
       " 'E ele tornou e deu aquilo, em vista de nós, a aquele que o da primeira agasalhara.': 0.36363636363636365,\n",
       " 'E então veio-se, e nós levamo-lo.': 0.34545454545454546,\n",
       " 'Esse que o agasalhou era já de idade, e andava por galanteria, cheio de penas, pegadas pelo corpo, que parecia seteado como São Sebastião.': 0.5272727272727273,\n",
       " 'Outros traziam carapuças de penas amarelas; e outros, de vermelhas; e outros de verdes.': 2.7090909090909094,\n",
       " 'E uma daquelas moças era toda tingida de baixo a cima, daquela tintura e certo era tão bem feita e tão redonda, e sua vergonha tão graciosa que a muitas mulheres de nossa terra, vendo-lhe tais feições envergonhara, por não terem as suas como ela.': 4.363636363636364,\n",
       " 'Nenhum deles era fanado, mas todos assim como nós.': 1.8909090909090909,\n",
       " 'E com isto nos tornamos, e eles foram-se.': 0.09090909090909091,\n",
       " 'À tarde saiu o Capitão-mor em seu batel com todos nós outros capitães das naus em seus batéis a folgar pela baía, perto da praia.': 3.3999999999999995,\n",
       " 'Mas ninguém saiu em terra, por o Capitão o não querer, apesar de ninguém estar nela.': 2.3636363636363633,\n",
       " 'Apenas saiu — ele com todos nós — em um ilhéu grande que está na baía, o qual, aquando baixamar, fica mui vazio.': 2.7999999999999994,\n",
       " 'Com tudo está de todas as partes cercado de água, de sorte que ninguém lá pode ir, a não ser de barco ou a nado.': 1.9636363636363634,\n",
       " 'Ali folgou ele, e todos nós, bem uma hora e meia.': 2.5454545454545454,\n",
       " 'E pescaram lá, andando alguns marinheiros com um chinchorro; e mataram peixe miúdo, não muito.': 1.3090909090909089,\n",
       " 'E depois volvemo-nos às naus, já bem noite.': 1.4545454545454546,\n",
       " 'A Primeira Missa no Brasil (1861), pintura de Victor Meirelles.Ao domingo de Pascoela pela manhã, determinou o Capitão ir ouvir missa e sermão naquele ilhéu.': 1.909090909090909,\n",
       " 'E mandou a todos os capitães que se arranjassem nos batéis e fossem com ele.': 1.709090909090909,\n",
       " 'E assim foi feito.': 0.8181818181818182,\n",
       " 'Mandou armar um pavilhão naquele ilhéu, e dentro levantar um altar mui bem arranjado.': 1.8363636363636364,\n",
       " 'E ali com todos nós outros fez dizer missa, a qual disse o padre frei Henrique, em voz entoada, e oficiada com aquela mesma voz pelos outros padres e sacerdotes que todos assistiram, a qual missa, segundo meu parecer, foi ouvida por todos com muito prazer e devoção.': 6.872727272727273,\n",
       " 'Ali estava com o Capitão a bandeira de Cristo, com que saíra de Belém, a qual esteve sempre bem alta, da parte do Evangelho.': 2.8545454545454545,\n",
       " 'Acabada a missa, desvestiu-se o padre e subiu a uma cadeira alta; e nós todos lançados por essa areia.': 1.6545454545454545,\n",
       " 'E pregou uma solene e proveitosa pregação, da história evangélica; e no fim tratou da nossa vida, e do achamento desta terra, referindo-se à Cruz, sob cuja obediência viemos, que veio muito a propósito, e fez muita devoção.': 2.3090909090909086,\n",
       " 'Enquanto assistimos à missa e ao sermão, estaria na praia outra tanta gente, pouco mais ou menos, como a de ontem, com seus arcos e setas, e andava folgando.': 2.6363636363636362,\n",
       " 'E olhando-nos, sentaram.': 0.03636363636363636,\n",
       " 'E depois de acabada a missa, quando nós sentados atendíamos a pregação, levantaram-se muitos deles e tangeram corno ou buzina e começaram a saltar e dançar um pedaço.': 1.1818181818181817,\n",
       " 'E alguns deles se metiam em almadias — duas ou três que lá tinham — as quais não são feitas como as que eu vi; apenas são três traves, atadas juntas.': 2.999999999999999,\n",
       " 'E ali se metiam quatro ou cinco, ou esses que queriam, não se afastando quase nada da terra, só até onde podiam tomar pé.': 2.872727272727272,\n",
       " 'Acabada a pregação encaminhou-se o Capitão, com todos nós, para os batéis, com nossa bandeira alta.': 2.5636363636363635,\n",
       " 'Embarcamos e fomos indo todos em direção à terra para passarmos ao longo por onde eles estavam, indo na dianteira, por ordem do Capitão, Bartolomeu Dias em seu esquife, com um pau de uma almadia que lhes o mar levara, para o entregar a eles.': 4.363636363636363,\n",
       " 'E nós todos trás dele, a distância de um tiro de pedra.': 1.1636363636363634,\n",
       " 'Como viram o esquife de Bartolomeu Dias, chegaram-se logo todos à água, metendo-se nela até onde mais podiam.': 2.963636363636363,\n",
       " 'Acenaram-lhes que pousassem os arcos e muitos deles os iam logo pôr em terra; e outros não os punham.': 3.181818181818181,\n",
       " 'Andava lá um que falava muito aos outros, que se afastassem.': 1.490909090909091,\n",
       " 'Mas não já que a mim me parecesse que lhe tinham respeito ou medo.': 0.18181818181818182,\n",
       " 'Este que os assim andava afastando trazia seu arco e setas.': 1.4727272727272727,\n",
       " 'Estava tinto de tintura vermelha pelos peitos e costas e pelos quadris, coxas e pernas até baixo, mas os vazios com a barriga e estômago eram de sua própria cor.': 0.7090909090909091,\n",
       " 'E a tintura era tão vermelha que a água lha não comia nem desfazia.': 1.0909090909090906,\n",
       " 'Antes, quando saía da água, era mais vermelho.': 0.509090909090909,\n",
       " 'Saiu um homem do esquife de Bartolomeu Dias e andava no meio deles, sem implicarem nada com ele, e muito menos ainda pensavam em fazer-lhe mal.': 1.3636363636363635,\n",
       " \"Apenas lhe davam cabaças d'água; e acenavam aos do esquife que saíssem em terra.\": 1.2727272727272727,\n",
       " 'Com isto se volveu Bartolomeu Dias ao Capitão.': 1.290909090909091,\n",
       " 'E viemo-nos às naus, a comer, tangendo trombetas e gaitas, sem os mais constranger.': 0.6909090909090909,\n",
       " 'E eles tornaram-se a sentar na praia, e assim por então ficaram.': 1.6,\n",
       " 'Neste ilhéu, onde fomos ouvir missa e sermão, espraia muito a água e descobre muita areia e muito cascalho.': 1.3636363636363633,\n",
       " 'Enquanto lá estávamos foram alguns buscar marisco e não no acharam.': 1.3818181818181814,\n",
       " 'Mas acharam alguns camarões grossos e curtos, entre os quais vinha um muito grande e muito grosso; que em nenhum tempo o vi tamanho.': 1.509090909090909,\n",
       " 'Também acharam cascas de berbigões e de amêijoas, mas não toparam com nenhuma peça inteira.': 0.2545454545454546,\n",
       " 'E depois de termos comido vieram logo todos os capitães a esta nau, por ordem do Capitão-mor, com os quais ele se aportou; e eu na companhia.': 2.545454545454545,\n",
       " 'E perguntou a todos se nos parecia bem mandar a nova do achamento desta terra a Vossa Alteza pelo navio dos mantimentos, para a melhor mandar descobrir e saber dela mais do que nós podíamos saber, por irmos na nossa viagem.': 5.199999999999999,\n",
       " 'E entre muitas falas que sobre o caso se fizeram foi dito, por todos ou a maior parte, que seria muito bem.': 2.454545454545454,\n",
       " 'E nisto concordaram.': 0.07272727272727272,\n",
       " 'E logo que a resolução foi tomada, perguntou mais, se seria bem tomar aqui por força um par destes homens para os mandar a Vossa Alteza, deixando aqui em lugar deles outros dois destes degredados.': 5.254545454545455,\n",
       " 'E concordaram em que não era necessário tomar por força homens, porque costume era dos que assim à força levavam para alguma parte dizerem que há de tudo quanto lhes perguntam; e que melhor e muito melhor informação da terra dariam dois homens desses degredados que aqui deixássemos do que eles dariam se os levassem por ser gente que ninguém entende.': 5.836363636363636,\n",
       " 'Nem eles cedo aprenderiam a falar para o saberem tão bem dizer que muito melhor estoutros o não digam quando cá Vossa Alteza mandar.': 2.9090909090909087,\n",
       " 'E que portanto não cuidássemos de aqui por força tomar ninguém, nem fazer escândalo; mas sim, para os de todo amansar e apaziguar, unicamente de deixar aqui os dois degredados quando daqui partíssemos.': 2.381818181818181,\n",
       " 'E assim ficou determinado por parecer melhor a todos.': 2.163636363636364,\n",
       " 'Acabado isto, disse o Capitão que fôssemos nos batéis em terra.': 2.2727272727272725,\n",
       " 'E ver-se-ia bem, quejando era o rio.': 1.290909090909091,\n",
       " 'Mas também para folgarmos.': 0.01818181818181818,\n",
       " 'Fomos todos nos batéis em terra, armados; e a bandeira conosco.': 2.4,\n",
       " 'Eles andavam ali na praia, à boca do rio, para onde nós íamos; e, antes que chegássemos, pelo ensino que dantes tinham, puseram todos os arcos, e acenaram que saíssemos.': 3.9999999999999996,\n",
       " 'Mas, tanto que os batéis puseram as proas em terra, passaram-se logo todos além do rio, o qual não é mais ancho que um jogo de mancal.': 3.7818181818181813,\n",
       " 'E tanto que desembarcamos, alguns dos nossos passaram logo o rio, e meteram-se entre eles.': 1.9636363636363636,\n",
       " 'E alguns aguardavam; e outros se afastavam.': 1.1636363636363636,\n",
       " 'Com tudo, a coisa era de maneira que todos andavam misturados.': 2.0545454545454547,\n",
       " 'Eles davam desses arcos com suas setas por sombreiros e carapuças de linho, e por qualquer coisa que lhes davam.': 1.5636363636363635,\n",
       " 'Passaram além tantos dos nossos e andaram assim misturados com eles, que eles se esquivavam, e afastavam-se; e iam alguns para cima, onde outros estavam.': 2.8909090909090907,\n",
       " 'E então o Capitão fez que o tomassem ao colo dois homens e passou o rio, e fez tornar a todos.': 4.054545454545455,\n",
       " 'A gente que ali estava não seria mais que aquela do costume.': 0.9272727272727272,\n",
       " 'Mas logo que o Capitão chamou todos para trás, alguns se chegaram a ele, não por o reconhecerem por Senhor, mas porque a gente, nossa, já passava para aquém do rio.': 4.381818181818182,\n",
       " 'Ali falavam e traziam muitos arcos e continhas, daquelas já ditas, e resgatavam-nas por qualquer coisa, de tal maneira que os nossos levavam dali para as naus muitos arcos, e setas e contas.': 4.490909090909091,\n",
       " 'E então tornou-se o Capitão para aquém do rio.': 1.7999999999999998,\n",
       " 'E logo acudiram muitos à beira dele.': 1.1090909090909091,\n",
       " 'Ali veríeis galantes, pintados de preto e vermelho, e quartejados, assim pelos corpos como pelas pernas, que, certo, assim pareciam bem.': 3.5090909090909093,\n",
       " 'Também andavam entre eles quatro ou cinco mulheres, novas, que assim nuas, não pareciam mal.': 1.5636363636363635,\n",
       " 'Entre elas andava uma, com uma coxa, do joelho até o quadril e a nádega, toda tingida daquela tintura preta; e todo o resto da sua cor natural.': 0.8909090909090911,\n",
       " 'Outra trazia ambos os joelhos com as curvas assim tintas, e também os colos dos pés; e suas vergonhas tão nuas, e com tanta inocência assim descobertas, que não havia nisso desvergonha nenhuma.': 3.1999999999999993,\n",
       " 'Também andava lá outra mulher, nova, com um menino ou menina, atado com um pano aos peitos, de modo que não se lhe viam senão as perninhas.': 1.563636363636363,\n",
       " 'Mas nas pernas da mãe, e no resto, não havia pano algum.': 0.34545454545454546,\n",
       " 'Em seguida o Capitão foi subindo ao longo do rio, que corre rente à praia.': 2.036363636363636,\n",
       " 'E ali esperou por um velho que trazia na mão uma pá de almadia.': 1.1454545454545453,\n",
       " 'Falou, enquanto o Capitão estava com ele, na presença de todos nós; mas ninguém o entendia, nem ele a nós, por mais coisas que a gente lhe perguntava com respeito a ouro, porque desejávamos saber se o havia na terra.': 4.309090909090909,\n",
       " 'Trazia este velho o beiço tão furado que lhe cabia pelo buraco um grosso dedo polegar.': 1.0363636363636362,\n",
       " 'E trazia metido no buraco uma pedra verde, de nenhum valor, que fechava por fora aquele buraco.': 0.5636363636363637,\n",
       " 'E o Capitão lha fez tirar.': 1.3090909090909089,\n",
       " 'E ele não sei que diabo falava e ia com ela para a boca do Capitão para lha meter.': 1.2545454545454546,\n",
       " 'Estivemos rindo um pouco e dizendo chalaças sobre isso.': 0.34545454545454546,\n",
       " 'E então enfadou-se o Capitão, e deixou-o.': 1.2545454545454544,\n",
       " 'E um dos nossos deu-lhe pela pedra um sombreiro velho; não por ela valer alguma coisa, mas para amostra.': 0.8545454545454545,\n",
       " 'E depois houve-a o Capitão, creio, para mandar com as outras coisas a Vossa Alteza.': 2.527272727272727,\n",
       " 'Andamos por aí vendo o ribeiro, o qual é de muita água e muito boa.': 0.7999999999999999,\n",
       " 'Ao longo dele há muitas palmeiras, não muito altas; e muito bons palmitos.': 0.6545454545454545,\n",
       " 'Colhemos e comemos muitos deles.': 0.5272727272727272,\n",
       " 'Depois tornou-se o Capitão para baixo para a boca do rio, onde tínhamos desembarcado.': 2.0363636363636366,\n",
       " 'E além do rio andavam muitos deles dançando e folgando, uns diante os outros, sem se tomarem pelas mãos.': 2.4909090909090903,\n",
       " 'E faziam-no bem.': 0.7818181818181819,\n",
       " 'Passou-se então para a outra banda do rio Diogo Dias, que fora almoxarife de Sacavém, o qual é homem gracioso e de prazer.': 1.618181818181818,\n",
       " 'E levou consigo um gaiteiro nosso com sua gaita.': 0.14545454545454545,\n",
       " 'E meteu-se a dançar com eles, tomando-os pelas mãos; e eles folgavam e riam e andavam com ele muito bem ao som da gaita.': 1.4727272727272727,\n",
       " 'Depois de dançarem fez ali muitas voltas ligeiras, andando no chão, e salto real, de que se eles espantavam e riam e folgavam muito.': 1.3999999999999995,\n",
       " 'E conquanto com aquilo os segurou e afagou muito, tomavam logo uma esquiveza como de animais montezes, e foram-se para cima.': 0.9818181818181817,\n",
       " 'E então passou o rio o Capitão com todos nós, e fomos pela praia, de longo, ao passo que os batéis iam rentes à terra.': 4.581818181818182,\n",
       " 'E chegamos a uma grande lagoa de água doce que está perto da praia, porque toda aquela ribeira do mar é apaulada por cima e sai a água por muitos lugares.': 2.8727272727272726,\n",
       " 'E depois de passarmos o rio, foram uns sete ou oito deles meter-se entre os marinheiros que se recolhiam aos batéis.': 1.309090909090909,\n",
       " 'E levaram dali um tubarão que Bartolomeu Dias matou.': 0.49090909090909085,\n",
       " 'E levavam-lho; e lançou-o na praia.': 0.4,\n",
       " 'Bastará que até aqui, como quer que se lhes em alguma parte amansassem, logo de uma mão para outra se esquivavam, como pardais do cevadouro.': 1.909090909090909,\n",
       " 'Ninguém não lhes ousa falar de rijo para não se esquivarem mais.': 0.32727272727272727,\n",
       " 'E tudo se passa como eles querem — para os bem amansarmos !': 1.4727272727272727,\n",
       " 'Ao velho com quem o Capitão havia falado, deu-lhe uma carapuça vermelha.': 1.3454545454545452,\n",
       " 'E com toda a conversa que com ele houve, e com a carapuça que lhe deu tanto que se despediu e começou a passar o rio, foi-se logo recatando.': 1.8909090909090907,\n",
       " 'E não quis mais tornar do rio para aquém.': 0.6363636363636364,\n",
       " 'Os outros dois o Capitão teve nas naus, aos quais deu o que já ficou dito, nunca mais aqui apareceram — fatos de que deduzo que é gente bestial e de pouco saber, e por isso tão esquiva.': 5.072727272727272,\n",
       " 'Mas apesar de tudo isso andam bem curados, e muito limpos.': 1.1454545454545453,\n",
       " 'E naquilo ainda mais me convenço que são como aves, ou alimárias montezinhas, as quais o ar faz melhores penas e melhor cabelo que às mansas, porque os seus corpos são tão limpos e tão gordos e tão formosos que não pode ser mais!': 3.3636363636363633,\n",
       " 'E isto me faz presumir que não tem casas nem moradias em que se recolham; e o ar em que se criam os faz tais.': 0.3454545454545455,\n",
       " 'Nós pelo menos não vimos até agora nenhumas casas, nem coisa que se pareça com elas.': 0.7090909090909091,\n",
       " 'Mandou o Capitão aquele degredado, Afonso Ribeiro, que se fosse outra vez com eles.': 1.8545454545454545,\n",
       " 'E foi; e andou lá um bom pedaço, mas a tarde regressou, que o fizeram eles vir: e não o quiseram lá consentir.': 1.8545454545454545,\n",
       " 'E deram-lhe arcos e setas; e não lhe tomaram nada do seu.': 0.8363636363636364,\n",
       " 'Antes, disse ele, que lhe tomara um deles umas continhas amarelas que levava e fugia com elas, e ele se queixou e os outros foram logo após ele, e lhas tomaram e tornaram-lhas a dar; e então mandaram-no vir.': 2.5999999999999996,\n",
       " 'Disse que não vira lá entre eles senão umas choupaninhas de rama verde e de feteiras muito grandes, como as de Entre Douro e Minho.': 1.2909090909090901,\n",
       " 'E assim nostornamos às naus, já quase noite, a dormir.': 1.7272727272727273,\n",
       " 'Segunda-feira, depois de comer, saímos todos em terra a tomar água.': 2.5999999999999996,\n",
       " 'Ali vieram então muitos; mas não tantos como as outras vezes.': 1.8363636363636362,\n",
       " 'E traziam já muito poucos arcos.': 0.6545454545454545,\n",
       " 'E estiveram um pouco afastados de nós; mas depois pouco a pouco misturaram-se conosco; e abraçavam-nos e folgavam; mas alguns deles se esquivavam logo.': 2.090909090909091,\n",
       " 'Ali davam alguns arcos por folhas de papel e por alguma carapucinha velha e por qualquer coisa.': 2.3999999999999995,\n",
       " 'E de tal maneira se passou a coisa que bem vinte ou trinta pessoas das nossas se foram com eles para onde outros muitos deles estavam com moças e mulheres.': 3.254545454545455,\n",
       " 'E trouxeram de lá muitos arcos e barretes de penas de aves, uns verdes, outros amarelos, dos quais creio que o Capitão há de mandar uma amostra a Vossa Alteza.': 5.381818181818181,\n",
       " 'E segundo diziam esses que lá tinham ido, brincaram com eles.': 1.0909090909090908,\n",
       " 'Neste dia os vimos mais de perto e mais à nossa vontade, por andarmos quase todos misturados: uns andavam quartejados daquelas tinturas, outros de metades, outros de tanta feição como em pano de ras, e todos com os beiços furados, muitos com os ossos neles, e bastantes sem ossos.': 5.781818181818182,\n",
       " 'Alguns traziam uns ouriços verdes, de árvores, que na cor queriam parecer de castanheiras, embora fossem muito mais pequenos.': 1.618181818181818,\n",
       " 'E estavam cheios de uns grãos vermelhos, pequeninos que, esmagando-se entre os dedos, se desfaziam na tinta muito vermelha de que andavam tingidos.': 0.8727272727272728,\n",
       " 'E quanto mais se molhavam, tanto mais vermelhos ficavam.': 0.5090909090909091,\n",
       " 'Todos andam rapados até por cima das orelhas; assim mesmo de sobrancelhas e pestanas.': 2.1999999999999997,\n",
       " 'Trazem todos as testas, de fonte a fonte, tintas de tintura preta, que parece uma fita preta da largura de dois dedos.': 1.9818181818181817,\n",
       " 'E o Capitão mandou aquele degredado Afonso Ribeiro e a outros dois degredados que fossem meter-se entre eles; e assim mesmo a Diogo Dias, por ser homem alegre, com que eles folgavam.': 4.3999999999999995,\n",
       " 'E aos degredados ordenou que ficassem lá esta noite.': 1.0909090909090908,\n",
       " 'Foram-se lá todos; e andaram entre eles.': 1.7272727272727273,\n",
       " 'E segundo depois diziam, foram bem uma légua e meia a uma povoação, em que haveria nove ou dez casas, as quais diziam que eram tão compridas, cada uma, como esta nau capitaina.': 2.89090909090909,\n",
       " 'E eram de madeira, e das ilhargas de tábuas, e cobertas de palha, de razoável altura; e todas de um só espaço, sem repartição alguma, tinham de dentro muitos esteios; e de esteio a esteio uma rede atada com cabos em cada esteio, altas, em que dormiam.': 1.6363636363636358,\n",
       " 'E de baixo, para se aquentarem, faziam seus fogos.': 0.21818181818181817,\n",
       " 'E tinha cada casa duas portas pequenas, uma numa extremidade, e outra na oposta.': 0.6,\n",
       " 'E diziam que em cada casa se recolhiam trinta ou quarenta pessoas, e que assim os encontraram; e que lhes deram de comer dos alimentos que tinham, a saber muito inhame, e outras sementes que na terra dá, que eles comem.': 3.054545454545454,\n",
       " 'E como se fazia tarde fizeram-nos logo todos tornar; e não quiseram que lá ficasse nenhum.': 2.563636363636363,\n",
       " 'E ainda, segundo diziam, queriam vir com eles.': 0.8545454545454545,\n",
       " 'Resgataram lá por cascavéis e outras coisinhas de pouco valor, que levavam, papagaios vermelhos, muito grandes e formosos, e dois verdes pequeninos, e carapuças de penas verdes, e um pano de penas de muitas cores, espécie de tecido assaz belo, segundo Vossa Alteza todas estas coisas verá, porque o Capitão vo-las há de mandar, segundo ele disse.': 6.363636363636363,\n",
       " 'E com isto vieram; e nós tornamo-nos às naus.': 0.6545454545454545,\n",
       " 'Terça-feira, depois de comer, fomos em terra, fazer lenha, e para lavar roupa.': 1.5090909090909088,\n",
       " 'Estavam na praia, quando chegamos, uns sessenta ou setenta, sem arcos e sem nada.': 1.290909090909091,\n",
       " 'Tanto que chegamos, vieram logo para nós, sem se esquivarem.': 1.1818181818181819,\n",
       " 'E depois acudiram muitos, que seriam bem duzentos, todos sem arcos.': 2.7454545454545456,\n",
       " 'E misturaram-se todos tanto conosco que uns nos ajudavam a acarretar lenha e metê-las nos batéis.': 2.2363636363636363,\n",
       " 'E lutavam com os nossos, e tomavam com prazer.': 0.16363636363636364,\n",
       " 'E enquanto fazíamos a lenha, construíam dois carpinteiros uma grande cruz de um pau que se ontem para isso cortara.': 1.4,\n",
       " 'Muitos deles vinham ali estar com os carpinteiros.': 1.2545454545454544,\n",
       " 'E creio que o faziam mais para verem a ferramenta de ferro com que a faziam do que para verem a cruz, porque eles não tem coisa que de ferro seja, e cortam sua madeira e paus com pedras feitas como cunhas, metidas em um pau entre duas talas, mui bem atadas e por tal maneira que andam fortes, porque lhas viram lá.': 4.399999999999999,\n",
       " 'Era já a conversação deles conosco tanta que quase nos estorvavam no que havíamos de fazer.': 0.7454545454545454,\n",
       " 'E o Capitão mandou a dois degredados e a Diogo Dias que fossem lá à aldeia e que de modo algum viessem a dormir às naus, ainda que os mandassem embora.': 3.5636363636363626,\n",
       " 'E assim se foram.': 0.8,\n",
       " 'Enquanto andávamos nessa mata a cortar lenha, atravessavam alguns papagaios essas árvores; verdes uns, e pardos, outros, grandes e pequenos, de sorte que me parece que haverá muitos nesta terra.': 3.836363636363636,\n",
       " 'Todavia os que vi não seriam mais que nove ou dez, quando muito.': 0.39999999999999997,\n",
       " 'Outras aves não vimos então, a não ser algumas pombas-seixeiras, e pareceram-me maiores bastante do que as de Portugal.': 1.1272727272727268,\n",
       " 'Vários diziam que viram rolas, mas eu não as vi.': 0.34545454545454546,\n",
       " 'Todavia segundo os arvoredos são mui muitos e grandes, e de infinitas espécies, não duvido que por esse sertão haja muitas aves!': 1.7090909090909088,\n",
       " 'E cerca da noite nós volvemos para as naus com nossa lenha.': 0.8545454545454545,\n",
       " 'Eu creio, Senhor, que não dei ainda conta aqui a Vossa Alteza do feitio de seus arcos e setas.': 2.7818181818181813,\n",
       " 'Os arcos são pretos e compridos, e as setas compridas; e os ferros delas são canas aparadas, conforme Vossa Alteza verá alguns que creio que o Capitão a Ela há de enviar.': 3.5272727272727273,\n",
       " 'Quarta-feira não fomos em terra, porque o Capitão andou todo o dia no navio dos mantimentos a despejá-lo e fazer levar às naus isso que cada um podia levar.': 3.4909090909090894,\n",
       " 'Eles acudiram à praia, muitos, segundo das naus vimos.': 1.727272727272727,\n",
       " 'Seriam perto de trezentos, segundo Sancho de Tovar que para lá foi.': 1.2545454545454544,\n",
       " 'Diogo Dias e Afonso Ribeiro, o degredado, aos quais o Capitão ontem ordenara que de toda maneira lá dormissem, tinham voltado já de noite, por eles não quererem que lá ficassem.': 3.8363636363636355,\n",
       " 'E traziam papagaios verdes; e outras aves pretas, quase como pegas, com a diferença de terem o bico branco e rabos curtos.': 1.0545454545454545,\n",
       " 'E quando Sancho de Tovar recolheu à nau, queriam vir com ele, alguns; mas ele não admitiu senão dois mancebos, bem dispostos e homens de prol.': 2.7454545454545447,\n",
       " 'Mandou pensar e curá-los mui bem essa noite.': 1.6363636363636362,\n",
       " 'E comeram toda a ração que lhes deram, e mandou dar-lhes cama de lençóis, segundo ele disse.': 1.1818181818181819,\n",
       " 'E dormiram e folgaram aquela noite.': 0.2909090909090909,\n",
       " 'E não houve mais este dia que para escrever seja.': 0.2181818181818182,\n",
       " 'Quinta-feira, derradeiro de abril, comemos logo, quase pela manhã, e fomos em terra por mais lenha e água.': 2.3454545454545457,\n",
       " 'E em querendo o Capitão sair desta nau, chegou Sancho de Tovar com seus dois hóspedes.': 1.945454545454545,\n",
       " 'E por ele ainda não ter comido, puseram-lhe toalhas, e veio-lhe comida.': 0.36363636363636365,\n",
       " 'E comeu.': 0.01818181818181818,\n",
       " 'Os hóspedes, sentaram-no cada um em sua cadeira.': 0.32727272727272727,\n",
       " 'E de tudo quanto lhes deram, comeram mui bem, especialmente lacão cozido frio, e arroz.': 1.5818181818181816,\n",
       " 'Não lhes deram vinho por Sancho de Tovar dizer que o não bebiam bem.': 1.2363636363636363,\n",
       " 'Acabado o comer, metemo-nos todos no batel, e eles conosco.': 1.5636363636363635,\n",
       " 'Deu um grumete a um deles uma armadura grande de porco montês, bem revolta.': 1.2545454545454546,\n",
       " 'E logo que a tomou meteu-a no beiço; e porque se lhe não queria segurar, deram-lhe uma pouca de cera vermelha.': 1.3090909090909089,\n",
       " 'E ele ajeitou-lhe seu adereço da parte de trás de sorte que segurasse, e meteu-a no beiço, assim revolta para cima; e ia tão contente com ela, como se tivesse uma grande jóia.': 2.309090909090909,\n",
       " 'E tanto que saímos em terra, foi-se logo com ela.': 1.8545454545454545,\n",
       " 'E não tornou a aparecer lá.': 0.6909090909090909,\n",
       " 'Andariam na praia, quando saímos, oito ou dez deles; e de aí a pouco começaram a vir.': 1.1636363636363636,\n",
       " 'E parece-me que viriam este dia a praia quatrocentos ou quatrocentos e cinqüenta.': 0.8545454545454546,\n",
       " 'Alguns deles traziam arcos e setas; e deram tudo em troca de carapuças e por qualquer coisa que lhes davam.': 2.3636363636363633,\n",
       " 'Comiam conosco do que lhes dávamos, e alguns deles bebiam vinho, ao passo que outros o não podiam beber.': 1.5999999999999999,\n",
       " 'Mas quer-me parecer que, se os acostumarem, o hão de beber de boa vontade!': 0.36363636363636365,\n",
       " 'Andavam todos tão bem dispostos e tão bem feitos e galantes com suas pinturas que agradavam.': 3.872727272727272,\n",
       " 'Acarretavam dessa lenha quanta podiam, com mil boas vontades, e levavam-na aos batéis.': 0.6363636363636364,\n",
       " 'E estavam já mais mansos e seguros entre nós do que nós estávamos entre eles.': 0.03636363636363636,\n",
       " 'Foi o Capitão com alguns de nós um pedaço por este arvoredo até um ribeiro grande, e de muita água, que ao nosso parecer é o mesmo que vem ter à praia, em que nós tomamos água.': 3.2727272727272725,\n",
       " 'Ali descansamos um pedaço, bebendo e folgando, ao longo dele, entre esse arvoredo que é tanto e tamanho e tão basto e de tanta qualidade de folhagem que não se pode calcular.': 2.127272727272727,\n",
       " 'Há lá muitas palmeiras, de que colhemos muitos e bons palmitos.': 1.509090909090909,\n",
       " 'Ao sairmos do batel, disse o Capitão que seria bom irmos em direitura à cruz que estava encostada a uma árvore, junto ao rio, a fim de ser colocada amanhã, sexta-feira, e que nos puséssemos todos de joelhos e a beijássemos para eles verem o acatamento que lhe tínhamos.': 3.727272727272727,\n",
       " 'E assim fizemos.': 0.8545454545454546,\n",
       " 'E a esses dez ou doze que lá estavam, acenaram-lhes que fizessem o mesmo; e logo foram todos beijá-la.': 2.418181818181818,\n",
       " 'Parece-me gente de tal inocência que, se nós entendêssemos a sua fala e eles a nossa, seriam logo cristãos, visto que não têm nem entendem crença alguma, segundo as aparências.': 1.9090909090909087,\n",
       " 'E portanto se os degredados que aqui hão de ficar aprenderem bem a sua fala e os entenderem, não duvido que eles, segundo a santa tenção de Vossa Alteza, se farão cristãos e hão de crer na nossa santa fé, à qual praza a Nosso Senhor que os traga, porque certamente esta gente é boa e de bela simplicidade.': 4.236363636363636,\n",
       " 'E imprimir-se-á facilmente neles qualquer cunho que lhe quiserem dar, uma vez que Nosso Senhor lhes deu bons corpos e bons rostos, como a homens bons.': 1.618181818181818,\n",
       " 'E o Ele nos para aqui trazer creio que não foi sem causa.': 0.6909090909090909,\n",
       " 'E portanto Vossa Alteza, pois tanto deseja acrescentar a santa fé católica, deve cuidar da salvação deles.': 1.7999999999999994,\n",
       " 'E prazerá a Deus que com pouco trabalho seja assim!': 1.1272727272727274,\n",
       " 'Eles não lavram nem criam.': 0.05454545454545454,\n",
       " 'Nem há aqui boi ou vaca, cabra, ovelha ou galinha, ou qualquer outro animal que esteja acostumado ao viver do homem.': 1.0,\n",
       " 'E não comem senão deste inhame, de que aqui há muito, e dessas sementes e frutos que a terra e as árvores de si deitam.': 1.727272727272727,\n",
       " 'E com isto andam tais e tão rijos e tão nédios que o não somos nós tanto, com quanto trigo e legumes comemos.': 1.5999999999999994,\n",
       " 'Nesse dia, enquanto ali andavam, dançaram e bailaram sempre com os nossos, ao som de um tamboril nosso, como se fossem mais amigos nossos do que nós seus.': 1.5454545454545452,\n",
       " 'Se lhes a gente acenava, se queriam vir às naus, aprontavam-se logo para isso, de modo tal, que se os convidáramos a todos, todos vieram.': 4.036363636363636,\n",
       " 'Porém não levamos esta noite às naus senão quatro ou cinco; a saber, o Capitão-mor, dois; e Simão de Miranda, um que já trazia por pagem; e Aires Gomes a outro, pagem também.': 2.309090909090908,\n",
       " 'Os que o Capitão trazia, era um deles um dos seus hóspedes que lhe haviam trazido a primeira vez quando aqui chegamos — o qual veio hoje aqui vestido na sua camisa, e com ele um seu irmão; e foram esta noite mui bem agasalhados tanto de comida como de cama, de colchões e lençóis, para os mais amansar.': 4.872727272727271,\n",
       " 'E hoje que é sexta-feira, primeiro dia de maio, pela manhã, saímos em terra com nossa bandeira; e fomos desembarcar acima do rio, contra o sul onde nos pareceu que seria melhor arvorar a cruz, para melhor ser vista.': 3.690909090909091,\n",
       " 'E ali marcou o Capitão o sítio onde haviam de fazer a cova para a fincar.': 2.3090909090909086,\n",
       " 'E enquanto a iam abrindo, ele com todos nós outros fomos pela cruz, rio abaixo onde ela estava.': 2.963636363636363,\n",
       " 'E com os religiosos e sacerdotes que cantavam, à frente, fomos trazendo-a dali, a modo de procissão.': 0.36363636363636365,\n",
       " 'Eram já aí quantidade deles, uns setenta ou oitenta; e quando nos assim viram chegar, alguns se foram meter debaixo dela, ajudar-nos.': 1.8909090909090907,\n",
       " 'Passamos o rio, ao longo da praia; e fomos colocá-la onde havia de ficar, que será obra de dois tiros de besta do rio.': 2.6181818181818177,\n",
       " 'Andando-se ali nisto, viriam bem cento cinqüenta, ou mais.': 1.6363636363636365,\n",
       " 'Plantada a cruz, com as armas e a divisa de Vossa Alteza, que primeiro lhe haviam pregado, armaram altar ao pé dela.': 1.6727272727272724,\n",
       " 'Ali disse missa o padre frei Henrique, a qual foi cantada e oficiada por esses já ditos.': 1.2909090909090906,\n",
       " 'Ali estiveram conosco, a ela, perto de cinqüenta ou sessenta deles, assentados todos de joelho assim como nós.': 3.0,\n",
       " 'E quando se veio ao Evangelho, que nos erguemos todos em pé, com as mãos levantadas, eles se levantaram conosco, e alçaram as mãos, estando assim até se chegar ao fim; e então tornaram-se a assentar, como nós.': 3.145454545454545,\n",
       " 'E quando levantaram a Deus, que nos pusemos de joelhos, eles se puseram assim como nós estávamos, com as mãos levantadas, e em tal maneira sossegados que certifico a Vossa Alteza que nos fez muita devoção.': 3.218181818181818,\n",
       " 'Estiveram assim conosco até acabada a comunhão; e depois da comunhão, comungaram esses religiosos e sacerdotes; e o Capitão com alguns de nós outros.': 3.3090909090909086,\n",
       " 'E alguns deles, por o Sol ser grande, levantaram-se enquanto estávamos comungando, e outros estiveram e ficaram.': 1.9818181818181817,\n",
       " 'Um deles, homem de cinqüenta ou cinqüenta e cinco anos, se conservou ali com aqueles que ficaram.': 1.2363636363636363,\n",
       " 'Esse, enquanto assim estávamos, juntava aqueles que ali tinham ficado, e ainda chamava outros.': 2.509090909090909,\n",
       " 'E andando assim entre eles, falando-lhes, acenou com o dedo para o altar, e depois mostrou com o dedo para o céu, como se lhes dissesse alguma coisa de bem; e nós assim o tomamos!': 3.327272727272727,\n",
       " 'Acabada a missa, tirou o padre a vestimenta de cima, e ficou na alva; e assim se subiu, junto ao altar, em uma cadeira; e ali nos pregou o Evangelho e dos Apóstolos cujo é o dia, tratando no fim da pregação desse vosso prosseguimento tão santo e virtuoso, que nos causou mais devoção.': 3.5999999999999988,\n",
       " 'Esses que estiveram sempre à pregação estavam assim como nós olhando para ele.': 1.018181818181818,\n",
       " 'E aquele que digo, chamava alguns, que viessem ali.': 1.2363636363636363,\n",
       " 'Alguns vinham e outros iam-se; e acabada a pregação, trazia Nicolau Coelho muitas cruzes de estanho com crucifixos, que lhe ficaram ainda da outra vinda.': 2.6181818181818177,\n",
       " 'E houveram por bem que lançassem a cada um sua ao pescoço.': 1.0363636363636364,\n",
       " 'Por essa causa se assentou o padre frei Henrique ao pé da cruz; e ali lançava a sua a todos — um a um — ao pescoço, atada em um fio, fazendo-lha primeiro beijar e levantar as mãos.': 3.654545454545454,\n",
       " 'Vinham a isso muitos; e lançavam-nas todas, que seriam obra de quarenta ou cinqüenta.': 0.8727272727272728,\n",
       " 'E isto acabado — era já bem uma hora depois do meio dia — viemos às naus a comer, onde o Capitão trouxe consigo aquele mesmo que fez aos outros aquele gesto para o altar e para o céu, (e um seu irmão com ele).': 5.1090909090909085,\n",
       " 'A aquele fez muita honra e deu-lhe uma camisa mourisca; e ao outro uma camisa destoutras.': 0.8,\n",
       " 'E segundo o que a mim e a todos pareceu, esta gente, não lhes falece outra coisa para ser toda cristã, do que entenderem-nos, porque assim tomavam aquilo que nos viam fazer como nós mesmos; por onde pareceu a todos que nenhuma idolatria nem adoração têm.': 5.818181818181818,\n",
       " 'E bem creio que, se Vossa Alteza aqui mandar quem entre eles mais devagar ande, que todos serão tornados e convertidos ao desejo de Vossa Alteza.': 4.727272727272727,\n",
       " 'E por isso, se alguém vier, não deixe logo de vir clérigo para os batizar; porque já então terão mais conhecimentos de nossa fé, pelos dois degredados que aqui entre eles ficam, os quais hoje também comungaram.': 2.963636363636363,\n",
       " 'Entre todos estes que hoje vieram não veio mais que uma mulher, moça, a qual esteve sempre à missa, à qual deram um pano com que se cobrisse; e puseram-lho em volta dela.': 1.9999999999999996,\n",
       " 'Todavia, ao sentar-se, não se lembrava de o estender muito para se cobrir.': 0.2,\n",
       " 'Assim, Senhor, a inocência desta gente é tal que a de Adão não seria maior — com respeito ao pudor.': 2.2545454545454544,\n",
       " 'Ora veja Vossa Alteza quem em tal inocência vive se se convertera, ou não, se lhe ensinarem o que pertence à sua salvação.': 1.4727272727272722,\n",
       " 'Acabado isto, fomos perante eles beijar a cruz.': 0.32727272727272727,\n",
       " 'E despedimo-nos e fomos comer.': 0.2,\n",
       " 'Creio, Senhor, que, com estes dois degredados que aqui ficam, ficarão mais dois grumetes, que esta noite se saíram em terra, desta nau, no esquife, fugidos, os quais não vieram mais.': 3.9454545454545453,\n",
       " 'E cremos que ficarão aqui porque de manhã, prazendo a Deus fazemos nossa partida daqui.': 1.1454545454545453,\n",
       " 'Esta terra, Senhor, parece-me que, da ponta que mais contra o sul vimos, até à outra ponta que contra o norte vem, de que nós deste porto houvemos vista, será tamanha que haverá nela bem vinte ou vinte e cinco léguas de costa.': 3.5999999999999988,\n",
       " 'Traz ao longo do mar em algumas partes grandes barreiras, umas vermelhas, e outras brancas; e a terra de cima toda chã e muito cheia de grandes arvoredos.': 2.5636363636363635,\n",
       " 'De ponta a ponta é toda praia... muito chã e muito formosa.': 0.8363636363636364,\n",
       " 'Pelo sertão nos pareceu, vista do mar, muito grande; porque a estender olhos, não podíamos ver senão terra e arvoredos — terra que nos parecia muito extensa.': 3.5999999999999996,\n",
       " 'Até agora não pudemos saber se há ouro ou prata nela, ou outra coisa de metal, ou ferro; nem lha vimos.': 1.4181818181818182,\n",
       " \"Contudo a terra em si é de muito bons ares frescos e temperados como os de Entre-Douro-e-Minho, porque neste tempo d'agora assim os achávamos como os de lá.\": 3.1272727272727265,\n",
       " 'Águas são muitas; infinitas.': 0.2363636363636364,\n",
       " 'Em tal maneira é graciosa que, querendo-a aproveitar, dar-se-á nela tudo; por causa das águas que tem!': 0.8727272727272728,\n",
       " 'Contudo, o melhor fruto que dela se pode tirar parece-me que será salvar esta gente.': 0.7272727272727273,\n",
       " 'E esta deve ser a principal semente que Vossa Alteza em ela deve lançar.': 1.509090909090909,\n",
       " 'E que não houvesse mais do que ter Vossa Alteza aqui esta pousada para essa navegação de Calicute bastava.': 1.654545454545454,\n",
       " 'Quanto mais, disposição para se nela cumprir e fazer o que Vossa Alteza tanto deseja, a saber, acrescentamento da nossa fé!': 2.2181818181818183,\n",
       " 'E desta maneira dou aqui a Vossa Alteza conta do que nesta Vossa terra vi.': 3.527272727272727,\n",
       " 'E se a um pouco alonguei, Ela me perdoe.': 0.2727272727272727,\n",
       " 'Porque o desejo que tinha de Vos tudo dizer, mo fez pôr assim pelo miúdo.': 1.8545454545454545,\n",
       " \"E pois que, Senhor, é certo que tanto neste cargo que levo como em outra qualquer coisa que de Vosso serviço for, Vossa Alteza há de ser de mim muito bem servida, a Ela peço que, por me fazer singular mercê, mande vir da ilha de São Tomé a Jorge de Osório, meu genro — o que d'Ela receberei em muita mercê.\": 5.018181818181819,\n",
       " 'Beijo as mãos de Vossa Alteza.': 1.2363636363636363,\n",
       " 'Deste Porto Seguro, da Vossa Ilha da Vera Cruz, hoje, sexta-feira, primeiro dia de Maio de 1500.': 1.5454545454545452,\n",
       " 'Sobre esta edição digital Este eBook foi gerado a partir do Wikisource,[1] biblioteca online multilíngue, feita por voluntários, comprometida em desenvolver uma coleção de publicações em copyleft de todos os gêneros: (romances, poemas, revistas e periódicos, cartas, livros técnicos etc) Nossos livros são distribuídos gratuitamente, a partir de materiais que tenham caído em domínio público ou que tenham sido disponibilizados em licenças livres.': 1.9272727272727255,\n",
       " 'Você pode utilizar nossos materiais para quaisquer fins, inclusive comercialmente, dentro dos termos ou da Creative Commons BY-SA 3.0 [2] ou da GNU FDL,[3] à sua escolha.': 0.5636363636363637,\n",
       " 'O Wikisource está sempre à procura de novos membros: sinta-se à vontade em participar.': 0.3090909090909091,\n",
       " 'Apesar de nossos cuidados, é possível que este livro contenha um ou mais erros que nos passaram despercebidos.': 0.2545454545454545,\n",
       " 'Seja por um ou por outro motivo, você pode nos contatar no nosso fórum.': 0.2727272727272727,\n",
       " '[4] Este livro em particular lhe foi disponibilizado a partir das pessoas por detrás destes nicknames: 555 Schultz DarwIn NMaia CommonsDelinker Get It Erico Koerich~ptwikisource Luan Tetraktys * * * ↑ http://pt.wikisource.org ↑ http://creativecommons.org/licenses/by-sa/3.0/deed.pt_BR ↑ http://www.gnu.org/copyleft/fdl.html ↑ https://pt.wikisource.org/wiki/Wikisource:Esplanada': 1.0363636363636364}"
      ]
     },
     "execution_count": 21,
     "metadata": {},
     "output_type": "execute_result"
    }
   ],
   "source": [
    "sentence_note"
   ]
  },
  {
   "cell_type": "code",
   "execution_count": 22,
   "id": "3c5c8ca1",
   "metadata": {
    "execution": {
     "iopub.execute_input": "2021-12-09T20:15:10.461742Z",
     "iopub.status.busy": "2021-12-09T20:15:10.460786Z",
     "iopub.status.idle": "2021-12-09T20:15:10.464524Z",
     "shell.execute_reply": "2021-12-09T20:15:10.465100Z",
     "shell.execute_reply.started": "2021-12-09T20:12:42.911670Z"
    },
    "papermill": {
     "duration": 0.036614,
     "end_time": "2021-12-09T20:15:10.465267",
     "exception": false,
     "start_time": "2021-12-09T20:15:10.428653",
     "status": "completed"
    },
    "tags": []
   },
   "outputs": [],
   "source": [
    "import heapq\n",
    "best_sentences = heapq.nlargest(15, sentence_note, key=sentence_note.get)"
   ]
  },
  {
   "cell_type": "code",
   "execution_count": 23,
   "id": "fbb9a716",
   "metadata": {
    "execution": {
     "iopub.execute_input": "2021-12-09T20:15:10.527740Z",
     "iopub.status.busy": "2021-12-09T20:15:10.526844Z",
     "iopub.status.idle": "2021-12-09T20:15:10.532255Z",
     "shell.execute_reply": "2021-12-09T20:15:10.532702Z",
     "shell.execute_reply.started": "2021-12-09T20:12:42.917782Z"
    },
    "papermill": {
     "duration": 0.038627,
     "end_time": "2021-12-09T20:15:10.532863",
     "exception": false,
     "start_time": "2021-12-09T20:15:10.494236",
     "status": "completed"
    },
    "tags": []
   },
   "outputs": [
    {
     "data": {
      "text/plain": [
       "['Carta de Pero Vaz de Caminha Pero Vaz de Caminha Conteúdo exportado da wiki Wikisource em 8 de dezembro de 2021 Senhor, posto que o Capitão-mor desta Vossa frota, e assim os outros capitães escrevam a Vossa Alteza a nova do achamento desta Vossa terra nova, que se agora nesta navegação achou, não deixarei de também dar disso minha conta a Vossa Alteza, assim como eu melhor puder, ainda que — para o bem contar e falar — o saiba pior que todos fazer!',\n",
       " 'E ali com todos nós outros fez dizer missa, a qual disse o padre frei Henrique, em voz entoada, e oficiada com aquela mesma voz pelos outros padres e sacerdotes que todos assistiram, a qual missa, segundo meu parecer, foi ouvida por todos com muito prazer e devoção.',\n",
       " 'Resgataram lá por cascavéis e outras coisinhas de pouco valor, que levavam, papagaios vermelhos, muito grandes e formosos, e dois verdes pequeninos, e carapuças de penas verdes, e um pano de penas de muitas cores, espécie de tecido assaz belo, segundo Vossa Alteza todas estas coisas verá, porque o Capitão vo-las há de mandar, segundo ele disse.',\n",
       " 'E assim seguimos nosso caminho, por este mar de longo, até que terça-feira das Oitavas de Páscoa, que foram 21 dias de abril, topamos alguns sinais de terra, estando da dita Ilha — segundo os pilotos diziam, obra de 660 ou 670 léguas — os quais eram muita quantidade de ervas compridas, a que os mareantes chamam botelho, e assim mesmo outras a que dão o nome de rabo-de-asno.',\n",
       " 'E quinta-feira, pela manhã, fizemos vela e seguimos em direitura à terra, indo os navios pequenos diante — por dezessete, dezesseis, quinze, catorze, doze, nove braças — até meia légua da terra, onde todos lançamos ancoras, em frente da boca de um rio.',\n",
       " 'E concordaram em que não era necessário tomar por força homens, porque costume era dos que assim à força levavam para alguma parte dizerem que há de tudo quanto lhes perguntam; e que melhor e muito melhor informação da terra dariam dois homens desses degredados que aqui deixássemos do que eles dariam se os levassem por ser gente que ninguém entende.',\n",
       " 'E segundo o que a mim e a todos pareceu, esta gente, não lhes falece outra coisa para ser toda cristã, do que entenderem-nos, porque assim tomavam aquilo que nos viam fazer como nós mesmos; por onde pareceu a todos que nenhuma idolatria nem adoração têm.',\n",
       " 'Neste dia os vimos mais de perto e mais à nossa vontade, por andarmos quase todos misturados: uns andavam quartejados daquelas tinturas, outros de metades, outros de tanta feição como em pano de ras, e todos com os beiços furados, muitos com os ossos neles, e bastantes sem ossos.',\n",
       " 'E daqui mandou o Capitão que Nicolau Coelho e Bartolomeu Dias fossem em terra e levassem aqueles dois homens, e os deixassem ir com seu arco e setas, aos quais mandou dar a cada um uma camisa nova e uma carapuça vermelha e um rosário de contas brancas de osso, que foram levando nos braços, e um cascavel e uma campainha.',\n",
       " 'E trouxeram de lá muitos arcos e barretes de penas de aves, uns verdes, outros amarelos, dos quais creio que o Capitão há de mandar uma amostra a Vossa Alteza.',\n",
       " 'E logo que a resolução foi tomada, perguntou mais, se seria bem tomar aqui por força um par destes homens para os mandar a Vossa Alteza, deixando aqui em lugar deles outros dois destes degredados.',\n",
       " 'E perguntou a todos se nos parecia bem mandar a nova do achamento desta terra a Vossa Alteza pelo navio dos mantimentos, para a melhor mandar descobrir e saber dela mais do que nós podíamos saber, por irmos na nossa viagem.',\n",
       " 'A saber, primeiramente de um grande monte, muito alto e redondo; e de outras serras mais baixas ao sul dele; e de terra chã, com grandes arvoredos; ao qual monte alto o capitão pôs o nome de O Monte Pascoal e à terra A Terra de Vera Cruz!',\n",
       " 'E isto acabado — era já bem uma hora depois do meio dia — viemos às naus a comer, onde o Capitão trouxe consigo aquele mesmo que fez aos outros aquele gesto para o altar e para o céu, (e um seu irmão com ele).',\n",
       " 'Os outros dois o Capitão teve nas naus, aos quais deu o que já ficou dito, nunca mais aqui apareceram — fatos de que deduzo que é gente bestial e de pouco saber, e por isso tão esquiva.']"
      ]
     },
     "execution_count": 23,
     "metadata": {},
     "output_type": "execute_result"
    }
   ],
   "source": [
    "best_sentences"
   ]
  },
  {
   "cell_type": "code",
   "execution_count": 24,
   "id": "2b2a3558",
   "metadata": {
    "execution": {
     "iopub.execute_input": "2021-12-09T20:15:10.597959Z",
     "iopub.status.busy": "2021-12-09T20:15:10.596956Z",
     "iopub.status.idle": "2021-12-09T20:15:10.601066Z",
     "shell.execute_reply": "2021-12-09T20:15:10.601613Z",
     "shell.execute_reply.started": "2021-12-09T20:12:42.934159Z"
    },
    "papermill": {
     "duration": 0.039158,
     "end_time": "2021-12-09T20:15:10.601774",
     "exception": false,
     "start_time": "2021-12-09T20:15:10.562616",
     "status": "completed"
    },
    "tags": []
   },
   "outputs": [
    {
     "data": {
      "text/plain": [
       "'Carta de Pero Vaz de Caminha Pero Vaz de Caminha Conteúdo exportado da wiki Wikisource em 8 de dezembro de 2021 Senhor, posto que o Capitão-mor desta Vossa frota, e assim os outros capitães escrevam a Vossa Alteza a nova do achamento desta Vossa terra nova, que se agora nesta navegação achou, não deixarei de também dar disso minha conta a Vossa Alteza, assim como eu melhor puder, ainda que — para o bem contar e falar — o saiba pior que todos fazer! E ali com todos nós outros fez dizer missa, a qual disse o padre frei Henrique, em voz entoada, e oficiada com aquela mesma voz pelos outros padres e sacerdotes que todos assistiram, a qual missa, segundo meu parecer, foi ouvida por todos com muito prazer e devoção. Resgataram lá por cascavéis e outras coisinhas de pouco valor, que levavam, papagaios vermelhos, muito grandes e formosos, e dois verdes pequeninos, e carapuças de penas verdes, e um pano de penas de muitas cores, espécie de tecido assaz belo, segundo Vossa Alteza todas estas coisas verá, porque o Capitão vo-las há de mandar, segundo ele disse. E assim seguimos nosso caminho, por este mar de longo, até que terça-feira das Oitavas de Páscoa, que foram 21 dias de abril, topamos alguns sinais de terra, estando da dita Ilha — segundo os pilotos diziam, obra de 660 ou 670 léguas — os quais eram muita quantidade de ervas compridas, a que os mareantes chamam botelho, e assim mesmo outras a que dão o nome de rabo-de-asno. E quinta-feira, pela manhã, fizemos vela e seguimos em direitura à terra, indo os navios pequenos diante — por dezessete, dezesseis, quinze, catorze, doze, nove braças — até meia légua da terra, onde todos lançamos ancoras, em frente da boca de um rio. E concordaram em que não era necessário tomar por força homens, porque costume era dos que assim à força levavam para alguma parte dizerem que há de tudo quanto lhes perguntam; e que melhor e muito melhor informação da terra dariam dois homens desses degredados que aqui deixássemos do que eles dariam se os levassem por ser gente que ninguém entende. E segundo o que a mim e a todos pareceu, esta gente, não lhes falece outra coisa para ser toda cristã, do que entenderem-nos, porque assim tomavam aquilo que nos viam fazer como nós mesmos; por onde pareceu a todos que nenhuma idolatria nem adoração têm. Neste dia os vimos mais de perto e mais à nossa vontade, por andarmos quase todos misturados: uns andavam quartejados daquelas tinturas, outros de metades, outros de tanta feição como em pano de ras, e todos com os beiços furados, muitos com os ossos neles, e bastantes sem ossos. E daqui mandou o Capitão que Nicolau Coelho e Bartolomeu Dias fossem em terra e levassem aqueles dois homens, e os deixassem ir com seu arco e setas, aos quais mandou dar a cada um uma camisa nova e uma carapuça vermelha e um rosário de contas brancas de osso, que foram levando nos braços, e um cascavel e uma campainha. E trouxeram de lá muitos arcos e barretes de penas de aves, uns verdes, outros amarelos, dos quais creio que o Capitão há de mandar uma amostra a Vossa Alteza. E logo que a resolução foi tomada, perguntou mais, se seria bem tomar aqui por força um par destes homens para os mandar a Vossa Alteza, deixando aqui em lugar deles outros dois destes degredados. E perguntou a todos se nos parecia bem mandar a nova do achamento desta terra a Vossa Alteza pelo navio dos mantimentos, para a melhor mandar descobrir e saber dela mais do que nós podíamos saber, por irmos na nossa viagem. A saber, primeiramente de um grande monte, muito alto e redondo; e de outras serras mais baixas ao sul dele; e de terra chã, com grandes arvoredos; ao qual monte alto o capitão pôs o nome de O Monte Pascoal e à terra A Terra de Vera Cruz! E isto acabado — era já bem uma hora depois do meio dia — viemos às naus a comer, onde o Capitão trouxe consigo aquele mesmo que fez aos outros aquele gesto para o altar e para o céu, (e um seu irmão com ele). Os outros dois o Capitão teve nas naus, aos quais deu o que já ficou dito, nunca mais aqui apareceram — fatos de que deduzo que é gente bestial e de pouco saber, e por isso tão esquiva.'"
      ]
     },
     "execution_count": 24,
     "metadata": {},
     "output_type": "execute_result"
    }
   ],
   "source": [
    "abstract = ' '.join(best_sentences) \n",
    "abstract"
   ]
  },
  {
   "cell_type": "markdown",
   "id": "c4250e6b",
   "metadata": {
    "papermill": {
     "duration": 0.03017,
     "end_time": "2021-12-09T20:15:10.661829",
     "exception": false,
     "start_time": "2021-12-09T20:15:10.631659",
     "status": "completed"
    },
    "tags": []
   },
   "source": [
    "# Summary view"
   ]
  },
  {
   "cell_type": "code",
   "execution_count": 25,
   "id": "51a58f6b",
   "metadata": {
    "execution": {
     "iopub.execute_input": "2021-12-09T20:15:10.725270Z",
     "iopub.status.busy": "2021-12-09T20:15:10.724352Z",
     "iopub.status.idle": "2021-12-09T20:15:10.734993Z",
     "shell.execute_reply": "2021-12-09T20:15:10.735446Z",
     "shell.execute_reply.started": "2021-12-09T20:12:42.948174Z"
    },
    "papermill": {
     "duration": 0.043831,
     "end_time": "2021-12-09T20:15:10.735608",
     "exception": false,
     "start_time": "2021-12-09T20:15:10.691777",
     "status": "completed"
    },
    "tags": []
   },
   "outputs": [
    {
     "data": {
      "text/html": [
       "<h1>Text summary</h1>"
      ],
      "text/plain": [
       "<IPython.core.display.HTML object>"
      ]
     },
     "metadata": {},
     "output_type": "display_data"
    },
    {
     "data": {
      "text/html": [
       "<mark>Carta de Pero Vaz de Caminha Pero Vaz de Caminha Conteúdo exportado da wiki Wikisource em 8 de dezembro de 2021 Senhor, posto que o Capitão-mor desta Vossa frota, e assim os outros capitães escrevam a Vossa Alteza a nova do achamento desta Vossa terra nova, que se agora nesta navegação achou, não deixarei de também dar disso minha conta a Vossa Alteza, assim como eu melhor puder, ainda que — para o bem contar e falar — o saiba pior que todos fazer!</mark>Todavia tome Vossa Alteza minha ignorância por boa vontade, a qual bem certo creia que, para aformosentar nem afear, aqui não há de pôr mais do que aquilo que vi e me pareceu.Da marinhagem e das singraduras do caminho não darei aqui conta a Vossa Alteza — porque o não saberei fazer — e os pilotos devem ter este cuidado.E portanto, Senhor, do que hei de falar começo: E digo quê: A partida de Belém foi, como Vossa Alteza sabe, segunda-feira 9 de Março.E sábado, 14 do dito mês, entre as 8 e 9 horas, nos achamos entre as Canárias, mais perto da Grande Canária.E ali andamos todo aquele dia em calma, à vista delas, obra de três a quatro léguas.E domingo, 22 do dito mês, às dez horas mais ou menos, houvemos vista das ilhas de Cabo Verde, a saber da ilha de São Nicolau, segundo o dito de Pero Escolar, piloto.Na noite seguinte à segunda-feira amanheceu, se perdeu da frota Vasco de Ataíde com a sua nau, sem haver tempo forte ou contrário para poder ser!Fez o capitão suas diligências para o achar, em umas e outras partes.Mas... não apareceu mais!<mark>E assim seguimos nosso caminho, por este mar de longo, até que terça-feira das Oitavas de Páscoa, que foram 21 dias de abril, topamos alguns sinais de terra, estando da dita Ilha — segundo os pilotos diziam, obra de 660 ou 670 léguas — os quais eram muita quantidade de ervas compridas, a que os mareantes chamam botelho, e assim mesmo outras a que dão o nome de rabo-de-asno.</mark>E quarta-feira seguinte, pela manhã, topamos aves a que chamam furabuchos.Neste mesmo dia, a horas de véspera, houvemos vista de terra!<mark>A saber, primeiramente de um grande monte, muito alto e redondo; e de outras serras mais baixas ao sul dele; e de terra chã, com grandes arvoredos; ao qual monte alto o capitão pôs o nome de O Monte Pascoal e à terra A Terra de Vera Cruz!</mark>Mandou lançar o prumo.Acharam vinte e cinco braças.E ao sol-posto umas seis léguas da terra, lançamos ancoras, em dezenove braças — ancoragem limpa.Ali ficamo-nos toda aquela noite.<mark>E quinta-feira, pela manhã, fizemos vela e seguimos em direitura à terra, indo os navios pequenos diante — por dezessete, dezesseis, quinze, catorze, doze, nove braças — até meia légua da terra, onde todos lançamos ancoras, em frente da boca de um rio.</mark>E chegaríamos a esta ancoragem às dez horas, pouco mais ou menos.E dali avistamos homens que andavam pela praia, uns sete ou oito, segundo disseram os navios pequenos que chegaram primeiro.Então lançamos fora os batéis e esquifes.E logo vieram todos os capitães das naus a esta nau do Capitão-mor.E ali falaram.E o Capitão mandou em terra a Nicolau Coelho para ver aquele rio.E tanto que ele começou a ir-se para lá, acudiram pela praia homens aos dois e aos três, de maneira que, quando o batel chegou à boca do rio, já lá estavam dezoito ou vinte.Pardos, nus, sem coisa alguma que lhes cobrisse suas vergonhas.Traziam arcos nas mãos, e suas setas.Vinham todos rijamente em direção ao batel.E Nicolau Coelho lhes fez sinal que pousassem os arcos.E eles os depuseram.Mas não pôde deles haver fala nem entendimento que aproveitasse, por o mar quebrar na costa.Somente arremessou-lhe um barrete vermelho e uma carapuça de linho que levava na cabeça, e um sombreiro preto.E um deles lhe arremessou um sombreiro de penas de ave, compridas, com uma copazinha de penas vermelhas e pardas, como de papagaio.E outro lhe deu um ramal grande de continhas brancas, miúdas que querem parecer de aljôfar, as quais peças creio que o Capitão manda a Vossa Alteza.E com isto se volveu às naus por ser tarde e não poder haver deles mais fala, por causa do mar.À noite seguinte ventou tanto sueste com chuvaceiros que fez caçar as naus.E especialmente a Capitaina.E sexta pela manhã, às oito horas, pouco mais ou menos, por conselho dos pilotos, mandou o Capitão levantar ancoras e fazer vela.E fomos de longo da costa, com os batéis e esquifes amarrados na popa, em direção norte, para ver se achávamos alguma abrigada e bom pouso, onde nós ficássemos, para tomar água e lenha.Não por nos já minguar, mas por nos prevenirmos aqui.E quando fizemos vela estariam já na praia assentados perto do rio obra de sessenta ou setenta homens que se haviam juntado ali aos poucos.Fomos ao longo, e mandou o Capitão aos navios pequenos que fossem mais chegados à terra e, se achassem pouso seguro para as naus, que amainassem.E velejando nós pela costa, na distância de dez léguas do sítio onde tínhamos levantado ferro, acharam os ditos navios pequenos um recife com um porto dentro, muito bom e muito seguro, com uma mui larga entrada.E meteram-se dentro e amainaram.E as naus foram-se chegando, atrás deles.E um pouco antes de sol-pôsto amainaram também, talvez a uma légua do recife, e ancoraram a onze braças.E estando Afonso Lopez, nosso piloto, em um daqueles navios pequenos, foi, por mandado do Capitão, por ser homem vivo e destro para isso, meter-se logo no esquife a sondar o porto dentro.E tomou dois daqueles homens da terra que estavam numa almadia: mancebos e de bons corpos.Um deles trazia um arco, e seis ou sete setas.E na praia andavam muitos com seus arcos e setas; mas não os aproveitou.Logo, já de noite, levou-os à Capitaina, onde foram recebidos com muito prazer e festa.A feição deles é serem pardos, um tanto avermelhados, de bons rostos e bons narizes, bem feitos.Andam nus, sem cobertura alguma.Nem fazem mais caso de encobrir ou deixa de encobrir suas vergonhas do que de mostrar a cara.Acerca disso são de grande inocência.Ambos traziam o beiço de baixo furado e metido nele um osso verdadeiro, de comprimento de uma mão travessa, e da grossura de um fuso de algodão, agudo na ponta como um furador.Metem-nos pela parte de dentro do beiço; e a parte que lhes fica entre o beiço e os dentes é feita a modo de roque de xadrez.E trazem-no ali encaixado de sorte que não os magoa, nem lhes põe estorvo no falar, nem no comer e beber.Os cabelos deles são corredios.E andavam tosquiados, de tosquia alta antes do que sobre-pente, de boa grandeza, rapados todavia por cima das orelhas.E um deles trazia por baixo da solapa, de fonte a fonte, na parte detrás, uma espécie de cabeleira, de penas de ave amarela, que seria do comprimento de um coto, mui basta e mui cerrada, que lhe cobria o toutiço e as orelhas.E andava pegada aos cabelos, pena por pena, com uma confeição branda como, de maneira tal que a cabeleira era mui redonda e mui basta, e mui igual, e não fazia míngua mais lavagem para a levantar.O Capitão, quando eles vieram, estava sentado em uma cadeira, aos pés uma alcatifa por estrado; e bem vestido, com um colar de ouro, mui grande, ao pescoço.E Sancho de Tovar, e Simão de Miranda, e Nicolau Coelho, e Aires Corrêa, e nós outros que aqui na nau com ele íamos, sentados no chão, nessa alcatifa.Acenderam-se tochas.E eles entraram.Mas nem sinal de cortesia fizeram, nem de falar ao Capitão; nem a alguém.Todavia um deles fitou o colar do Capitão, e começou a fazer acenos com a mão em direção à terra, e depois para o colar, como se quisesse dizer-nos que havia ouro na terra.E também olhou para um castiçal de prata e assim mesmo acenava para a terra e novamente para o castiçal, como se lá também houvesse prata!Mostraram-lhes um papagaio pardo que o Capitão traz consigo; tomaram-no logo na mão e acenaram para a terra, como se os houvesse ali.Mostraram-lhes um carneiro; não fizeram caso dele.Mostraram-lhes uma galinha; quase tiveram medo dela, e não lhe queriam pôr a mão.Depois lhe pegaram, mas como espantados.Deram-lhes ali de comer: pão e peixe cozido, confeitos, fartéis, mel, figos passados.Não quiseram comer daquilo quase nada; e se provavam alguma coisa, logo a lançavam fora.Trouxeram-lhes vinho em uma taça; mal lhe puseram a boca; não gostaram dele nada, nem quiseram mais.Trouxeram-lhes água em uma albarrada, provaram cada um o seu bochecho, mas não beberam; apenas lavaram as bocas e lançaram-na fora.Viu um deles umas contas de rosário, brancas; fez sinal que lhas dessem, e folgou muito com elas, e lançou-as ao pescoço; e depois tirou-as e meteu-as em volta do braço, e acenava para a terra e novamente para as contas e para o colar do Capitão, como se dariam ouro por aquilo.Isto tomávamos nós nesse sentido, por assim o desejarmos!Mas se ele queria dizer que levaria as contas e mais o colar, isto não queríamos nós entender, por que lho não havíamos de dar!E depois tornou as contas a quem lhas dera.E então estiraram-se de costas na alcatifa, a dormir sem procurarem maneiras de encobrir suas vergonhas, as quais não eram fanadas; e as cabeleiras delas estavam bem rapadas e feitas.O Capitão mandou pôr por baixo da cabeça de cada um seu coxim; e o da cabeleira esforçava-se por não a estragar.E deitaram um manto por cima deles; e consentindo, aconchegaram-se e adormeceram.Sábado pela manhã mandou o Capitão fazer vela, fomos demandar a entrada, a qual era mui larga e tinha seis a sete braças de fundo.E entraram todas as naus dentro, e ancoraram em cinco ou seis braças — ancoradouro que é tão grande e tão formoso de dentro, e tão seguro que podem ficar nele mais de duzentos navios e naus.E tanto que as naus foram distribuídas e ancoradas, vieram os capitães todos a esta nau do Capitão-mor.<mark>E daqui mandou o Capitão que Nicolau Coelho e Bartolomeu Dias fossem em terra e levassem aqueles dois homens, e os deixassem ir com seu arco e setas, aos quais mandou dar a cada um uma camisa nova e uma carapuça vermelha e um rosário de contas brancas de osso, que foram levando nos braços, e um cascavel e uma campainha.</mark>E mandou com eles, para lá ficar, um mancebo degredado, criado de dom João Telo, de nome Afonso Ribeiro, para lá andar com eles e saber de seu viver e maneiras.E a mim mandou que fosse com Nicolau Coelho.Fomos assim de frecha direitos à praia.Ali acudiram logo perto de duzentos homens, todos nus, com arcos e setas nas mãos.Aqueles que nós levamos acenaram-lhes que se afastassem e depusessem os arcos.E eles os depuseram.Mas não se afastaram muito.E mal tinham pousado seus arcos quando saíram os que nós levávamos, e o mancebo degredado com eles.E saídos não pararam mais; nem esperavam um pelo outro, mas antes corriam a quem mais correria.E passaram um rio que aí corre, de água doce, de muita água que lhes dava pela braga.E muitos outros com eles.E foram assim correndo para além do rio entre umas moitas de palmeiras onde estavam outros.E ali pararam.E naquilo tinha ido o degredado com um homem que, logo ao sair do batel, o agasalhou e levou até lá.Mas logo o tornaram a nós.E com ele vieram os outros que nós leváramos, os quais vinham já nus e sem carapuças.E então se começaram de chegar muitos; e entravam pela beira do mar para os batéis, até que mais não podiam.E traziam cabaças d'água, e tomavam alguns barris que nós levávamos e enchiam-nos de água e traziam-nos aos batéis.Não que eles de todo chegassem a bordo do batel.Mas junto a ele, lançavam-nos da mão.E nós tomávamo-los.E pediam que lhes dessem alguma coisa.Levava Nicolau Coelho cascavéis e manilhas.E a uns dava um cascavel, e a outros uma manilha, de maneira que com aquela encarna quase que nos queriam dar a mão.Davam-nos daqueles arcos e setas em troca de sombreiros e carapuças de linho, e de qualquer coisa que a gente lhes queria dar.Dali se partiram os outros, dois mancebos, que não os vimos mais.Dos que ali andavam, muitos — quase a maior parte —traziam aqueles bicos de osso nos beiços.E alguns, que andavam sem eles, traziam os beiços furados e nos buracos traziam uns espelhos de pau, que pareciam espelhos de borracha.E alguns deles traziam três daqueles bicos, a saber um no meio, e os dois nos cabos.E andavam lá outros, quartejados de cores, a saber metade deles da sua própria cor, e metade de tintura preta, um tanto azulada; e outros quartejados d'escaques.Ali andavam entre eles três ou quatro moças, bem novinhas e gentis, com cabelos muito pretos e compridos pelas costas; e suas vergonhas, tão altas e tão cerradinhas e tão limpas das cabeleiras que, de as nós muito bem olharmos, não se envergonhavam.Ali por então não houve mais fala ou entendimento com eles, por a barbana deles ser tamanha que se não entendia nem ouvia ninguém.Acenamos-lhes que se fossem.E assim o fizeram e passaram-se para além do rio.E saíram três ou quatro homens nossos dos batéis, e encheram não sei quantos barris d'água que nós levávamos.E tornamo-nos às naus.E quando assim vínhamos, acenaram-nos que voltássemos.Voltamos, e eles mandaram o degredado e não quiseram que ficasse lá com eles, o qual levava uma bacia pequena e duas ou três carapuças vermelhas para lá as dar ao senhor, se o lá houvesse.Não trataram de lhe tirar coisa alguma, antes mandaram-no com tudo.Mas então Bartolomeu Dias o fez outra vez tornar, que lhe desse aquilo.E ele tornou e deu aquilo, em vista de nós, a aquele que o da primeira agasalhara.E então veio-se, e nós levamo-lo.Esse que o agasalhou era já de idade, e andava por galanteria, cheio de penas, pegadas pelo corpo, que parecia seteado como São Sebastião.Outros traziam carapuças de penas amarelas; e outros, de vermelhas; e outros de verdes.E uma daquelas moças era toda tingida de baixo a cima, daquela tintura e certo era tão bem feita e tão redonda, e sua vergonha tão graciosa que a muitas mulheres de nossa terra, vendo-lhe tais feições envergonhara, por não terem as suas como ela.Nenhum deles era fanado, mas todos assim como nós.E com isto nos tornamos, e eles foram-se.À tarde saiu o Capitão-mor em seu batel com todos nós outros capitães das naus em seus batéis a folgar pela baía, perto da praia.Mas ninguém saiu em terra, por o Capitão o não querer, apesar de ninguém estar nela.Apenas saiu — ele com todos nós — em um ilhéu grande que está na baía, o qual, aquando baixamar, fica mui vazio.Com tudo está de todas as partes cercado de água, de sorte que ninguém lá pode ir, a não ser de barco ou a nado.Ali folgou ele, e todos nós, bem uma hora e meia.E pescaram lá, andando alguns marinheiros com um chinchorro; e mataram peixe miúdo, não muito.E depois volvemo-nos às naus, já bem noite.A Primeira Missa no Brasil (1861), pintura de Victor Meirelles.Ao domingo de Pascoela pela manhã, determinou o Capitão ir ouvir missa e sermão naquele ilhéu.E mandou a todos os capitães que se arranjassem nos batéis e fossem com ele.E assim foi feito.Mandou armar um pavilhão naquele ilhéu, e dentro levantar um altar mui bem arranjado.<mark>E ali com todos nós outros fez dizer missa, a qual disse o padre frei Henrique, em voz entoada, e oficiada com aquela mesma voz pelos outros padres e sacerdotes que todos assistiram, a qual missa, segundo meu parecer, foi ouvida por todos com muito prazer e devoção.</mark>Ali estava com o Capitão a bandeira de Cristo, com que saíra de Belém, a qual esteve sempre bem alta, da parte do Evangelho.Acabada a missa, desvestiu-se o padre e subiu a uma cadeira alta; e nós todos lançados por essa areia.E pregou uma solene e proveitosa pregação, da história evangélica; e no fim tratou da nossa vida, e do achamento desta terra, referindo-se à Cruz, sob cuja obediência viemos, que veio muito a propósito, e fez muita devoção.Enquanto assistimos à missa e ao sermão, estaria na praia outra tanta gente, pouco mais ou menos, como a de ontem, com seus arcos e setas, e andava folgando.E olhando-nos, sentaram.E depois de acabada a missa, quando nós sentados atendíamos a pregação, levantaram-se muitos deles e tangeram corno ou buzina e começaram a saltar e dançar um pedaço.E alguns deles se metiam em almadias — duas ou três que lá tinham — as quais não são feitas como as que eu vi; apenas são três traves, atadas juntas.E ali se metiam quatro ou cinco, ou esses que queriam, não se afastando quase nada da terra, só até onde podiam tomar pé.Acabada a pregação encaminhou-se o Capitão, com todos nós, para os batéis, com nossa bandeira alta.Embarcamos e fomos indo todos em direção à terra para passarmos ao longo por onde eles estavam, indo na dianteira, por ordem do Capitão, Bartolomeu Dias em seu esquife, com um pau de uma almadia que lhes o mar levara, para o entregar a eles.E nós todos trás dele, a distância de um tiro de pedra.Como viram o esquife de Bartolomeu Dias, chegaram-se logo todos à água, metendo-se nela até onde mais podiam.Acenaram-lhes que pousassem os arcos e muitos deles os iam logo pôr em terra; e outros não os punham.Andava lá um que falava muito aos outros, que se afastassem.Mas não já que a mim me parecesse que lhe tinham respeito ou medo.Este que os assim andava afastando trazia seu arco e setas.Estava tinto de tintura vermelha pelos peitos e costas e pelos quadris, coxas e pernas até baixo, mas os vazios com a barriga e estômago eram de sua própria cor.E a tintura era tão vermelha que a água lha não comia nem desfazia.Antes, quando saía da água, era mais vermelho.Saiu um homem do esquife de Bartolomeu Dias e andava no meio deles, sem implicarem nada com ele, e muito menos ainda pensavam em fazer-lhe mal.Apenas lhe davam cabaças d'água; e acenavam aos do esquife que saíssem em terra.Com isto se volveu Bartolomeu Dias ao Capitão.E viemo-nos às naus, a comer, tangendo trombetas e gaitas, sem os mais constranger.E eles tornaram-se a sentar na praia, e assim por então ficaram.Neste ilhéu, onde fomos ouvir missa e sermão, espraia muito a água e descobre muita areia e muito cascalho.Enquanto lá estávamos foram alguns buscar marisco e não no acharam.Mas acharam alguns camarões grossos e curtos, entre os quais vinha um muito grande e muito grosso; que em nenhum tempo o vi tamanho.Também acharam cascas de berbigões e de amêijoas, mas não toparam com nenhuma peça inteira.E depois de termos comido vieram logo todos os capitães a esta nau, por ordem do Capitão-mor, com os quais ele se aportou; e eu na companhia.<mark>E perguntou a todos se nos parecia bem mandar a nova do achamento desta terra a Vossa Alteza pelo navio dos mantimentos, para a melhor mandar descobrir e saber dela mais do que nós podíamos saber, por irmos na nossa viagem.</mark>E entre muitas falas que sobre o caso se fizeram foi dito, por todos ou a maior parte, que seria muito bem.E nisto concordaram.<mark>E logo que a resolução foi tomada, perguntou mais, se seria bem tomar aqui por força um par destes homens para os mandar a Vossa Alteza, deixando aqui em lugar deles outros dois destes degredados.</mark><mark>E concordaram em que não era necessário tomar por força homens, porque costume era dos que assim à força levavam para alguma parte dizerem que há de tudo quanto lhes perguntam; e que melhor e muito melhor informação da terra dariam dois homens desses degredados que aqui deixássemos do que eles dariam se os levassem por ser gente que ninguém entende.</mark>Nem eles cedo aprenderiam a falar para o saberem tão bem dizer que muito melhor estoutros o não digam quando cá Vossa Alteza mandar.E que portanto não cuidássemos de aqui por força tomar ninguém, nem fazer escândalo; mas sim, para os de todo amansar e apaziguar, unicamente de deixar aqui os dois degredados quando daqui partíssemos.E assim ficou determinado por parecer melhor a todos.Acabado isto, disse o Capitão que fôssemos nos batéis em terra.E ver-se-ia bem, quejando era o rio.Mas também para folgarmos.Fomos todos nos batéis em terra, armados; e a bandeira conosco.Eles andavam ali na praia, à boca do rio, para onde nós íamos; e, antes que chegássemos, pelo ensino que dantes tinham, puseram todos os arcos, e acenaram que saíssemos.Mas, tanto que os batéis puseram as proas em terra, passaram-se logo todos além do rio, o qual não é mais ancho que um jogo de mancal.E tanto que desembarcamos, alguns dos nossos passaram logo o rio, e meteram-se entre eles.E alguns aguardavam; e outros se afastavam.Com tudo, a coisa era de maneira que todos andavam misturados.Eles davam desses arcos com suas setas por sombreiros e carapuças de linho, e por qualquer coisa que lhes davam.Passaram além tantos dos nossos e andaram assim misturados com eles, que eles se esquivavam, e afastavam-se; e iam alguns para cima, onde outros estavam.E então o Capitão fez que o tomassem ao colo dois homens e passou o rio, e fez tornar a todos.A gente que ali estava não seria mais que aquela do costume.Mas logo que o Capitão chamou todos para trás, alguns se chegaram a ele, não por o reconhecerem por Senhor, mas porque a gente, nossa, já passava para aquém do rio.Ali falavam e traziam muitos arcos e continhas, daquelas já ditas, e resgatavam-nas por qualquer coisa, de tal maneira que os nossos levavam dali para as naus muitos arcos, e setas e contas.E então tornou-se o Capitão para aquém do rio.E logo acudiram muitos à beira dele.Ali veríeis galantes, pintados de preto e vermelho, e quartejados, assim pelos corpos como pelas pernas, que, certo, assim pareciam bem.Também andavam entre eles quatro ou cinco mulheres, novas, que assim nuas, não pareciam mal.Entre elas andava uma, com uma coxa, do joelho até o quadril e a nádega, toda tingida daquela tintura preta; e todo o resto da sua cor natural.Outra trazia ambos os joelhos com as curvas assim tintas, e também os colos dos pés; e suas vergonhas tão nuas, e com tanta inocência assim descobertas, que não havia nisso desvergonha nenhuma.Também andava lá outra mulher, nova, com um menino ou menina, atado com um pano aos peitos, de modo que não se lhe viam senão as perninhas.Mas nas pernas da mãe, e no resto, não havia pano algum.Em seguida o Capitão foi subindo ao longo do rio, que corre rente à praia.E ali esperou por um velho que trazia na mão uma pá de almadia.Falou, enquanto o Capitão estava com ele, na presença de todos nós; mas ninguém o entendia, nem ele a nós, por mais coisas que a gente lhe perguntava com respeito a ouro, porque desejávamos saber se o havia na terra.Trazia este velho o beiço tão furado que lhe cabia pelo buraco um grosso dedo polegar.E trazia metido no buraco uma pedra verde, de nenhum valor, que fechava por fora aquele buraco.E o Capitão lha fez tirar.E ele não sei que diabo falava e ia com ela para a boca do Capitão para lha meter.Estivemos rindo um pouco e dizendo chalaças sobre isso.E então enfadou-se o Capitão, e deixou-o.E um dos nossos deu-lhe pela pedra um sombreiro velho; não por ela valer alguma coisa, mas para amostra.E depois houve-a o Capitão, creio, para mandar com as outras coisas a Vossa Alteza.Andamos por aí vendo o ribeiro, o qual é de muita água e muito boa.Ao longo dele há muitas palmeiras, não muito altas; e muito bons palmitos.Colhemos e comemos muitos deles.Depois tornou-se o Capitão para baixo para a boca do rio, onde tínhamos desembarcado.E além do rio andavam muitos deles dançando e folgando, uns diante os outros, sem se tomarem pelas mãos.E faziam-no bem.Passou-se então para a outra banda do rio Diogo Dias, que fora almoxarife de Sacavém, o qual é homem gracioso e de prazer.E levou consigo um gaiteiro nosso com sua gaita.E meteu-se a dançar com eles, tomando-os pelas mãos; e eles folgavam e riam e andavam com ele muito bem ao som da gaita.Depois de dançarem fez ali muitas voltas ligeiras, andando no chão, e salto real, de que se eles espantavam e riam e folgavam muito.E conquanto com aquilo os segurou e afagou muito, tomavam logo uma esquiveza como de animais montezes, e foram-se para cima.E então passou o rio o Capitão com todos nós, e fomos pela praia, de longo, ao passo que os batéis iam rentes à terra.E chegamos a uma grande lagoa de água doce que está perto da praia, porque toda aquela ribeira do mar é apaulada por cima e sai a água por muitos lugares.E depois de passarmos o rio, foram uns sete ou oito deles meter-se entre os marinheiros que se recolhiam aos batéis.E levaram dali um tubarão que Bartolomeu Dias matou.E levavam-lho; e lançou-o na praia.Bastará que até aqui, como quer que se lhes em alguma parte amansassem, logo de uma mão para outra se esquivavam, como pardais do cevadouro.Ninguém não lhes ousa falar de rijo para não se esquivarem mais.E tudo se passa como eles querem — para os bem amansarmos !Ao velho com quem o Capitão havia falado, deu-lhe uma carapuça vermelha.E com toda a conversa que com ele houve, e com a carapuça que lhe deu tanto que se despediu e começou a passar o rio, foi-se logo recatando.E não quis mais tornar do rio para aquém.<mark>Os outros dois o Capitão teve nas naus, aos quais deu o que já ficou dito, nunca mais aqui apareceram — fatos de que deduzo que é gente bestial e de pouco saber, e por isso tão esquiva.</mark>Mas apesar de tudo isso andam bem curados, e muito limpos.E naquilo ainda mais me convenço que são como aves, ou alimárias montezinhas, as quais o ar faz melhores penas e melhor cabelo que às mansas, porque os seus corpos são tão limpos e tão gordos e tão formosos que não pode ser mais!E isto me faz presumir que não tem casas nem moradias em que se recolham; e o ar em que se criam os faz tais.Nós pelo menos não vimos até agora nenhumas casas, nem coisa que se pareça com elas.Mandou o Capitão aquele degredado, Afonso Ribeiro, que se fosse outra vez com eles.E foi; e andou lá um bom pedaço, mas a tarde regressou, que o fizeram eles vir: e não o quiseram lá consentir.E deram-lhe arcos e setas; e não lhe tomaram nada do seu.Antes, disse ele, que lhe tomara um deles umas continhas amarelas que levava e fugia com elas, e ele se queixou e os outros foram logo após ele, e lhas tomaram e tornaram-lhas a dar; e então mandaram-no vir.Disse que não vira lá entre eles senão umas choupaninhas de rama verde e de feteiras muito grandes, como as de Entre Douro e Minho.E assim nostornamos às naus, já quase noite, a dormir.Segunda-feira, depois de comer, saímos todos em terra a tomar água.Ali vieram então muitos; mas não tantos como as outras vezes.E traziam já muito poucos arcos.E estiveram um pouco afastados de nós; mas depois pouco a pouco misturaram-se conosco; e abraçavam-nos e folgavam; mas alguns deles se esquivavam logo.Ali davam alguns arcos por folhas de papel e por alguma carapucinha velha e por qualquer coisa.E de tal maneira se passou a coisa que bem vinte ou trinta pessoas das nossas se foram com eles para onde outros muitos deles estavam com moças e mulheres.<mark>E trouxeram de lá muitos arcos e barretes de penas de aves, uns verdes, outros amarelos, dos quais creio que o Capitão há de mandar uma amostra a Vossa Alteza.</mark>E segundo diziam esses que lá tinham ido, brincaram com eles.<mark>Neste dia os vimos mais de perto e mais à nossa vontade, por andarmos quase todos misturados: uns andavam quartejados daquelas tinturas, outros de metades, outros de tanta feição como em pano de ras, e todos com os beiços furados, muitos com os ossos neles, e bastantes sem ossos.</mark>Alguns traziam uns ouriços verdes, de árvores, que na cor queriam parecer de castanheiras, embora fossem muito mais pequenos.E estavam cheios de uns grãos vermelhos, pequeninos que, esmagando-se entre os dedos, se desfaziam na tinta muito vermelha de que andavam tingidos.E quanto mais se molhavam, tanto mais vermelhos ficavam.Todos andam rapados até por cima das orelhas; assim mesmo de sobrancelhas e pestanas.Trazem todos as testas, de fonte a fonte, tintas de tintura preta, que parece uma fita preta da largura de dois dedos.E o Capitão mandou aquele degredado Afonso Ribeiro e a outros dois degredados que fossem meter-se entre eles; e assim mesmo a Diogo Dias, por ser homem alegre, com que eles folgavam.E aos degredados ordenou que ficassem lá esta noite.Foram-se lá todos; e andaram entre eles.E segundo depois diziam, foram bem uma légua e meia a uma povoação, em que haveria nove ou dez casas, as quais diziam que eram tão compridas, cada uma, como esta nau capitaina.E eram de madeira, e das ilhargas de tábuas, e cobertas de palha, de razoável altura; e todas de um só espaço, sem repartição alguma, tinham de dentro muitos esteios; e de esteio a esteio uma rede atada com cabos em cada esteio, altas, em que dormiam.E de baixo, para se aquentarem, faziam seus fogos.E tinha cada casa duas portas pequenas, uma numa extremidade, e outra na oposta.E diziam que em cada casa se recolhiam trinta ou quarenta pessoas, e que assim os encontraram; e que lhes deram de comer dos alimentos que tinham, a saber muito inhame, e outras sementes que na terra dá, que eles comem.E como se fazia tarde fizeram-nos logo todos tornar; e não quiseram que lá ficasse nenhum.E ainda, segundo diziam, queriam vir com eles.<mark>Resgataram lá por cascavéis e outras coisinhas de pouco valor, que levavam, papagaios vermelhos, muito grandes e formosos, e dois verdes pequeninos, e carapuças de penas verdes, e um pano de penas de muitas cores, espécie de tecido assaz belo, segundo Vossa Alteza todas estas coisas verá, porque o Capitão vo-las há de mandar, segundo ele disse.</mark>E com isto vieram; e nós tornamo-nos às naus.Terça-feira, depois de comer, fomos em terra, fazer lenha, e para lavar roupa.Estavam na praia, quando chegamos, uns sessenta ou setenta, sem arcos e sem nada.Tanto que chegamos, vieram logo para nós, sem se esquivarem.E depois acudiram muitos, que seriam bem duzentos, todos sem arcos.E misturaram-se todos tanto conosco que uns nos ajudavam a acarretar lenha e metê-las nos batéis.E lutavam com os nossos, e tomavam com prazer.E enquanto fazíamos a lenha, construíam dois carpinteiros uma grande cruz de um pau que se ontem para isso cortara.Muitos deles vinham ali estar com os carpinteiros.E creio que o faziam mais para verem a ferramenta de ferro com que a faziam do que para verem a cruz, porque eles não tem coisa que de ferro seja, e cortam sua madeira e paus com pedras feitas como cunhas, metidas em um pau entre duas talas, mui bem atadas e por tal maneira que andam fortes, porque lhas viram lá.Era já a conversação deles conosco tanta que quase nos estorvavam no que havíamos de fazer.E o Capitão mandou a dois degredados e a Diogo Dias que fossem lá à aldeia e que de modo algum viessem a dormir às naus, ainda que os mandassem embora.E assim se foram.Enquanto andávamos nessa mata a cortar lenha, atravessavam alguns papagaios essas árvores; verdes uns, e pardos, outros, grandes e pequenos, de sorte que me parece que haverá muitos nesta terra.Todavia os que vi não seriam mais que nove ou dez, quando muito.Outras aves não vimos então, a não ser algumas pombas-seixeiras, e pareceram-me maiores bastante do que as de Portugal.Vários diziam que viram rolas, mas eu não as vi.Todavia segundo os arvoredos são mui muitos e grandes, e de infinitas espécies, não duvido que por esse sertão haja muitas aves!E cerca da noite nós volvemos para as naus com nossa lenha.Eu creio, Senhor, que não dei ainda conta aqui a Vossa Alteza do feitio de seus arcos e setas.Os arcos são pretos e compridos, e as setas compridas; e os ferros delas são canas aparadas, conforme Vossa Alteza verá alguns que creio que o Capitão a Ela há de enviar.Quarta-feira não fomos em terra, porque o Capitão andou todo o dia no navio dos mantimentos a despejá-lo e fazer levar às naus isso que cada um podia levar.Eles acudiram à praia, muitos, segundo das naus vimos.Seriam perto de trezentos, segundo Sancho de Tovar que para lá foi.Diogo Dias e Afonso Ribeiro, o degredado, aos quais o Capitão ontem ordenara que de toda maneira lá dormissem, tinham voltado já de noite, por eles não quererem que lá ficassem.E traziam papagaios verdes; e outras aves pretas, quase como pegas, com a diferença de terem o bico branco e rabos curtos.E quando Sancho de Tovar recolheu à nau, queriam vir com ele, alguns; mas ele não admitiu senão dois mancebos, bem dispostos e homens de prol.Mandou pensar e curá-los mui bem essa noite.E comeram toda a ração que lhes deram, e mandou dar-lhes cama de lençóis, segundo ele disse.E dormiram e folgaram aquela noite.E não houve mais este dia que para escrever seja.Quinta-feira, derradeiro de abril, comemos logo, quase pela manhã, e fomos em terra por mais lenha e água.E em querendo o Capitão sair desta nau, chegou Sancho de Tovar com seus dois hóspedes.E por ele ainda não ter comido, puseram-lhe toalhas, e veio-lhe comida.E comeu.Os hóspedes, sentaram-no cada um em sua cadeira.E de tudo quanto lhes deram, comeram mui bem, especialmente lacão cozido frio, e arroz.Não lhes deram vinho por Sancho de Tovar dizer que o não bebiam bem.Acabado o comer, metemo-nos todos no batel, e eles conosco.Deu um grumete a um deles uma armadura grande de porco montês, bem revolta.E logo que a tomou meteu-a no beiço; e porque se lhe não queria segurar, deram-lhe uma pouca de cera vermelha.E ele ajeitou-lhe seu adereço da parte de trás de sorte que segurasse, e meteu-a no beiço, assim revolta para cima; e ia tão contente com ela, como se tivesse uma grande jóia.E tanto que saímos em terra, foi-se logo com ela.E não tornou a aparecer lá.Andariam na praia, quando saímos, oito ou dez deles; e de aí a pouco começaram a vir.E parece-me que viriam este dia a praia quatrocentos ou quatrocentos e cinqüenta.Alguns deles traziam arcos e setas; e deram tudo em troca de carapuças e por qualquer coisa que lhes davam.Comiam conosco do que lhes dávamos, e alguns deles bebiam vinho, ao passo que outros o não podiam beber.Mas quer-me parecer que, se os acostumarem, o hão de beber de boa vontade!Andavam todos tão bem dispostos e tão bem feitos e galantes com suas pinturas que agradavam.Acarretavam dessa lenha quanta podiam, com mil boas vontades, e levavam-na aos batéis.E estavam já mais mansos e seguros entre nós do que nós estávamos entre eles.Foi o Capitão com alguns de nós um pedaço por este arvoredo até um ribeiro grande, e de muita água, que ao nosso parecer é o mesmo que vem ter à praia, em que nós tomamos água.Ali descansamos um pedaço, bebendo e folgando, ao longo dele, entre esse arvoredo que é tanto e tamanho e tão basto e de tanta qualidade de folhagem que não se pode calcular.Há lá muitas palmeiras, de que colhemos muitos e bons palmitos.Ao sairmos do batel, disse o Capitão que seria bom irmos em direitura à cruz que estava encostada a uma árvore, junto ao rio, a fim de ser colocada amanhã, sexta-feira, e que nos puséssemos todos de joelhos e a beijássemos para eles verem o acatamento que lhe tínhamos.E assim fizemos.E a esses dez ou doze que lá estavam, acenaram-lhes que fizessem o mesmo; e logo foram todos beijá-la.Parece-me gente de tal inocência que, se nós entendêssemos a sua fala e eles a nossa, seriam logo cristãos, visto que não têm nem entendem crença alguma, segundo as aparências.E portanto se os degredados que aqui hão de ficar aprenderem bem a sua fala e os entenderem, não duvido que eles, segundo a santa tenção de Vossa Alteza, se farão cristãos e hão de crer na nossa santa fé, à qual praza a Nosso Senhor que os traga, porque certamente esta gente é boa e de bela simplicidade.E imprimir-se-á facilmente neles qualquer cunho que lhe quiserem dar, uma vez que Nosso Senhor lhes deu bons corpos e bons rostos, como a homens bons.E o Ele nos para aqui trazer creio que não foi sem causa.E portanto Vossa Alteza, pois tanto deseja acrescentar a santa fé católica, deve cuidar da salvação deles.E prazerá a Deus que com pouco trabalho seja assim!Eles não lavram nem criam.Nem há aqui boi ou vaca, cabra, ovelha ou galinha, ou qualquer outro animal que esteja acostumado ao viver do homem.E não comem senão deste inhame, de que aqui há muito, e dessas sementes e frutos que a terra e as árvores de si deitam.E com isto andam tais e tão rijos e tão nédios que o não somos nós tanto, com quanto trigo e legumes comemos.Nesse dia, enquanto ali andavam, dançaram e bailaram sempre com os nossos, ao som de um tamboril nosso, como se fossem mais amigos nossos do que nós seus.Se lhes a gente acenava, se queriam vir às naus, aprontavam-se logo para isso, de modo tal, que se os convidáramos a todos, todos vieram.Porém não levamos esta noite às naus senão quatro ou cinco; a saber, o Capitão-mor, dois; e Simão de Miranda, um que já trazia por pagem; e Aires Gomes a outro, pagem também.Os que o Capitão trazia, era um deles um dos seus hóspedes que lhe haviam trazido a primeira vez quando aqui chegamos — o qual veio hoje aqui vestido na sua camisa, e com ele um seu irmão; e foram esta noite mui bem agasalhados tanto de comida como de cama, de colchões e lençóis, para os mais amansar.E hoje que é sexta-feira, primeiro dia de maio, pela manhã, saímos em terra com nossa bandeira; e fomos desembarcar acima do rio, contra o sul onde nos pareceu que seria melhor arvorar a cruz, para melhor ser vista.E ali marcou o Capitão o sítio onde haviam de fazer a cova para a fincar.E enquanto a iam abrindo, ele com todos nós outros fomos pela cruz, rio abaixo onde ela estava.E com os religiosos e sacerdotes que cantavam, à frente, fomos trazendo-a dali, a modo de procissão.Eram já aí quantidade deles, uns setenta ou oitenta; e quando nos assim viram chegar, alguns se foram meter debaixo dela, ajudar-nos.Passamos o rio, ao longo da praia; e fomos colocá-la onde havia de ficar, que será obra de dois tiros de besta do rio.Andando-se ali nisto, viriam bem cento cinqüenta, ou mais.Plantada a cruz, com as armas e a divisa de Vossa Alteza, que primeiro lhe haviam pregado, armaram altar ao pé dela.Ali disse missa o padre frei Henrique, a qual foi cantada e oficiada por esses já ditos.Ali estiveram conosco, a ela, perto de cinqüenta ou sessenta deles, assentados todos de joelho assim como nós.E quando se veio ao Evangelho, que nos erguemos todos em pé, com as mãos levantadas, eles se levantaram conosco, e alçaram as mãos, estando assim até se chegar ao fim; e então tornaram-se a assentar, como nós.E quando levantaram a Deus, que nos pusemos de joelhos, eles se puseram assim como nós estávamos, com as mãos levantadas, e em tal maneira sossegados que certifico a Vossa Alteza que nos fez muita devoção.Estiveram assim conosco até acabada a comunhão; e depois da comunhão, comungaram esses religiosos e sacerdotes; e o Capitão com alguns de nós outros.E alguns deles, por o Sol ser grande, levantaram-se enquanto estávamos comungando, e outros estiveram e ficaram.Um deles, homem de cinqüenta ou cinqüenta e cinco anos, se conservou ali com aqueles que ficaram.Esse, enquanto assim estávamos, juntava aqueles que ali tinham ficado, e ainda chamava outros.E andando assim entre eles, falando-lhes, acenou com o dedo para o altar, e depois mostrou com o dedo para o céu, como se lhes dissesse alguma coisa de bem; e nós assim o tomamos!Acabada a missa, tirou o padre a vestimenta de cima, e ficou na alva; e assim se subiu, junto ao altar, em uma cadeira; e ali nos pregou o Evangelho e dos Apóstolos cujo é o dia, tratando no fim da pregação desse vosso prosseguimento tão santo e virtuoso, que nos causou mais devoção.Esses que estiveram sempre à pregação estavam assim como nós olhando para ele.E aquele que digo, chamava alguns, que viessem ali.Alguns vinham e outros iam-se; e acabada a pregação, trazia Nicolau Coelho muitas cruzes de estanho com crucifixos, que lhe ficaram ainda da outra vinda.E houveram por bem que lançassem a cada um sua ao pescoço.Por essa causa se assentou o padre frei Henrique ao pé da cruz; e ali lançava a sua a todos — um a um — ao pescoço, atada em um fio, fazendo-lha primeiro beijar e levantar as mãos.Vinham a isso muitos; e lançavam-nas todas, que seriam obra de quarenta ou cinqüenta.<mark>E isto acabado — era já bem uma hora depois do meio dia — viemos às naus a comer, onde o Capitão trouxe consigo aquele mesmo que fez aos outros aquele gesto para o altar e para o céu, (e um seu irmão com ele).</mark>A aquele fez muita honra e deu-lhe uma camisa mourisca; e ao outro uma camisa destoutras.<mark>E segundo o que a mim e a todos pareceu, esta gente, não lhes falece outra coisa para ser toda cristã, do que entenderem-nos, porque assim tomavam aquilo que nos viam fazer como nós mesmos; por onde pareceu a todos que nenhuma idolatria nem adoração têm.</mark>E bem creio que, se Vossa Alteza aqui mandar quem entre eles mais devagar ande, que todos serão tornados e convertidos ao desejo de Vossa Alteza.E por isso, se alguém vier, não deixe logo de vir clérigo para os batizar; porque já então terão mais conhecimentos de nossa fé, pelos dois degredados que aqui entre eles ficam, os quais hoje também comungaram.Entre todos estes que hoje vieram não veio mais que uma mulher, moça, a qual esteve sempre à missa, à qual deram um pano com que se cobrisse; e puseram-lho em volta dela.Todavia, ao sentar-se, não se lembrava de o estender muito para se cobrir.Assim, Senhor, a inocência desta gente é tal que a de Adão não seria maior — com respeito ao pudor.Ora veja Vossa Alteza quem em tal inocência vive se se convertera, ou não, se lhe ensinarem o que pertence à sua salvação.Acabado isto, fomos perante eles beijar a cruz.E despedimo-nos e fomos comer.Creio, Senhor, que, com estes dois degredados que aqui ficam, ficarão mais dois grumetes, que esta noite se saíram em terra, desta nau, no esquife, fugidos, os quais não vieram mais.E cremos que ficarão aqui porque de manhã, prazendo a Deus fazemos nossa partida daqui.Esta terra, Senhor, parece-me que, da ponta que mais contra o sul vimos, até à outra ponta que contra o norte vem, de que nós deste porto houvemos vista, será tamanha que haverá nela bem vinte ou vinte e cinco léguas de costa.Traz ao longo do mar em algumas partes grandes barreiras, umas vermelhas, e outras brancas; e a terra de cima toda chã e muito cheia de grandes arvoredos.De ponta a ponta é toda praia... muito chã e muito formosa.Pelo sertão nos pareceu, vista do mar, muito grande; porque a estender olhos, não podíamos ver senão terra e arvoredos — terra que nos parecia muito extensa.Até agora não pudemos saber se há ouro ou prata nela, ou outra coisa de metal, ou ferro; nem lha vimos.Contudo a terra em si é de muito bons ares frescos e temperados como os de Entre-Douro-e-Minho, porque neste tempo d'agora assim os achávamos como os de lá.Águas são muitas; infinitas.Em tal maneira é graciosa que, querendo-a aproveitar, dar-se-á nela tudo; por causa das águas que tem!Contudo, o melhor fruto que dela se pode tirar parece-me que será salvar esta gente.E esta deve ser a principal semente que Vossa Alteza em ela deve lançar.E que não houvesse mais do que ter Vossa Alteza aqui esta pousada para essa navegação de Calicute bastava.Quanto mais, disposição para se nela cumprir e fazer o que Vossa Alteza tanto deseja, a saber, acrescentamento da nossa fé!E desta maneira dou aqui a Vossa Alteza conta do que nesta Vossa terra vi.E se a um pouco alonguei, Ela me perdoe.Porque o desejo que tinha de Vos tudo dizer, mo fez pôr assim pelo miúdo.E pois que, Senhor, é certo que tanto neste cargo que levo como em outra qualquer coisa que de Vosso serviço for, Vossa Alteza há de ser de mim muito bem servida, a Ela peço que, por me fazer singular mercê, mande vir da ilha de São Tomé a Jorge de Osório, meu genro — o que d'Ela receberei em muita mercê.Beijo as mãos de Vossa Alteza.Deste Porto Seguro, da Vossa Ilha da Vera Cruz, hoje, sexta-feira, primeiro dia de Maio de 1500.Sobre esta edição digital Este eBook foi gerado a partir do Wikisource,[1] biblioteca online multilíngue, feita por voluntários, comprometida em desenvolver uma coleção de publicações em copyleft de todos os gêneros: (romances, poemas, revistas e periódicos, cartas, livros técnicos etc) Nossos livros são distribuídos gratuitamente, a partir de materiais que tenham caído em domínio público ou que tenham sido disponibilizados em licenças livres.Você pode utilizar nossos materiais para quaisquer fins, inclusive comercialmente, dentro dos termos ou da Creative Commons BY-SA 3.0 [2] ou da GNU FDL,[3] à sua escolha.O Wikisource está sempre à procura de novos membros: sinta-se à vontade em participar.Apesar de nossos cuidados, é possível que este livro contenha um ou mais erros que nos passaram despercebidos.Seja por um ou por outro motivo, você pode nos contatar no nosso fórum.[4] Este livro em particular lhe foi disponibilizado a partir das pessoas por detrás destes nicknames: 555 Schultz DarwIn NMaia CommonsDelinker Get It Erico Koerich~ptwikisource Luan Tetraktys * * * ↑ http://pt.wikisource.org ↑ http://creativecommons.org/licenses/by-sa/3.0/deed.pt_BR ↑ http://www.gnu.org/copyleft/fdl.html ↑ https://pt.wikisource.org/wiki/Wikisource:Esplanada"
      ],
      "text/plain": [
       "<IPython.core.display.HTML object>"
      ]
     },
     "metadata": {},
     "output_type": "display_data"
    }
   ],
   "source": [
    "from IPython.core.display import HTML\n",
    "text = ''\n",
    "\n",
    "display(HTML(f'<h1>Text summary</h1>'))\n",
    "for sentence in sentence_list:\n",
    "  \n",
    "  if sentence in best_sentences:\n",
    "    text += str(sentence).replace(sentence, f\"<mark>{sentence}</mark>\")\n",
    "  else:\n",
    "    text += sentence\n",
    "display(HTML(f\"\"\"{text}\"\"\"))"
   ]
  },
  {
   "cell_type": "markdown",
   "id": "2b5d6620",
   "metadata": {
    "papermill": {
     "duration": 0.033466,
     "end_time": "2021-12-09T20:15:10.801976",
     "exception": false,
     "start_time": "2021-12-09T20:15:10.768510",
     "status": "completed"
    },
    "tags": []
   },
   "source": [
    "# *Conclusion*"
   ]
  },
  {
   "cell_type": "markdown",
   "id": "bce1e0ef",
   "metadata": {
    "papermill": {
     "duration": 0.033411,
     "end_time": "2021-12-09T20:15:10.870110",
     "exception": false,
     "start_time": "2021-12-09T20:15:10.836699",
     "status": "completed"
    },
    "tags": []
   },
   "source": [
    "* A interpreteção acaba por seindo um pouco subjetiva, no campo a cima best sentences eu coloquei 12, mas seria possível aumentar ainda mais o campo do resumo, caso seja possível enter o sentido do resumo pode se manterou aumentar.\n",
    "\n",
    "* Essa carata pode ter um pouco de dificuldade em sua interpretação, pois podemos perceber o emprego da função poética, uma vez que o escrivão do rei busca valorizar o seu texto na elaboração, ou seja, faz uso de figuras de linguagem e explora o sentido conotativo das palavras."
   ]
  },
  {
   "cell_type": "markdown",
   "id": "bd3373fc",
   "metadata": {
    "papermill": {
     "duration": 0.033508,
     "end_time": "2021-12-09T20:15:10.937083",
     "exception": false,
     "start_time": "2021-12-09T20:15:10.903575",
     "status": "completed"
    },
    "tags": []
   },
   "source": [
    "* The interpretation turns out to be a little subjective, in the field above best sentences I put 12, but it would be possible to increase even more the field of the abstract, if it is possible to enter the meaning of the abstract can be maintained or increased.\n",
    "\n",
    "* This carata may have a little difficulty in its interpretation, as we can see the use of the poetic function, since the king's scribe seeks to value his text in the elaboration, that is, he makes use of figures of speech and explores the connotative sense of words."
   ]
  },
  {
   "cell_type": "markdown",
   "id": "3ee2c34d",
   "metadata": {
    "papermill": {
     "duration": 0.033965,
     "end_time": "2021-12-09T20:15:11.004559",
     "exception": false,
     "start_time": "2021-12-09T20:15:10.970594",
     "status": "completed"
    },
    "tags": []
   },
   "source": [
    "# *If you find this notebook useful, support with an upvote* 👍"
   ]
  }
 ],
 "metadata": {
  "kernelspec": {
   "display_name": "Python 3",
   "language": "python",
   "name": "python3"
  },
  "language_info": {
   "codemirror_mode": {
    "name": "ipython",
    "version": 3
   },
   "file_extension": ".py",
   "mimetype": "text/x-python",
   "name": "python",
   "nbconvert_exporter": "python",
   "pygments_lexer": "ipython3",
   "version": "3.7.12"
  },
  "papermill": {
   "default_parameters": {},
   "duration": 13.71384,
   "end_time": "2021-12-09T20:15:11.748227",
   "environment_variables": {},
   "exception": null,
   "input_path": "__notebook__.ipynb",
   "output_path": "__notebook__.ipynb",
   "parameters": {},
   "start_time": "2021-12-09T20:14:58.034387",
   "version": "2.3.3"
  }
 },
 "nbformat": 4,
 "nbformat_minor": 5
}
